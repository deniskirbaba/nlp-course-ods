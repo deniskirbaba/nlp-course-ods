{
 "cells": [
  {
   "cell_type": "code",
   "execution_count": 1,
   "metadata": {
    "collapsed": true
   },
   "outputs": [],
   "source": [
    "%load_ext autoreload\n",
    "%autoreload 2\n"
   ]
  },
  {
   "cell_type": "markdown",
   "metadata": {
    "collapsed": false
   },
   "source": [
    "# Import Libraries"
   ]
  },
  {
   "cell_type": "code",
   "execution_count": 2,
   "metadata": {
    "collapsed": false
   },
   "outputs": [],
   "source": [
    "import os\n",
    "\n",
    "import pandas as pd\n",
    "from catboost import Pool, CatBoostClassifier"
   ]
  },
  {
   "cell_type": "markdown",
   "metadata": {
    "collapsed": false
   },
   "source": [
    "# Read Data"
   ]
  },
  {
   "cell_type": "code",
   "execution_count": 3,
   "metadata": {
    "collapsed": false
   },
   "outputs": [
    {
     "name": "stdout",
     "output_type": "stream",
     "text": [
      "Number of rows and columns in the train data set: (48665, 2)\n",
      "Number of rows and columns in the test data set: (12167, 1)\n"
     ]
    },
    {
     "data": {
      "text/html": [
       "<div>\n",
       "<style scoped>\n",
       "    .dataframe tbody tr th:only-of-type {\n",
       "        vertical-align: middle;\n",
       "    }\n",
       "\n",
       "    .dataframe tbody tr th {\n",
       "        vertical-align: top;\n",
       "    }\n",
       "\n",
       "    .dataframe thead th {\n",
       "        text-align: right;\n",
       "    }\n",
       "</style>\n",
       "<table border=\"1\" class=\"dataframe\">\n",
       "  <thead>\n",
       "    <tr style=\"text-align: right;\">\n",
       "      <th></th>\n",
       "      <th>rate</th>\n",
       "      <th>text</th>\n",
       "    </tr>\n",
       "  </thead>\n",
       "  <tbody>\n",
       "    <tr>\n",
       "      <th>0</th>\n",
       "      <td>4</td>\n",
       "      <td>Очень понравилось. Были в начале марта  с соба...</td>\n",
       "    </tr>\n",
       "    <tr>\n",
       "      <th>1</th>\n",
       "      <td>5</td>\n",
       "      <td>В целом магазин устраивает.\\nАссортимент позво...</td>\n",
       "    </tr>\n",
       "    <tr>\n",
       "      <th>2</th>\n",
       "      <td>5</td>\n",
       "      <td>Очень хорошо что открылась 5 ка, теперь не над...</td>\n",
       "    </tr>\n",
       "    <tr>\n",
       "      <th>3</th>\n",
       "      <td>3</td>\n",
       "      <td>Пятёрочка громко объявила о том как она заботи...</td>\n",
       "    </tr>\n",
       "    <tr>\n",
       "      <th>4</th>\n",
       "      <td>3</td>\n",
       "      <td>Тесно, вечная сутолока, между рядами трудно ра...</td>\n",
       "    </tr>\n",
       "  </tbody>\n",
       "</table>\n",
       "</div>"
      ],
      "text/plain": [
       "   rate                                               text\n",
       "0     4  Очень понравилось. Были в начале марта  с соба...\n",
       "1     5  В целом магазин устраивает.\\nАссортимент позво...\n",
       "2     5  Очень хорошо что открылась 5 ка, теперь не над...\n",
       "3     3  Пятёрочка громко объявила о том как она заботи...\n",
       "4     3  Тесно, вечная сутолока, между рядами трудно ра..."
      ]
     },
     "execution_count": 3,
     "metadata": {},
     "output_type": "execute_result"
    }
   ],
   "source": [
    "path = \"../\"\n",
    "train_data = pd.read_csv(os.path.join(path, \"train.csv\"))\n",
    "test_data = pd.read_csv(os.path.join(path, \"test.csv\"))\n",
    "print(f\"Number of rows and columns in the train data set: {train_data.shape}\")\n",
    "print(f\"Number of rows and columns in the test data set: {test_data.shape}\")\n",
    "train_data.head()"
   ]
  },
  {
   "cell_type": "code",
   "execution_count": 4,
   "metadata": {
    "collapsed": false
   },
   "outputs": [
    {
     "data": {
      "text/html": [
       "<div>\n",
       "<style scoped>\n",
       "    .dataframe tbody tr th:only-of-type {\n",
       "        vertical-align: middle;\n",
       "    }\n",
       "\n",
       "    .dataframe tbody tr th {\n",
       "        vertical-align: top;\n",
       "    }\n",
       "\n",
       "    .dataframe thead tr th {\n",
       "        text-align: left;\n",
       "    }\n",
       "\n",
       "    .dataframe thead tr:last-of-type th {\n",
       "        text-align: right;\n",
       "    }\n",
       "</style>\n",
       "<table border=\"1\" class=\"dataframe\">\n",
       "  <thead>\n",
       "    <tr>\n",
       "      <th></th>\n",
       "      <th colspan=\"4\" halign=\"left\">text</th>\n",
       "    </tr>\n",
       "    <tr>\n",
       "      <th></th>\n",
       "      <th>count</th>\n",
       "      <th>unique</th>\n",
       "      <th>top</th>\n",
       "      <th>freq</th>\n",
       "    </tr>\n",
       "    <tr>\n",
       "      <th>rate</th>\n",
       "      <th></th>\n",
       "      <th></th>\n",
       "      <th></th>\n",
       "      <th></th>\n",
       "    </tr>\n",
       "  </thead>\n",
       "  <tbody>\n",
       "    <tr>\n",
       "      <th>1</th>\n",
       "      <td>4138</td>\n",
       "      <td>4130</td>\n",
       "      <td>Грязно</td>\n",
       "      <td>3</td>\n",
       "    </tr>\n",
       "    <tr>\n",
       "      <th>2</th>\n",
       "      <td>2410</td>\n",
       "      <td>2407</td>\n",
       "      <td>Отстойный магазин</td>\n",
       "      <td>2</td>\n",
       "    </tr>\n",
       "    <tr>\n",
       "      <th>3</th>\n",
       "      <td>6126</td>\n",
       "      <td>6070</td>\n",
       "      <td>Нормально</td>\n",
       "      <td>7</td>\n",
       "    </tr>\n",
       "    <tr>\n",
       "      <th>4</th>\n",
       "      <td>9922</td>\n",
       "      <td>9763</td>\n",
       "      <td>Норм</td>\n",
       "      <td>14</td>\n",
       "    </tr>\n",
       "    <tr>\n",
       "      <th>5</th>\n",
       "      <td>26069</td>\n",
       "      <td>24804</td>\n",
       "      <td>Хороший магазин</td>\n",
       "      <td>107</td>\n",
       "    </tr>\n",
       "  </tbody>\n",
       "</table>\n",
       "</div>"
      ],
      "text/plain": [
       "       text                               \n",
       "      count unique                top freq\n",
       "rate                                      \n",
       "1      4138   4130             Грязно    3\n",
       "2      2410   2407  Отстойный магазин    2\n",
       "3      6126   6070          Нормально    7\n",
       "4      9922   9763               Норм   14\n",
       "5     26069  24804    Хороший магазин  107"
      ]
     },
     "execution_count": 4,
     "metadata": {},
     "output_type": "execute_result"
    }
   ],
   "source": [
    "train_data.groupby(\"rate\").describe()"
   ]
  },
  {
   "cell_type": "markdown",
   "metadata": {
    "collapsed": false
   },
   "source": [
    "# Preparing the data and creating Catboost model"
   ]
  },
  {
   "cell_type": "code",
   "execution_count": 5,
   "metadata": {
    "collapsed": false
   },
   "outputs": [
    {
     "name": "stdout",
     "output_type": "stream",
     "text": [
      "Learning rate set to 0.5\n",
      "0:\tlearn: 1.1143203\ttotal: 98.2ms\tremaining: 9.72s\n",
      "1:\tlearn: 1.0216381\ttotal: 153ms\tremaining: 7.52s\n",
      "2:\tlearn: 0.9782772\ttotal: 210ms\tremaining: 6.78s\n",
      "3:\tlearn: 0.9551523\ttotal: 262ms\tremaining: 6.28s\n",
      "4:\tlearn: 0.9461749\ttotal: 315ms\tremaining: 5.98s\n",
      "5:\tlearn: 0.9399748\ttotal: 368ms\tremaining: 5.76s\n",
      "6:\tlearn: 0.9328492\ttotal: 423ms\tremaining: 5.62s\n",
      "7:\tlearn: 0.9318007\ttotal: 470ms\tremaining: 5.41s\n",
      "8:\tlearn: 0.9284937\ttotal: 520ms\tremaining: 5.26s\n",
      "9:\tlearn: 0.9266864\ttotal: 567ms\tremaining: 5.1s\n",
      "10:\tlearn: 0.9243191\ttotal: 616ms\tremaining: 4.98s\n",
      "11:\tlearn: 0.9220050\ttotal: 668ms\tremaining: 4.89s\n",
      "12:\tlearn: 0.9202830\ttotal: 717ms\tremaining: 4.8s\n",
      "13:\tlearn: 0.9175563\ttotal: 772ms\tremaining: 4.74s\n",
      "14:\tlearn: 0.9170312\ttotal: 818ms\tremaining: 4.64s\n",
      "15:\tlearn: 0.9159688\ttotal: 868ms\tremaining: 4.55s\n",
      "16:\tlearn: 0.9153561\ttotal: 915ms\tremaining: 4.46s\n",
      "17:\tlearn: 0.9149921\ttotal: 961ms\tremaining: 4.38s\n",
      "18:\tlearn: 0.9143516\ttotal: 1.01s\tremaining: 4.3s\n",
      "19:\tlearn: 0.9133565\ttotal: 1.05s\tremaining: 4.22s\n",
      "20:\tlearn: 0.9122966\ttotal: 1.1s\tremaining: 4.15s\n",
      "21:\tlearn: 0.9096747\ttotal: 1.16s\tremaining: 4.11s\n",
      "22:\tlearn: 0.9083202\ttotal: 1.21s\tremaining: 4.04s\n",
      "23:\tlearn: 0.9067834\ttotal: 1.26s\tremaining: 3.99s\n",
      "24:\tlearn: 0.9055917\ttotal: 1.31s\tremaining: 3.95s\n",
      "25:\tlearn: 0.9039273\ttotal: 1.36s\tremaining: 3.88s\n",
      "26:\tlearn: 0.9031018\ttotal: 1.41s\tremaining: 3.83s\n",
      "27:\tlearn: 0.9023868\ttotal: 1.46s\tremaining: 3.76s\n",
      "28:\tlearn: 0.9016165\ttotal: 1.51s\tremaining: 3.71s\n",
      "29:\tlearn: 0.9007961\ttotal: 1.56s\tremaining: 3.65s\n",
      "30:\tlearn: 0.8995611\ttotal: 1.61s\tremaining: 3.59s\n",
      "31:\tlearn: 0.8985875\ttotal: 1.66s\tremaining: 3.53s\n",
      "32:\tlearn: 0.8980245\ttotal: 1.71s\tremaining: 3.48s\n",
      "33:\tlearn: 0.8966944\ttotal: 1.77s\tremaining: 3.43s\n",
      "34:\tlearn: 0.8956984\ttotal: 1.82s\tremaining: 3.37s\n",
      "35:\tlearn: 0.8947619\ttotal: 1.87s\tremaining: 3.33s\n",
      "36:\tlearn: 0.8936061\ttotal: 1.92s\tremaining: 3.27s\n",
      "37:\tlearn: 0.8929539\ttotal: 1.97s\tremaining: 3.21s\n",
      "38:\tlearn: 0.8920603\ttotal: 2.02s\tremaining: 3.16s\n",
      "39:\tlearn: 0.8915880\ttotal: 2.07s\tremaining: 3.1s\n",
      "40:\tlearn: 0.8904964\ttotal: 2.12s\tremaining: 3.05s\n",
      "41:\tlearn: 0.8897218\ttotal: 2.17s\tremaining: 3s\n",
      "42:\tlearn: 0.8891535\ttotal: 2.22s\tremaining: 2.94s\n",
      "43:\tlearn: 0.8886127\ttotal: 2.27s\tremaining: 2.89s\n",
      "44:\tlearn: 0.8877928\ttotal: 2.32s\tremaining: 2.83s\n",
      "45:\tlearn: 0.8870021\ttotal: 2.37s\tremaining: 2.78s\n",
      "46:\tlearn: 0.8862540\ttotal: 2.42s\tremaining: 2.73s\n",
      "47:\tlearn: 0.8857442\ttotal: 2.47s\tremaining: 2.68s\n",
      "48:\tlearn: 0.8850736\ttotal: 2.53s\tremaining: 2.63s\n",
      "49:\tlearn: 0.8844954\ttotal: 2.58s\tremaining: 2.58s\n",
      "50:\tlearn: 0.8841172\ttotal: 2.62s\tremaining: 2.52s\n",
      "51:\tlearn: 0.8836050\ttotal: 2.67s\tremaining: 2.47s\n",
      "52:\tlearn: 0.8827140\ttotal: 2.73s\tremaining: 2.42s\n",
      "53:\tlearn: 0.8822891\ttotal: 2.77s\tremaining: 2.36s\n",
      "54:\tlearn: 0.8811928\ttotal: 2.83s\tremaining: 2.31s\n",
      "55:\tlearn: 0.8805618\ttotal: 2.88s\tremaining: 2.26s\n",
      "56:\tlearn: 0.8802087\ttotal: 2.93s\tremaining: 2.21s\n",
      "57:\tlearn: 0.8794074\ttotal: 2.98s\tremaining: 2.15s\n",
      "58:\tlearn: 0.8790279\ttotal: 3.03s\tremaining: 2.1s\n",
      "59:\tlearn: 0.8784447\ttotal: 3.08s\tremaining: 2.05s\n",
      "60:\tlearn: 0.8777982\ttotal: 3.13s\tremaining: 2s\n",
      "61:\tlearn: 0.8772311\ttotal: 3.18s\tremaining: 1.95s\n",
      "62:\tlearn: 0.8761242\ttotal: 3.23s\tremaining: 1.9s\n",
      "63:\tlearn: 0.8756773\ttotal: 3.28s\tremaining: 1.84s\n",
      "64:\tlearn: 0.8752741\ttotal: 3.32s\tremaining: 1.79s\n",
      "65:\tlearn: 0.8748606\ttotal: 3.37s\tremaining: 1.74s\n",
      "66:\tlearn: 0.8736407\ttotal: 3.43s\tremaining: 1.69s\n",
      "67:\tlearn: 0.8731283\ttotal: 3.48s\tremaining: 1.64s\n",
      "68:\tlearn: 0.8724935\ttotal: 3.53s\tremaining: 1.59s\n",
      "69:\tlearn: 0.8721062\ttotal: 3.58s\tremaining: 1.53s\n",
      "70:\tlearn: 0.8716293\ttotal: 3.63s\tremaining: 1.48s\n",
      "71:\tlearn: 0.8712077\ttotal: 3.68s\tremaining: 1.43s\n",
      "72:\tlearn: 0.8706781\ttotal: 3.73s\tremaining: 1.38s\n",
      "73:\tlearn: 0.8701251\ttotal: 3.78s\tremaining: 1.33s\n",
      "74:\tlearn: 0.8696071\ttotal: 3.84s\tremaining: 1.28s\n",
      "75:\tlearn: 0.8690125\ttotal: 3.89s\tremaining: 1.23s\n",
      "76:\tlearn: 0.8686918\ttotal: 3.93s\tremaining: 1.18s\n",
      "77:\tlearn: 0.8681286\ttotal: 3.98s\tremaining: 1.12s\n",
      "78:\tlearn: 0.8676134\ttotal: 4.03s\tremaining: 1.07s\n",
      "79:\tlearn: 0.8671242\ttotal: 4.08s\tremaining: 1.02s\n",
      "80:\tlearn: 0.8666014\ttotal: 4.13s\tremaining: 969ms\n",
      "81:\tlearn: 0.8661520\ttotal: 4.18s\tremaining: 918ms\n",
      "82:\tlearn: 0.8658707\ttotal: 4.23s\tremaining: 866ms\n",
      "83:\tlearn: 0.8654679\ttotal: 4.28s\tremaining: 815ms\n",
      "84:\tlearn: 0.8650071\ttotal: 4.32s\tremaining: 763ms\n",
      "85:\tlearn: 0.8645982\ttotal: 4.37s\tremaining: 712ms\n",
      "86:\tlearn: 0.8643543\ttotal: 4.42s\tremaining: 660ms\n",
      "87:\tlearn: 0.8640290\ttotal: 4.47s\tremaining: 610ms\n",
      "88:\tlearn: 0.8631446\ttotal: 4.52s\tremaining: 559ms\n",
      "89:\tlearn: 0.8626519\ttotal: 4.57s\tremaining: 508ms\n",
      "90:\tlearn: 0.8622416\ttotal: 4.62s\tremaining: 457ms\n",
      "91:\tlearn: 0.8620278\ttotal: 4.67s\tremaining: 406ms\n",
      "92:\tlearn: 0.8613686\ttotal: 4.72s\tremaining: 355ms\n",
      "93:\tlearn: 0.8609594\ttotal: 4.77s\tremaining: 305ms\n",
      "94:\tlearn: 0.8604077\ttotal: 4.82s\tremaining: 254ms\n",
      "95:\tlearn: 0.8598873\ttotal: 4.87s\tremaining: 203ms\n",
      "96:\tlearn: 0.8594909\ttotal: 4.92s\tremaining: 152ms\n",
      "97:\tlearn: 0.8592026\ttotal: 4.97s\tremaining: 101ms\n",
      "98:\tlearn: 0.8587850\ttotal: 5.02s\tremaining: 50.7ms\n",
      "99:\tlearn: 0.8583365\ttotal: 5.06s\tremaining: 0us\n"
     ]
    },
    {
     "data": {
      "text/plain": [
       "<catboost.core.CatBoostClassifier at 0x7f84516f1ab0>"
      ]
     },
     "execution_count": 5,
     "metadata": {},
     "output_type": "execute_result"
    }
   ],
   "source": [
    "X_train = train_data[\"text\"]\n",
    "y_train = train_data[\"rate\"]\n",
    "\n",
    "X_test = test_data[\"text\"]\n",
    "\n",
    "\n",
    "model = CatBoostClassifier(\n",
    "    iterations=100,\n",
    "    depth=5,\n",
    "    random_seed=42\n",
    ")\n",
    "\n",
    "model.fit(\n",
    "    X_train,\n",
    "    y_train,\n",
    "    text_features=[0],\n",
    "    verbose=True\n",
    ")"
   ]
  },
  {
   "cell_type": "markdown",
   "metadata": {},
   "source": [
    "# Predict"
   ]
  },
  {
   "cell_type": "code",
   "execution_count": 6,
   "metadata": {
    "collapsed": false
   },
   "outputs": [],
   "source": [
    "# Preparing data in Pool format\n",
    "dataset_test = Pool(\n",
    "    data=X_test,\n",
    "    text_features=[0]\n",
    ")\n",
    "predict_classes = model.predict(dataset_test)\n",
    "predictions = predict_classes"
   ]
  },
  {
   "cell_type": "markdown",
   "metadata": {},
   "source": [
    "# Create submission"
   ]
  },
  {
   "cell_type": "code",
   "execution_count": 7,
   "metadata": {
    "collapsed": false
   },
   "outputs": [
    {
     "data": {
      "text/html": [
       "<div>\n",
       "<style scoped>\n",
       "    .dataframe tbody tr th:only-of-type {\n",
       "        vertical-align: middle;\n",
       "    }\n",
       "\n",
       "    .dataframe tbody tr th {\n",
       "        vertical-align: top;\n",
       "    }\n",
       "\n",
       "    .dataframe thead th {\n",
       "        text-align: right;\n",
       "    }\n",
       "</style>\n",
       "<table border=\"1\" class=\"dataframe\">\n",
       "  <thead>\n",
       "    <tr style=\"text-align: right;\">\n",
       "      <th></th>\n",
       "      <th>rate</th>\n",
       "    </tr>\n",
       "  </thead>\n",
       "  <tbody>\n",
       "    <tr>\n",
       "      <th>0</th>\n",
       "      <td>5</td>\n",
       "    </tr>\n",
       "    <tr>\n",
       "      <th>1</th>\n",
       "      <td>5</td>\n",
       "    </tr>\n",
       "    <tr>\n",
       "      <th>2</th>\n",
       "      <td>5</td>\n",
       "    </tr>\n",
       "    <tr>\n",
       "      <th>3</th>\n",
       "      <td>4</td>\n",
       "    </tr>\n",
       "    <tr>\n",
       "      <th>4</th>\n",
       "      <td>5</td>\n",
       "    </tr>\n",
       "  </tbody>\n",
       "</table>\n",
       "</div>"
      ],
      "text/plain": [
       "   rate\n",
       "0     5\n",
       "1     5\n",
       "2     5\n",
       "3     4\n",
       "4     5"
      ]
     },
     "execution_count": 7,
     "metadata": {},
     "output_type": "execute_result"
    }
   ],
   "source": [
    "sample_submission = pd.read_csv(os.path.join(path, \"sample_submission.csv\"))\n",
    "sample_submission[\"rate\"] = predictions\n",
    "sample_submission.head()"
   ]
  },
  {
   "cell_type": "code",
   "execution_count": 8,
   "metadata": {
    "collapsed": false
   },
   "outputs": [],
   "source": [
    "sample_submission.to_csv(\"submission.csv\", index=False)"
   ]
  },
  {
   "cell_type": "code",
   "execution_count": null,
   "metadata": {},
   "outputs": [],
   "source": []
  }
 ],
 "metadata": {
  "kernelspec": {
   "display_name": "Python 3.7.9 ('venv': venv)",
   "language": "python",
   "name": "python3"
  },
  "language_info": {
   "codemirror_mode": {
    "name": "ipython",
    "version": 3
   },
   "file_extension": ".py",
   "mimetype": "text/x-python",
   "name": "python",
   "nbconvert_exporter": "python",
   "pygments_lexer": "ipython3",
   "version": "3.10.12"
  },
  "vscode": {
   "interpreter": {
    "hash": "4ce47e61e2a197e18f6178d2b52c72741babf3e522a6ab2c8e52c7be76b98a41"
   }
  }
 },
 "nbformat": 4,
 "nbformat_minor": 0
}
