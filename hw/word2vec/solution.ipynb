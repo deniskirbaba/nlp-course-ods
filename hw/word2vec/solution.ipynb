{
 "cells": [
  {
   "cell_type": "markdown",
   "metadata": {},
   "source": [
    "# Word2Vec Model\n",
    "\n",
    "Write a program that trains Word2Vec model. Do not use print() instructions in your code, otherwise test procedure will not succeed; the message \"Wrong Answer\" indicates answer format is incorrect (print() in the code, missing words in the dictionary, etc.). The message \"Embeddings are not good enough\" means you're on the right track and you should focus on the model improvement.  \n",
    "  \n",
    "You may think of the input string as being pre-processed with the following function:\n",
    "\n",
    "```python\n",
    "import re\n",
    "import string\n",
    "\n",
    "def clean(inp: str) -> str:\n",
    "    inp = inp.translate(str.maketrans(string.punctuation, \" \"*len(string.punctuation)))\n",
    "    inp = re.sub(r'\\s+', ' ', inp.lower())\n",
    "    return inp\n",
    "```\n",
    "\n",
    "I.e. given the input \"Your string!\" the output will be \"your string \".\n",
    "\n",
    "\n",
    "Input: data (string) - cleaned documents without punctuation in one line  \n",
    "Output: w2v_dict (dict: key (string) - a word from vocabulary, value (numpy array) - the word's embedding)\n",
    "\n",
    "Time limit: 25 seconds  \n",
    "Memory limit: 128 MB\n",
    "\n",
    "You may use only `numpy` and `pytorch` libraries"
   ]
  },
  {
   "cell_type": "code",
   "execution_count": 34,
   "metadata": {},
   "outputs": [],
   "source": [
    "import re\n",
    "import string\n",
    "\n",
    "import numpy as np\n",
    "import torch\n",
    "import torch.nn.functional as F\n",
    "from tqdm.notebook import trange\n",
    "import matplotlib.pyplot as plt"
   ]
  },
  {
   "cell_type": "markdown",
   "metadata": {},
   "source": [
    "## Pipeline\n",
    "\n",
    "### Split string into words"
   ]
  },
  {
   "cell_type": "code",
   "execution_count": 35,
   "metadata": {},
   "outputs": [],
   "source": [
    "def clean(inp: str) -> str:\n",
    "    # Replace punctuation with spaces\n",
    "    inp = inp.translate(\n",
    "        str.maketrans(string.punctuation, \" \" * len(string.punctuation))\n",
    "    )\n",
    "\n",
    "    # Remove non-Russian characters and keep only Cyrillic letters (Russian range)\n",
    "    inp = re.sub(r\"[^а-яА-ЯёЁ]\", \" \", inp)\n",
    "\n",
    "    # Replace multiple spaces with a single space and convert to lowercase\n",
    "    inp = re.sub(r\"\\s+\", \" \", inp.lower())\n",
    "\n",
    "    return inp.strip()"
   ]
  },
  {
   "cell_type": "code",
   "execution_count": 36,
   "metadata": {},
   "outputs": [
    {
     "data": {
      "text/plain": [
       "['мой',\n",
       " 'дядя',\n",
       " 'самых',\n",
       " 'честных',\n",
       " 'правил',\n",
       " 'когда',\n",
       " 'не',\n",
       " 'в',\n",
       " 'шутку',\n",
       " 'занемог']"
      ]
     },
     "execution_count": 36,
     "metadata": {},
     "output_type": "execute_result"
    }
   ],
   "source": [
    "data = open(\"onegin.txt\", \"r\").read()\n",
    "words = clean(data).split()\n",
    "words[:10]"
   ]
  },
  {
   "cell_type": "code",
   "execution_count": 37,
   "metadata": {},
   "outputs": [
    {
     "data": {
      "text/plain": [
       "22443"
      ]
     },
     "execution_count": 37,
     "metadata": {},
     "output_type": "execute_result"
    }
   ],
   "source": [
    "len(words)"
   ]
  },
  {
   "cell_type": "code",
   "execution_count": 38,
   "metadata": {},
   "outputs": [],
   "source": [
    "words = words[:500]"
   ]
  },
  {
   "cell_type": "markdown",
   "metadata": {},
   "source": [
    "### Create the vocabulary (wtoi, itow)"
   ]
  },
  {
   "cell_type": "code",
   "execution_count": 39,
   "metadata": {},
   "outputs": [
    {
     "data": {
      "text/plain": [
       "358"
      ]
     },
     "execution_count": 39,
     "metadata": {},
     "output_type": "execute_result"
    }
   ],
   "source": [
    "vocab = sorted(list(set(words)))\n",
    "vocab_size = len(vocab)\n",
    "vocab_size"
   ]
  },
  {
   "cell_type": "code",
   "execution_count": 40,
   "metadata": {},
   "outputs": [],
   "source": [
    "wtoi = {w: i for i, w in enumerate(vocab)}\n",
    "itow = {i: w for w, i in wtoi.items()}"
   ]
  },
  {
   "cell_type": "code",
   "execution_count": 41,
   "metadata": {},
   "outputs": [],
   "source": [
    "ids = torch.tensor([wtoi[w] for w in words])"
   ]
  },
  {
   "cell_type": "markdown",
   "metadata": {},
   "source": [
    "### Create and randomly initialize the embedding matrices (therefore we have 2 vector for 1 word)"
   ]
  },
  {
   "cell_type": "code",
   "execution_count": 43,
   "metadata": {},
   "outputs": [],
   "source": [
    "emb_size = 25\n",
    "emb_o = torch.randn((vocab_size, emb_size), requires_grad=True)\n",
    "emb_c = torch.randn((vocab_size, emb_size), requires_grad=True)"
   ]
  },
  {
   "cell_type": "markdown",
   "metadata": {},
   "source": [
    "### Training loop"
   ]
  },
  {
   "cell_type": "code",
   "execution_count": 54,
   "metadata": {},
   "outputs": [],
   "source": [
    "window_size = 3\n",
    "epochs = 100"
   ]
  },
  {
   "cell_type": "code",
   "execution_count": 47,
   "metadata": {},
   "outputs": [],
   "source": [
    "opt = torch.optim.Adam([emb_o, emb_c], lr=3e-4)"
   ]
  },
  {
   "cell_type": "code",
   "execution_count": 48,
   "metadata": {},
   "outputs": [],
   "source": [
    "loss_hist = []"
   ]
  },
  {
   "cell_type": "code",
   "execution_count": 55,
   "metadata": {},
   "outputs": [
    {
     "data": {
      "application/vnd.jupyter.widget-view+json": {
       "model_id": "6c13a9e48cd8400a893f9658c59f0998",
       "version_major": 2,
       "version_minor": 0
      },
      "text/plain": [
       "  0%|          | 0/100 [00:00<?, ?it/s]"
      ]
     },
     "metadata": {},
     "output_type": "display_data"
    }
   ],
   "source": [
    "for _ in trange(epochs):\n",
    "    for pos_c, ix_c in enumerate(ids):\n",
    "        # indices of context vectors\n",
    "        ix_o = torch.tensor(\n",
    "            [\n",
    "                ids[pos_o]\n",
    "                for pos_o in pos_c + np.arange(-window_size, window_size + 1)\n",
    "                if pos_o != pos_c and 0 <= pos_o < len(ids)\n",
    "            ]\n",
    "        )\n",
    "        \n",
    "        # calc dot product b/w center vector and all vectors to get similarities\n",
    "        sim = emb_o @ emb_c[ix_c]\n",
    "        loss = F.cross_entropy(sim.repeat(len(ix_o), 1), ix_o)\n",
    "        \n",
    "        opt.zero_grad()\n",
    "        loss.backward()\n",
    "        opt.step()\n",
    "    \n",
    "    # track loss\n",
    "    with torch.no_grad():\n",
    "        sim = emb_c[ids] @ emb_o.T\n",
    "        loss = F.cross_entropy(sim, ids).item()\n",
    "        loss_hist.append(loss)"
   ]
  },
  {
   "cell_type": "code",
   "execution_count": 56,
   "metadata": {},
   "outputs": [
    {
     "data": {
      "text/plain": [
       "[<matplotlib.lines.Line2D at 0x79ac8a891850>]"
      ]
     },
     "execution_count": 56,
     "metadata": {},
     "output_type": "execute_result"
    },
    {
     "data": {
      "image/png": "[encoded data removed]",
      "text/plain": [
       "<Figure size 640x480 with 1 Axes>"
      ]
     },
     "metadata": {},
     "output_type": "display_data"
    }
   ],
   "source": [
    "plt.plot(loss_hist)"
   ]
  },
  {
   "cell_type": "markdown",
   "metadata": {},
   "source": [
    "### Construct the output dict"
   ]
  },
  {
   "cell_type": "code",
   "execution_count": 57,
   "metadata": {},
   "outputs": [],
   "source": [
    "# averages the emb matrices\n",
    "emb_avg = np.array((emb_c.data + emb_o.data) / 2)"
   ]
  },
  {
   "cell_type": "code",
   "execution_count": 58,
   "metadata": {},
   "outputs": [],
   "source": [
    "wtoemb = {}\n",
    "for w in vocab:\n",
    "    wtoemb[w] = emb_avg[wtoi[w]]"
   ]
  }
 ],
 "metadata": {
  "kernelspec": {
   "display_name": "nlp-ods",
   "language": "python",
   "name": "python3"
  },
  "language_info": {
   "codemirror_mode": {
    "name": "ipython",
    "version": 3
   },
   "file_extension": ".py",
   "mimetype": "text/x-python",
   "name": "python",
   "nbconvert_exporter": "python",
   "pygments_lexer": "ipython3",
   "version": "3.12.5"
  }
 },
 "nbformat": 4,
 "nbformat_minor": 2
}
