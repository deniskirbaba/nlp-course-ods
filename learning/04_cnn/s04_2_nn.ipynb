{
 "cells": [
  {
   "cell_type": "markdown",
   "metadata": {
    "pycharm": {
     "name": "#%% md\n"
    }
   },
   "source": [
    "# Seminar 4. Text classification using CNN"
   ]
  },
  {
   "cell_type": "markdown",
   "metadata": {},
   "source": [
    "## Content\n",
    "* Data preparation\n",
    "* Data processing - feature extraction, etc\n",
    "* CNN & training & evaluation\n",
    "* What can be improved?"
   ]
  },
  {
   "cell_type": "code",
   "execution_count": 1,
   "metadata": {},
   "outputs": [],
   "source": [
    "import json\n",
    "from pathlib import Path\n",
    "from typing import List\n",
    "\n",
    "from IPython.display import display, Code\n",
    "import nltk\n",
    "from nltk.probability import FreqDist\n",
    "from nltk.tokenize import word_tokenize\n",
    "import matplotlib.pyplot as plt\n",
    "import numpy as np\n",
    "import pandas\n",
    "from sklearn.metrics import accuracy_score, confusion_matrix\n",
    "from sklearn.preprocessing import label_binarize\n",
    "from tqdm.auto import tqdm"
   ]
  },
  {
   "cell_type": "markdown",
   "metadata": {},
   "source": [
    "### Data preparation\n",
    "* Download data from [CodeSearchNet](https://github.com/github/CodeSearchNet#downloading-data-from-s3)\n",
    "* Unzip & prepare train/valid/test JSONL files\n",
    "* Read to pandas dataframe"
   ]
  },
  {
   "cell_type": "code",
   "execution_count": 2,
   "metadata": {},
   "outputs": [],
   "source": [
    "# Download data from CodeSearchNet & extract archives\n",
    "LANGUAGES = [\"ruby\", \"go\", \"javascript\", \"php\", \"python\", \"java\"]"
   ]
  },
  {
   "cell_type": "code",
   "execution_count": 3,
   "metadata": {},
   "outputs": [],
   "source": [
    "if False:\n",
    "    !mkdir dataset\n",
    "    for lang in LANGUAGES:\n",
    "        !cd dataset && wget https://s3.amazonaws.com/code-search-net/CodeSearchNet/v2/{lang}.zip && unzip {lang}.zip\n",
    "\n",
    "    for lang in LANGUAGES:\n",
    "        !cd dataset && zcat {lang}/final/jsonl/valid/{lang}_valid_0.jsonl.gz >> valid.jsonl\n",
    "        !cd dataset && zcat {lang}/final/jsonl/test/{lang}_test_0.jsonl.gz >> test.jsonl\n",
    "        !cd dataset && zcat {lang}/final/jsonl/train/{lang}_train_0.jsonl.gz >> train.jsonl\n",
    "        !cd dataset && zcat {lang}/final/jsonl/train/{lang}_train_1.jsonl.gz >> train.jsonl\n",
    "    !cd dataset && shuf train.jsonl > train_shuffled.jsonl\n",
    "    !cd dataset && shuf test.jsonl > test_shuffled.jsonl\n",
    "    !cd dataset && shuf valid.jsonl > valid_shuffled.jsonl"
   ]
  },
  {
   "cell_type": "markdown",
   "metadata": {
    "pycharm": {
     "name": "#%% md\n"
    }
   },
   "source": [
    "Read to pandas dataframe"
   ]
  },
  {
   "cell_type": "code",
   "execution_count": 4,
   "metadata": {
    "pycharm": {
     "name": "#%%\n"
    }
   },
   "outputs": [
    {
     "name": "stdout",
     "output_type": "stream",
     "text": [
      "Reading train data...\n",
      "line 6387 has problems\n",
      "Reading test data...\n",
      "line 17581 has problems\n",
      "Reading validation data...\n",
      "line 6439 has problems\n"
     ]
    }
   ],
   "source": [
    "base_url = Path(\"dataset\")\n",
    "\n",
    "\n",
    "def read_data(jsonl_loc: str, max_n_rows: int = -1) -> pandas.DataFrame:\n",
    "    \"\"\"Read JSONL file to pandas.DataFrame\"\"\"\n",
    "    with open(jsonl_loc) as f:\n",
    "        data = []\n",
    "        for i, line in enumerate(f):\n",
    "            try:\n",
    "                data.append(json.loads(line))\n",
    "            except:\n",
    "                print(f\"line {i} has problems\")\n",
    "            if max_n_rows > 0:\n",
    "                if len(data) >= max_n_rows:\n",
    "                    break\n",
    "    return pandas.DataFrame(data)\n",
    "\n",
    "\n",
    "print(\"Reading train data...\")\n",
    "df_train = read_data(str(base_url / \"train_shuffled.jsonl\"), max_n_rows=30000)\n",
    "print(\"Reading test data...\")\n",
    "df_test = read_data(str(base_url / \"test_shuffled.jsonl\"), max_n_rows=30000)\n",
    "print(\"Reading validation data...\")\n",
    "df_val = read_data(str(base_url / \"valid_shuffled.jsonl\"), max_n_rows=30000)"
   ]
  },
  {
   "cell_type": "markdown",
   "metadata": {
    "pycharm": {
     "name": "#%% md\n"
    }
   },
   "source": [
    "We can look at some examples from training set"
   ]
  },
  {
   "cell_type": "code",
   "execution_count": 5,
   "metadata": {},
   "outputs": [
    {
     "name": "stdout",
     "output_type": "stream",
     "text": [
      "Columns in DataFrame:\n"
     ]
    },
    {
     "data": {
      "text/plain": [
       "Index(['repo', 'path', 'func_name', 'original_string', 'language', 'code',\n",
       "       'code_tokens', 'docstring', 'docstring_tokens', 'sha', 'url',\n",
       "       'partition'],\n",
       "      dtype='object')"
      ]
     },
     "execution_count": 5,
     "metadata": {},
     "output_type": "execute_result"
    }
   ],
   "source": [
    "print(\"Columns in DataFrame:\")\n",
    "df_train.columns"
   ]
  },
  {
   "cell_type": "code",
   "execution_count": 6,
   "metadata": {},
   "outputs": [
    {
     "name": "stdout",
     "output_type": "stream",
     "text": [
      "Programming languages:\n"
     ]
    },
    {
     "data": {
      "text/plain": [
       "array(['javascript', 'java', 'ruby', 'go', 'python', 'php'], dtype=object)"
      ]
     },
     "execution_count": 6,
     "metadata": {},
     "output_type": "execute_result"
    }
   ],
   "source": [
    "print(\"Programming languages:\")\n",
    "df_train[\"language\"].unique()"
   ]
  },
  {
   "cell_type": "code",
   "execution_count": 7,
   "metadata": {
    "pycharm": {
     "name": "#%%\n"
    }
   },
   "outputs": [
    {
     "data": {
      "text/html": [
       "<div>\n",
       "<style scoped>\n",
       "    .dataframe tbody tr th:only-of-type {\n",
       "        vertical-align: middle;\n",
       "    }\n",
       "\n",
       "    .dataframe tbody tr th {\n",
       "        vertical-align: top;\n",
       "    }\n",
       "\n",
       "    .dataframe thead th {\n",
       "        text-align: right;\n",
       "    }\n",
       "</style>\n",
       "<table border=\"1\" class=\"dataframe\">\n",
       "  <thead>\n",
       "    <tr style=\"text-align: right;\">\n",
       "      <th></th>\n",
       "      <th>language</th>\n",
       "      <th>func_name</th>\n",
       "      <th>original_string</th>\n",
       "      <th>code_tokens</th>\n",
       "    </tr>\n",
       "  </thead>\n",
       "  <tbody>\n",
       "    <tr>\n",
       "      <th>0</th>\n",
       "      <td>javascript</td>\n",
       "      <td>InvalidValidationRuleParameter</td>\n",
       "      <td>function InvalidValidationRuleParameter(rulePa...</td>\n",
       "      <td>[function, InvalidValidationRuleParameter, (, ...</td>\n",
       "    </tr>\n",
       "    <tr>\n",
       "      <th>1</th>\n",
       "      <td>java</td>\n",
       "      <td>Strings.pathEquals</td>\n",
       "      <td>public static boolean pathEquals(String path1,...</td>\n",
       "      <td>[public, static, boolean, pathEquals, (, Strin...</td>\n",
       "    </tr>\n",
       "    <tr>\n",
       "      <th>2</th>\n",
       "      <td>ruby</td>\n",
       "      <td>Phonelib.PhoneFormatter.raw_national</td>\n",
       "      <td>def raw_national\\n      return nil if sanitize...</td>\n",
       "      <td>[def, raw_national, return, nil, if, sanitized...</td>\n",
       "    </tr>\n",
       "    <tr>\n",
       "      <th>3</th>\n",
       "      <td>go</td>\n",
       "      <td>WatchSrvVSchema</td>\n",
       "      <td>func (ts *Server) WatchSrvVSchema(ctx context....</td>\n",
       "      <td>[func, (, ts, *, Server, ), WatchSrvVSchema, (...</td>\n",
       "    </tr>\n",
       "    <tr>\n",
       "      <th>4</th>\n",
       "      <td>javascript</td>\n",
       "      <td></td>\n",
       "      <td>function (evt) {\\n            // Ignore input ...</td>\n",
       "      <td>[function, (, evt, ), {, // Ignore input field...</td>\n",
       "    </tr>\n",
       "  </tbody>\n",
       "</table>\n",
       "</div>"
      ],
      "text/plain": [
       "     language                             func_name  \\\n",
       "0  javascript        InvalidValidationRuleParameter   \n",
       "1        java                    Strings.pathEquals   \n",
       "2        ruby  Phonelib.PhoneFormatter.raw_national   \n",
       "3          go                       WatchSrvVSchema   \n",
       "4  javascript                                         \n",
       "\n",
       "                                     original_string  \\\n",
       "0  function InvalidValidationRuleParameter(rulePa...   \n",
       "1  public static boolean pathEquals(String path1,...   \n",
       "2  def raw_national\\n      return nil if sanitize...   \n",
       "3  func (ts *Server) WatchSrvVSchema(ctx context....   \n",
       "4  function (evt) {\\n            // Ignore input ...   \n",
       "\n",
       "                                         code_tokens  \n",
       "0  [function, InvalidValidationRuleParameter, (, ...  \n",
       "1  [public, static, boolean, pathEquals, (, Strin...  \n",
       "2  [def, raw_national, return, nil, if, sanitized...  \n",
       "3  [func, (, ts, *, Server, ), WatchSrvVSchema, (...  \n",
       "4  [function, (, evt, ), {, // Ignore input field...  "
      ]
     },
     "execution_count": 7,
     "metadata": {},
     "output_type": "execute_result"
    }
   ],
   "source": [
    "df_train[[\"language\", \"func_name\", \"original_string\", \"code_tokens\"]].head()"
   ]
  },
  {
   "cell_type": "markdown",
   "metadata": {
    "pycharm": {
     "name": "#%% md\n"
    }
   },
   "source": [
    "We can look at some examples from test set"
   ]
  },
  {
   "cell_type": "code",
   "execution_count": 8,
   "metadata": {
    "pycharm": {
     "name": "#%%\n"
    }
   },
   "outputs": [
    {
     "data": {
      "text/html": [
       "<div>\n",
       "<style scoped>\n",
       "    .dataframe tbody tr th:only-of-type {\n",
       "        vertical-align: middle;\n",
       "    }\n",
       "\n",
       "    .dataframe tbody tr th {\n",
       "        vertical-align: top;\n",
       "    }\n",
       "\n",
       "    .dataframe thead th {\n",
       "        text-align: right;\n",
       "    }\n",
       "</style>\n",
       "<table border=\"1\" class=\"dataframe\">\n",
       "  <thead>\n",
       "    <tr style=\"text-align: right;\">\n",
       "      <th></th>\n",
       "      <th>language</th>\n",
       "      <th>func_name</th>\n",
       "      <th>original_string</th>\n",
       "      <th>code_tokens</th>\n",
       "    </tr>\n",
       "  </thead>\n",
       "  <tbody>\n",
       "    <tr>\n",
       "      <th>0</th>\n",
       "      <td>java</td>\n",
       "      <td>ProjectionPointImpl.isInfinite</td>\n",
       "      <td>static public boolean isInfinite(ProjectionPoi...</td>\n",
       "      <td>[static, public, boolean, isInfinite, (, Proje...</td>\n",
       "    </tr>\n",
       "    <tr>\n",
       "      <th>1</th>\n",
       "      <td>python</td>\n",
       "      <td>compute_labor_hours</td>\n",
       "      <td>def compute_labor_hours(sloc, month_hours='coc...</td>\n",
       "      <td>[def, compute_labor_hours, (, sloc, ,, month_h...</td>\n",
       "    </tr>\n",
       "    <tr>\n",
       "      <th>2</th>\n",
       "      <td>java</td>\n",
       "      <td>JNILibrary.deleteTemporaryFiles</td>\n",
       "      <td>private static void deleteTemporaryFiles() {\\n...</td>\n",
       "      <td>[private, static, void, deleteTemporaryFiles, ...</td>\n",
       "    </tr>\n",
       "    <tr>\n",
       "      <th>3</th>\n",
       "      <td>go</td>\n",
       "      <td>GRPCServer</td>\n",
       "      <td>func GRPCServer(s Server, options ...grpc.Serv...</td>\n",
       "      <td>[func, GRPCServer, (, s, Server, ,, options, ....</td>\n",
       "    </tr>\n",
       "    <tr>\n",
       "      <th>4</th>\n",
       "      <td>php</td>\n",
       "      <td>EloquentBuilder.firstHump</td>\n",
       "      <td>public function firstHump($columns = array('*'...</td>\n",
       "      <td>[public, function, firstHump, (, $, columns, =...</td>\n",
       "    </tr>\n",
       "  </tbody>\n",
       "</table>\n",
       "</div>"
      ],
      "text/plain": [
       "  language                        func_name  \\\n",
       "0     java   ProjectionPointImpl.isInfinite   \n",
       "1   python              compute_labor_hours   \n",
       "2     java  JNILibrary.deleteTemporaryFiles   \n",
       "3       go                       GRPCServer   \n",
       "4      php        EloquentBuilder.firstHump   \n",
       "\n",
       "                                     original_string  \\\n",
       "0  static public boolean isInfinite(ProjectionPoi...   \n",
       "1  def compute_labor_hours(sloc, month_hours='coc...   \n",
       "2  private static void deleteTemporaryFiles() {\\n...   \n",
       "3  func GRPCServer(s Server, options ...grpc.Serv...   \n",
       "4  public function firstHump($columns = array('*'...   \n",
       "\n",
       "                                         code_tokens  \n",
       "0  [static, public, boolean, isInfinite, (, Proje...  \n",
       "1  [def, compute_labor_hours, (, sloc, ,, month_h...  \n",
       "2  [private, static, void, deleteTemporaryFiles, ...  \n",
       "3  [func, GRPCServer, (, s, Server, ,, options, ....  \n",
       "4  [public, function, firstHump, (, $, columns, =...  "
      ]
     },
     "execution_count": 8,
     "metadata": {},
     "output_type": "execute_result"
    }
   ],
   "source": [
    "df_test[[\"language\", \"func_name\", \"original_string\", \"code_tokens\"]].head()"
   ]
  },
  {
   "cell_type": "markdown",
   "metadata": {
    "pycharm": {
     "name": "#%% md\n"
    }
   },
   "source": [
    "Add validate dataset"
   ]
  },
  {
   "cell_type": "code",
   "execution_count": 9,
   "metadata": {
    "pycharm": {
     "name": "#%%\n"
    }
   },
   "outputs": [
    {
     "data": {
      "text/html": [
       "<div>\n",
       "<style scoped>\n",
       "    .dataframe tbody tr th:only-of-type {\n",
       "        vertical-align: middle;\n",
       "    }\n",
       "\n",
       "    .dataframe tbody tr th {\n",
       "        vertical-align: top;\n",
       "    }\n",
       "\n",
       "    .dataframe thead th {\n",
       "        text-align: right;\n",
       "    }\n",
       "</style>\n",
       "<table border=\"1\" class=\"dataframe\">\n",
       "  <thead>\n",
       "    <tr style=\"text-align: right;\">\n",
       "      <th></th>\n",
       "      <th>language</th>\n",
       "      <th>func_name</th>\n",
       "      <th>original_string</th>\n",
       "      <th>code_tokens</th>\n",
       "    </tr>\n",
       "  </thead>\n",
       "  <tbody>\n",
       "    <tr>\n",
       "      <th>0</th>\n",
       "      <td>java</td>\n",
       "      <td>ShadowPackageManager.removeActivity</td>\n",
       "      <td>@Nullable\\n  public ActivityInfo removeActivit...</td>\n",
       "      <td>[@, Nullable, public, ActivityInfo, removeActi...</td>\n",
       "    </tr>\n",
       "    <tr>\n",
       "      <th>1</th>\n",
       "      <td>python</td>\n",
       "      <td>_get_well_known_file</td>\n",
       "      <td>def _get_well_known_file():\\n    \"\"\"Get the we...</td>\n",
       "      <td>[def, _get_well_known_file, (, ), :, # TODO(or...</td>\n",
       "    </tr>\n",
       "    <tr>\n",
       "      <th>2</th>\n",
       "      <td>php</td>\n",
       "      <td>Recipient.setAsSubscribed</td>\n",
       "      <td>public function setAsSubscribed(\\DateTime $sub...</td>\n",
       "      <td>[public, function, setAsSubscribed, (, \\, Date...</td>\n",
       "    </tr>\n",
       "    <tr>\n",
       "      <th>3</th>\n",
       "      <td>python</td>\n",
       "      <td>Core.sendToSbs</td>\n",
       "      <td>def sendToSbs(self, challenge_id, item_id):\\n ...</td>\n",
       "      <td>[def, sendToSbs, (, self, ,, challenge_id, ,, ...</td>\n",
       "    </tr>\n",
       "    <tr>\n",
       "      <th>4</th>\n",
       "      <td>go</td>\n",
       "      <td>DockerClientVersion</td>\n",
       "      <td>func DockerClientVersion(ssh SSHCommander) (st...</td>\n",
       "      <td>[func, DockerClientVersion, (, ssh, SSHCommand...</td>\n",
       "    </tr>\n",
       "  </tbody>\n",
       "</table>\n",
       "</div>"
      ],
      "text/plain": [
       "  language                            func_name  \\\n",
       "0     java  ShadowPackageManager.removeActivity   \n",
       "1   python                 _get_well_known_file   \n",
       "2      php            Recipient.setAsSubscribed   \n",
       "3   python                       Core.sendToSbs   \n",
       "4       go                  DockerClientVersion   \n",
       "\n",
       "                                     original_string  \\\n",
       "0  @Nullable\\n  public ActivityInfo removeActivit...   \n",
       "1  def _get_well_known_file():\\n    \"\"\"Get the we...   \n",
       "2  public function setAsSubscribed(\\DateTime $sub...   \n",
       "3  def sendToSbs(self, challenge_id, item_id):\\n ...   \n",
       "4  func DockerClientVersion(ssh SSHCommander) (st...   \n",
       "\n",
       "                                         code_tokens  \n",
       "0  [@, Nullable, public, ActivityInfo, removeActi...  \n",
       "1  [def, _get_well_known_file, (, ), :, # TODO(or...  \n",
       "2  [public, function, setAsSubscribed, (, \\, Date...  \n",
       "3  [def, sendToSbs, (, self, ,, challenge_id, ,, ...  \n",
       "4  [func, DockerClientVersion, (, ssh, SSHCommand...  "
      ]
     },
     "execution_count": 9,
     "metadata": {},
     "output_type": "execute_result"
    }
   ],
   "source": [
    "df_val[[\"language\", \"func_name\", \"original_string\", \"code_tokens\"]].head()"
   ]
  },
  {
   "cell_type": "markdown",
   "metadata": {},
   "source": [
    "Let's take a look at some functions"
   ]
  },
  {
   "cell_type": "code",
   "execution_count": 11,
   "metadata": {},
   "outputs": [],
   "source": [
    "def display_code_example(df: pandas.DataFrame, language: str, n_examples: int = 1) -> None:\n",
    "    \"\"\"Display example(s) of function from DataFrame\"\"\"\n",
    "    assert n_examples >= 1\n",
    "    for i, code in enumerate(df_train[df_train[\"language\"] == language][\"original_string\"]):\n",
    "        display(Code(code, language=language))\n",
    "        if i + 1 >= n_examples:\n",
    "            break"
   ]
  },
  {
   "cell_type": "code",
   "execution_count": 12,
   "metadata": {},
   "outputs": [
    {
     "name": "stdout",
     "output_type": "stream",
     "text": [
      "Python examples\n"
     ]
    },
    {
     "data": {
      "text/html": [
       "<style>pre { line-height: 125%; }\n",
       "td.linenos .normal { color: inherit; background-color: transparent; padding-left: 5px; padding-right: 5px; }\n",
       "span.linenos { color: inherit; background-color: transparent; padding-left: 5px; padding-right: 5px; }\n",
       "td.linenos .special { color: #000000; background-color: #ffffc0; padding-left: 5px; padding-right: 5px; }\n",
       "span.linenos.special { color: #000000; background-color: #ffffc0; padding-left: 5px; padding-right: 5px; }\n",
       ".output_html .hll { background-color: #ffffcc }\n",
       ".output_html { background: #f8f8f8; }\n",
       ".output_html .c { color: #3D7B7B; font-style: italic } /* Comment */\n",
       ".output_html .err { border: 1px solid #FF0000 } /* Error */\n",
       ".output_html .k { color: #008000; font-weight: bold } /* Keyword */\n",
       ".output_html .o { color: #666666 } /* Operator */\n",
       ".output_html .ch { color: #3D7B7B; font-style: italic } /* Comment.Hashbang */\n",
       ".output_html .cm { color: #3D7B7B; font-style: italic } /* Comment.Multiline */\n",
       ".output_html .cp { color: #9C6500 } /* Comment.Preproc */\n",
       ".output_html .cpf { color: #3D7B7B; font-style: italic } /* Comment.PreprocFile */\n",
       ".output_html .c1 { color: #3D7B7B; font-style: italic } /* Comment.Single */\n",
       ".output_html .cs { color: #3D7B7B; font-style: italic } /* Comment.Special */\n",
       ".output_html .gd { color: #A00000 } /* Generic.Deleted */\n",
       ".output_html .ge { font-style: italic } /* Generic.Emph */\n",
       ".output_html .gr { color: #E40000 } /* Generic.Error */\n",
       ".output_html .gh { color: #000080; font-weight: bold } /* Generic.Heading */\n",
       ".output_html .gi { color: #008400 } /* Generic.Inserted */\n",
       ".output_html .go { color: #717171 } /* Generic.Output */\n",
       ".output_html .gp { color: #000080; font-weight: bold } /* Generic.Prompt */\n",
       ".output_html .gs { font-weight: bold } /* Generic.Strong */\n",
       ".output_html .gu { color: #800080; font-weight: bold } /* Generic.Subheading */\n",
       ".output_html .gt { color: #0044DD } /* Generic.Traceback */\n",
       ".output_html .kc { color: #008000; font-weight: bold } /* Keyword.Constant */\n",
       ".output_html .kd { color: #008000; font-weight: bold } /* Keyword.Declaration */\n",
       ".output_html .kn { color: #008000; font-weight: bold } /* Keyword.Namespace */\n",
       ".output_html .kp { color: #008000 } /* Keyword.Pseudo */\n",
       ".output_html .kr { color: #008000; font-weight: bold } /* Keyword.Reserved */\n",
       ".output_html .kt { color: #B00040 } /* Keyword.Type */\n",
       ".output_html .m { color: #666666 } /* Literal.Number */\n",
       ".output_html .s { color: #BA2121 } /* Literal.String */\n",
       ".output_html .na { color: #687822 } /* Name.Attribute */\n",
       ".output_html .nb { color: #008000 } /* Name.Builtin */\n",
       ".output_html .nc { color: #0000FF; font-weight: bold } /* Name.Class */\n",
       ".output_html .no { color: #880000 } /* Name.Constant */\n",
       ".output_html .nd { color: #AA22FF } /* Name.Decorator */\n",
       ".output_html .ni { color: #717171; font-weight: bold } /* Name.Entity */\n",
       ".output_html .ne { color: #CB3F38; font-weight: bold } /* Name.Exception */\n",
       ".output_html .nf { color: #0000FF } /* Name.Function */\n",
       ".output_html .nl { color: #767600 } /* Name.Label */\n",
       ".output_html .nn { color: #0000FF; font-weight: bold } /* Name.Namespace */\n",
       ".output_html .nt { color: #008000; font-weight: bold } /* Name.Tag */\n",
       ".output_html .nv { color: #19177C } /* Name.Variable */\n",
       ".output_html .ow { color: #AA22FF; font-weight: bold } /* Operator.Word */\n",
       ".output_html .w { color: #bbbbbb } /* Text.Whitespace */\n",
       ".output_html .mb { color: #666666 } /* Literal.Number.Bin */\n",
       ".output_html .mf { color: #666666 } /* Literal.Number.Float */\n",
       ".output_html .mh { color: #666666 } /* Literal.Number.Hex */\n",
       ".output_html .mi { color: #666666 } /* Literal.Number.Integer */\n",
       ".output_html .mo { color: #666666 } /* Literal.Number.Oct */\n",
       ".output_html .sa { color: #BA2121 } /* Literal.String.Affix */\n",
       ".output_html .sb { color: #BA2121 } /* Literal.String.Backtick */\n",
       ".output_html .sc { color: #BA2121 } /* Literal.String.Char */\n",
       ".output_html .dl { color: #BA2121 } /* Literal.String.Delimiter */\n",
       ".output_html .sd { color: #BA2121; font-style: italic } /* Literal.String.Doc */\n",
       ".output_html .s2 { color: #BA2121 } /* Literal.String.Double */\n",
       ".output_html .se { color: #AA5D1F; font-weight: bold } /* Literal.String.Escape */\n",
       ".output_html .sh { color: #BA2121 } /* Literal.String.Heredoc */\n",
       ".output_html .si { color: #A45A77; font-weight: bold } /* Literal.String.Interpol */\n",
       ".output_html .sx { color: #008000 } /* Literal.String.Other */\n",
       ".output_html .sr { color: #A45A77 } /* Literal.String.Regex */\n",
       ".output_html .s1 { color: #BA2121 } /* Literal.String.Single */\n",
       ".output_html .ss { color: #19177C } /* Literal.String.Symbol */\n",
       ".output_html .bp { color: #008000 } /* Name.Builtin.Pseudo */\n",
       ".output_html .fm { color: #0000FF } /* Name.Function.Magic */\n",
       ".output_html .vc { color: #19177C } /* Name.Variable.Class */\n",
       ".output_html .vg { color: #19177C } /* Name.Variable.Global */\n",
       ".output_html .vi { color: #19177C } /* Name.Variable.Instance */\n",
       ".output_html .vm { color: #19177C } /* Name.Variable.Magic */\n",
       ".output_html .il { color: #666666 } /* Literal.Number.Integer.Long */</style><div class=\"highlight\"><pre><span></span><span class=\"k\">def</span> <span class=\"nf\">__build_python_module_cache</span><span class=\"p\">(</span><span class=\"bp\">self</span><span class=\"p\">):</span>\n",
       "        <span class=\"sd\">&quot;&quot;&quot;Recursively walks through the b2/src subdirectories and</span>\n",
       "<span class=\"sd\">        creates an index of base module name to package name. The</span>\n",
       "<span class=\"sd\">        index is stored within self.__python_module_cache and allows</span>\n",
       "<span class=\"sd\">        for an O(1) module lookup.</span>\n",
       "\n",
       "<span class=\"sd\">        For example, given the base module name `toolset`,</span>\n",
       "<span class=\"sd\">        self.__python_module_cache[&#39;toolset&#39;] will return</span>\n",
       "<span class=\"sd\">        &#39;b2.build.toolset&#39;</span>\n",
       "\n",
       "<span class=\"sd\">        pkgutil.walk_packages() will find any python package</span>\n",
       "<span class=\"sd\">        provided a directory contains an __init__.py. This has the</span>\n",
       "<span class=\"sd\">        added benefit of allowing libraries to be installed and</span>\n",
       "<span class=\"sd\">        automatically avaiable within the contrib directory.</span>\n",
       "\n",
       "<span class=\"sd\">        *Note*: pkgutil.walk_packages() will import any subpackage</span>\n",
       "<span class=\"sd\">        in order to access its __path__variable. Meaning:</span>\n",
       "<span class=\"sd\">        any initialization code will be run if the package hasn&#39;t</span>\n",
       "<span class=\"sd\">        already been imported.</span>\n",
       "<span class=\"sd\">        &quot;&quot;&quot;</span>\n",
       "        <span class=\"n\">cache</span> <span class=\"o\">=</span> <span class=\"p\">{}</span>\n",
       "        <span class=\"k\">for</span> <span class=\"n\">importer</span><span class=\"p\">,</span> <span class=\"n\">mname</span><span class=\"p\">,</span> <span class=\"n\">ispkg</span> <span class=\"ow\">in</span> <span class=\"n\">pkgutil</span><span class=\"o\">.</span><span class=\"n\">walk_packages</span><span class=\"p\">(</span><span class=\"n\">b2</span><span class=\"o\">.</span><span class=\"n\">__path__</span><span class=\"p\">,</span> <span class=\"n\">prefix</span><span class=\"o\">=</span><span class=\"s1\">&#39;b2.&#39;</span><span class=\"p\">):</span>\n",
       "            <span class=\"n\">basename</span> <span class=\"o\">=</span> <span class=\"n\">mname</span><span class=\"o\">.</span><span class=\"n\">split</span><span class=\"p\">(</span><span class=\"s1\">&#39;.&#39;</span><span class=\"p\">)[</span><span class=\"o\">-</span><span class=\"mi\">1</span><span class=\"p\">]</span>\n",
       "            <span class=\"c1\"># since the jam code is only going to have &quot;import toolset ;&quot;</span>\n",
       "            <span class=\"c1\"># it doesn&#39;t matter if there are separately named &quot;b2.build.toolset&quot; and</span>\n",
       "            <span class=\"c1\"># &quot;b2.contrib.toolset&quot; as it is impossible to know which the user is</span>\n",
       "            <span class=\"c1\"># referring to.</span>\n",
       "            <span class=\"k\">if</span> <span class=\"n\">basename</span> <span class=\"ow\">in</span> <span class=\"n\">cache</span><span class=\"p\">:</span>\n",
       "                <span class=\"bp\">self</span><span class=\"o\">.</span><span class=\"n\">manager</span><span class=\"o\">.</span><span class=\"n\">errors</span><span class=\"p\">()(</span><span class=\"s1\">&#39;duplicate module name &quot;</span><span class=\"si\">{0}</span><span class=\"s1\">&quot; &#39;</span>\n",
       "                                      <span class=\"s1\">&#39;found in boost-build path&#39;</span><span class=\"o\">.</span><span class=\"n\">format</span><span class=\"p\">(</span><span class=\"n\">basename</span><span class=\"p\">))</span>\n",
       "            <span class=\"n\">cache</span><span class=\"p\">[</span><span class=\"n\">basename</span><span class=\"p\">]</span> <span class=\"o\">=</span> <span class=\"n\">mname</span>\n",
       "        <span class=\"bp\">self</span><span class=\"o\">.</span><span class=\"n\">__python_module_cache</span> <span class=\"o\">=</span> <span class=\"n\">cache</span>\n",
       "</pre></div>\n"
      ],
      "text/latex": [
       "\\begin{Verbatim}[commandchars=\\\\\\{\\}]\n",
       "\\PY{k}{def} \\PY{n+nf}{\\PYZus{}\\PYZus{}build\\PYZus{}python\\PYZus{}module\\PYZus{}cache}\\PY{p}{(}\\PY{n+nb+bp}{self}\\PY{p}{)}\\PY{p}{:}\n",
       "        \\PY{l+s+sd}{\\PYZdq{}\\PYZdq{}\\PYZdq{}Recursively walks through the b2/src subdirectories and}\n",
       "\\PY{l+s+sd}{        creates an index of base module name to package name. The}\n",
       "\\PY{l+s+sd}{        index is stored within self.\\PYZus{}\\PYZus{}python\\PYZus{}module\\PYZus{}cache and allows}\n",
       "\\PY{l+s+sd}{        for an O(1) module lookup.}\n",
       "\n",
       "\\PY{l+s+sd}{        For example, given the base module name `toolset`,}\n",
       "\\PY{l+s+sd}{        self.\\PYZus{}\\PYZus{}python\\PYZus{}module\\PYZus{}cache[\\PYZsq{}toolset\\PYZsq{}] will return}\n",
       "\\PY{l+s+sd}{        \\PYZsq{}b2.build.toolset\\PYZsq{}}\n",
       "\n",
       "\\PY{l+s+sd}{        pkgutil.walk\\PYZus{}packages() will find any python package}\n",
       "\\PY{l+s+sd}{        provided a directory contains an \\PYZus{}\\PYZus{}init\\PYZus{}\\PYZus{}.py. This has the}\n",
       "\\PY{l+s+sd}{        added benefit of allowing libraries to be installed and}\n",
       "\\PY{l+s+sd}{        automatically avaiable within the contrib directory.}\n",
       "\n",
       "\\PY{l+s+sd}{        *Note*: pkgutil.walk\\PYZus{}packages() will import any subpackage}\n",
       "\\PY{l+s+sd}{        in order to access its \\PYZus{}\\PYZus{}path\\PYZus{}\\PYZus{}variable. Meaning:}\n",
       "\\PY{l+s+sd}{        any initialization code will be run if the package hasn\\PYZsq{}t}\n",
       "\\PY{l+s+sd}{        already been imported.}\n",
       "\\PY{l+s+sd}{        \\PYZdq{}\\PYZdq{}\\PYZdq{}}\n",
       "        \\PY{n}{cache} \\PY{o}{=} \\PY{p}{\\PYZob{}}\\PY{p}{\\PYZcb{}}\n",
       "        \\PY{k}{for} \\PY{n}{importer}\\PY{p}{,} \\PY{n}{mname}\\PY{p}{,} \\PY{n}{ispkg} \\PY{o+ow}{in} \\PY{n}{pkgutil}\\PY{o}{.}\\PY{n}{walk\\PYZus{}packages}\\PY{p}{(}\\PY{n}{b2}\\PY{o}{.}\\PY{n}{\\PYZus{}\\PYZus{}path\\PYZus{}\\PYZus{}}\\PY{p}{,} \\PY{n}{prefix}\\PY{o}{=}\\PY{l+s+s1}{\\PYZsq{}}\\PY{l+s+s1}{b2.}\\PY{l+s+s1}{\\PYZsq{}}\\PY{p}{)}\\PY{p}{:}\n",
       "            \\PY{n}{basename} \\PY{o}{=} \\PY{n}{mname}\\PY{o}{.}\\PY{n}{split}\\PY{p}{(}\\PY{l+s+s1}{\\PYZsq{}}\\PY{l+s+s1}{.}\\PY{l+s+s1}{\\PYZsq{}}\\PY{p}{)}\\PY{p}{[}\\PY{o}{\\PYZhy{}}\\PY{l+m+mi}{1}\\PY{p}{]}\n",
       "            \\PY{c+c1}{\\PYZsh{} since the jam code is only going to have \\PYZdq{}import toolset ;\\PYZdq{}}\n",
       "            \\PY{c+c1}{\\PYZsh{} it doesn\\PYZsq{}t matter if there are separately named \\PYZdq{}b2.build.toolset\\PYZdq{} and}\n",
       "            \\PY{c+c1}{\\PYZsh{} \\PYZdq{}b2.contrib.toolset\\PYZdq{} as it is impossible to know which the user is}\n",
       "            \\PY{c+c1}{\\PYZsh{} referring to.}\n",
       "            \\PY{k}{if} \\PY{n}{basename} \\PY{o+ow}{in} \\PY{n}{cache}\\PY{p}{:}\n",
       "                \\PY{n+nb+bp}{self}\\PY{o}{.}\\PY{n}{manager}\\PY{o}{.}\\PY{n}{errors}\\PY{p}{(}\\PY{p}{)}\\PY{p}{(}\\PY{l+s+s1}{\\PYZsq{}}\\PY{l+s+s1}{duplicate module name }\\PY{l+s+s1}{\\PYZdq{}}\\PY{l+s+si}{\\PYZob{}0\\PYZcb{}}\\PY{l+s+s1}{\\PYZdq{}}\\PY{l+s+s1}{ }\\PY{l+s+s1}{\\PYZsq{}}\n",
       "                                      \\PY{l+s+s1}{\\PYZsq{}}\\PY{l+s+s1}{found in boost\\PYZhy{}build path}\\PY{l+s+s1}{\\PYZsq{}}\\PY{o}{.}\\PY{n}{format}\\PY{p}{(}\\PY{n}{basename}\\PY{p}{)}\\PY{p}{)}\n",
       "            \\PY{n}{cache}\\PY{p}{[}\\PY{n}{basename}\\PY{p}{]} \\PY{o}{=} \\PY{n}{mname}\n",
       "        \\PY{n+nb+bp}{self}\\PY{o}{.}\\PY{n}{\\PYZus{}\\PYZus{}python\\PYZus{}module\\PYZus{}cache} \\PY{o}{=} \\PY{n}{cache}\n",
       "\\end{Verbatim}\n"
      ],
      "text/plain": [
       "def __build_python_module_cache(self):\n",
       "        \"\"\"Recursively walks through the b2/src subdirectories and\n",
       "        creates an index of base module name to package name. The\n",
       "        index is stored within self.__python_module_cache and allows\n",
       "        for an O(1) module lookup.\n",
       "\n",
       "        For example, given the base module name `toolset`,\n",
       "        self.__python_module_cache['toolset'] will return\n",
       "        'b2.build.toolset'\n",
       "\n",
       "        pkgutil.walk_packages() will find any python package\n",
       "        provided a directory contains an __init__.py. This has the\n",
       "        added benefit of allowing libraries to be installed and\n",
       "        automatically avaiable within the contrib directory.\n",
       "\n",
       "        *Note*: pkgutil.walk_packages() will import any subpackage\n",
       "        in order to access its __path__variable. Meaning:\n",
       "        any initialization code will be run if the package hasn't\n",
       "        already been imported.\n",
       "        \"\"\"\n",
       "        cache = {}\n",
       "        for importer, mname, ispkg in pkgutil.walk_packages(b2.__path__, prefix='b2.'):\n",
       "            basename = mname.split('.')[-1]\n",
       "            # since the jam code is only going to have \"import toolset ;\"\n",
       "            # it doesn't matter if there are separately named \"b2.build.toolset\" and\n",
       "            # \"b2.contrib.toolset\" as it is impossible to know which the user is\n",
       "            # referring to.\n",
       "            if basename in cache:\n",
       "                self.manager.errors()('duplicate module name \"{0}\" '\n",
       "                                      'found in boost-build path'.format(basename))\n",
       "            cache[basename] = mname\n",
       "        self.__python_module_cache = cache"
      ]
     },
     "metadata": {},
     "output_type": "display_data"
    },
    {
     "data": {
      "text/html": [
       "<style>pre { line-height: 125%; }\n",
       "td.linenos .normal { color: inherit; background-color: transparent; padding-left: 5px; padding-right: 5px; }\n",
       "span.linenos { color: inherit; background-color: transparent; padding-left: 5px; padding-right: 5px; }\n",
       "td.linenos .special { color: #000000; background-color: #ffffc0; padding-left: 5px; padding-right: 5px; }\n",
       "span.linenos.special { color: #000000; background-color: #ffffc0; padding-left: 5px; padding-right: 5px; }\n",
       ".output_html .hll { background-color: #ffffcc }\n",
       ".output_html { background: #f8f8f8; }\n",
       ".output_html .c { color: #3D7B7B; font-style: italic } /* Comment */\n",
       ".output_html .err { border: 1px solid #FF0000 } /* Error */\n",
       ".output_html .k { color: #008000; font-weight: bold } /* Keyword */\n",
       ".output_html .o { color: #666666 } /* Operator */\n",
       ".output_html .ch { color: #3D7B7B; font-style: italic } /* Comment.Hashbang */\n",
       ".output_html .cm { color: #3D7B7B; font-style: italic } /* Comment.Multiline */\n",
       ".output_html .cp { color: #9C6500 } /* Comment.Preproc */\n",
       ".output_html .cpf { color: #3D7B7B; font-style: italic } /* Comment.PreprocFile */\n",
       ".output_html .c1 { color: #3D7B7B; font-style: italic } /* Comment.Single */\n",
       ".output_html .cs { color: #3D7B7B; font-style: italic } /* Comment.Special */\n",
       ".output_html .gd { color: #A00000 } /* Generic.Deleted */\n",
       ".output_html .ge { font-style: italic } /* Generic.Emph */\n",
       ".output_html .gr { color: #E40000 } /* Generic.Error */\n",
       ".output_html .gh { color: #000080; font-weight: bold } /* Generic.Heading */\n",
       ".output_html .gi { color: #008400 } /* Generic.Inserted */\n",
       ".output_html .go { color: #717171 } /* Generic.Output */\n",
       ".output_html .gp { color: #000080; font-weight: bold } /* Generic.Prompt */\n",
       ".output_html .gs { font-weight: bold } /* Generic.Strong */\n",
       ".output_html .gu { color: #800080; font-weight: bold } /* Generic.Subheading */\n",
       ".output_html .gt { color: #0044DD } /* Generic.Traceback */\n",
       ".output_html .kc { color: #008000; font-weight: bold } /* Keyword.Constant */\n",
       ".output_html .kd { color: #008000; font-weight: bold } /* Keyword.Declaration */\n",
       ".output_html .kn { color: #008000; font-weight: bold } /* Keyword.Namespace */\n",
       ".output_html .kp { color: #008000 } /* Keyword.Pseudo */\n",
       ".output_html .kr { color: #008000; font-weight: bold } /* Keyword.Reserved */\n",
       ".output_html .kt { color: #B00040 } /* Keyword.Type */\n",
       ".output_html .m { color: #666666 } /* Literal.Number */\n",
       ".output_html .s { color: #BA2121 } /* Literal.String */\n",
       ".output_html .na { color: #687822 } /* Name.Attribute */\n",
       ".output_html .nb { color: #008000 } /* Name.Builtin */\n",
       ".output_html .nc { color: #0000FF; font-weight: bold } /* Name.Class */\n",
       ".output_html .no { color: #880000 } /* Name.Constant */\n",
       ".output_html .nd { color: #AA22FF } /* Name.Decorator */\n",
       ".output_html .ni { color: #717171; font-weight: bold } /* Name.Entity */\n",
       ".output_html .ne { color: #CB3F38; font-weight: bold } /* Name.Exception */\n",
       ".output_html .nf { color: #0000FF } /* Name.Function */\n",
       ".output_html .nl { color: #767600 } /* Name.Label */\n",
       ".output_html .nn { color: #0000FF; font-weight: bold } /* Name.Namespace */\n",
       ".output_html .nt { color: #008000; font-weight: bold } /* Name.Tag */\n",
       ".output_html .nv { color: #19177C } /* Name.Variable */\n",
       ".output_html .ow { color: #AA22FF; font-weight: bold } /* Operator.Word */\n",
       ".output_html .w { color: #bbbbbb } /* Text.Whitespace */\n",
       ".output_html .mb { color: #666666 } /* Literal.Number.Bin */\n",
       ".output_html .mf { color: #666666 } /* Literal.Number.Float */\n",
       ".output_html .mh { color: #666666 } /* Literal.Number.Hex */\n",
       ".output_html .mi { color: #666666 } /* Literal.Number.Integer */\n",
       ".output_html .mo { color: #666666 } /* Literal.Number.Oct */\n",
       ".output_html .sa { color: #BA2121 } /* Literal.String.Affix */\n",
       ".output_html .sb { color: #BA2121 } /* Literal.String.Backtick */\n",
       ".output_html .sc { color: #BA2121 } /* Literal.String.Char */\n",
       ".output_html .dl { color: #BA2121 } /* Literal.String.Delimiter */\n",
       ".output_html .sd { color: #BA2121; font-style: italic } /* Literal.String.Doc */\n",
       ".output_html .s2 { color: #BA2121 } /* Literal.String.Double */\n",
       ".output_html .se { color: #AA5D1F; font-weight: bold } /* Literal.String.Escape */\n",
       ".output_html .sh { color: #BA2121 } /* Literal.String.Heredoc */\n",
       ".output_html .si { color: #A45A77; font-weight: bold } /* Literal.String.Interpol */\n",
       ".output_html .sx { color: #008000 } /* Literal.String.Other */\n",
       ".output_html .sr { color: #A45A77 } /* Literal.String.Regex */\n",
       ".output_html .s1 { color: #BA2121 } /* Literal.String.Single */\n",
       ".output_html .ss { color: #19177C } /* Literal.String.Symbol */\n",
       ".output_html .bp { color: #008000 } /* Name.Builtin.Pseudo */\n",
       ".output_html .fm { color: #0000FF } /* Name.Function.Magic */\n",
       ".output_html .vc { color: #19177C } /* Name.Variable.Class */\n",
       ".output_html .vg { color: #19177C } /* Name.Variable.Global */\n",
       ".output_html .vi { color: #19177C } /* Name.Variable.Instance */\n",
       ".output_html .vm { color: #19177C } /* Name.Variable.Magic */\n",
       ".output_html .il { color: #666666 } /* Literal.Number.Integer.Long */</style><div class=\"highlight\"><pre><span></span><span class=\"k\">def</span> <span class=\"nf\">_recv</span><span class=\"p\">(</span><span class=\"bp\">self</span><span class=\"p\">):</span>\n",
       "        <span class=\"sd\">&quot;&quot;&quot;Take all available bytes from socket, return list of any responses from parser&quot;&quot;&quot;</span>\n",
       "        <span class=\"n\">recvd</span> <span class=\"o\">=</span> <span class=\"p\">[]</span>\n",
       "        <span class=\"bp\">self</span><span class=\"o\">.</span><span class=\"n\">_lock</span><span class=\"o\">.</span><span class=\"n\">acquire</span><span class=\"p\">()</span>\n",
       "        <span class=\"k\">if</span> <span class=\"ow\">not</span> <span class=\"bp\">self</span><span class=\"o\">.</span><span class=\"n\">_can_send_recv</span><span class=\"p\">():</span>\n",
       "            <span class=\"n\">log</span><span class=\"o\">.</span><span class=\"n\">warning</span><span class=\"p\">(</span><span class=\"s1\">&#39;</span><span class=\"si\">%s</span><span class=\"s1\"> cannot recv: socket not connected&#39;</span><span class=\"p\">,</span> <span class=\"bp\">self</span><span class=\"p\">)</span>\n",
       "            <span class=\"bp\">self</span><span class=\"o\">.</span><span class=\"n\">_lock</span><span class=\"o\">.</span><span class=\"n\">release</span><span class=\"p\">()</span>\n",
       "            <span class=\"k\">return</span> <span class=\"p\">()</span>\n",
       "\n",
       "        <span class=\"k\">while</span> <span class=\"nb\">len</span><span class=\"p\">(</span><span class=\"n\">recvd</span><span class=\"p\">)</span> <span class=\"o\">&lt;</span> <span class=\"bp\">self</span><span class=\"o\">.</span><span class=\"n\">config</span><span class=\"p\">[</span><span class=\"s1\">&#39;sock_chunk_buffer_count&#39;</span><span class=\"p\">]:</span>\n",
       "            <span class=\"k\">try</span><span class=\"p\">:</span>\n",
       "                <span class=\"n\">data</span> <span class=\"o\">=</span> <span class=\"bp\">self</span><span class=\"o\">.</span><span class=\"n\">_sock</span><span class=\"o\">.</span><span class=\"n\">recv</span><span class=\"p\">(</span><span class=\"bp\">self</span><span class=\"o\">.</span><span class=\"n\">config</span><span class=\"p\">[</span><span class=\"s1\">&#39;sock_chunk_bytes&#39;</span><span class=\"p\">])</span>\n",
       "                <span class=\"c1\"># We expect socket.recv to raise an exception if there are no</span>\n",
       "                <span class=\"c1\"># bytes available to read from the socket in non-blocking mode.</span>\n",
       "                <span class=\"c1\"># but if the socket is disconnected, we will get empty data</span>\n",
       "                <span class=\"c1\"># without an exception raised</span>\n",
       "                <span class=\"k\">if</span> <span class=\"ow\">not</span> <span class=\"n\">data</span><span class=\"p\">:</span>\n",
       "                    <span class=\"n\">log</span><span class=\"o\">.</span><span class=\"n\">error</span><span class=\"p\">(</span><span class=\"s1\">&#39;</span><span class=\"si\">%s</span><span class=\"s1\">: socket disconnected&#39;</span><span class=\"p\">,</span> <span class=\"bp\">self</span><span class=\"p\">)</span>\n",
       "                    <span class=\"bp\">self</span><span class=\"o\">.</span><span class=\"n\">_lock</span><span class=\"o\">.</span><span class=\"n\">release</span><span class=\"p\">()</span>\n",
       "                    <span class=\"bp\">self</span><span class=\"o\">.</span><span class=\"n\">close</span><span class=\"p\">(</span><span class=\"n\">error</span><span class=\"o\">=</span><span class=\"n\">Errors</span><span class=\"o\">.</span><span class=\"n\">KafkaConnectionError</span><span class=\"p\">(</span><span class=\"s1\">&#39;socket disconnected&#39;</span><span class=\"p\">))</span>\n",
       "                    <span class=\"k\">return</span> <span class=\"p\">[]</span>\n",
       "                <span class=\"k\">else</span><span class=\"p\">:</span>\n",
       "                    <span class=\"n\">recvd</span><span class=\"o\">.</span><span class=\"n\">append</span><span class=\"p\">(</span><span class=\"n\">data</span><span class=\"p\">)</span>\n",
       "\n",
       "            <span class=\"k\">except</span> <span class=\"n\">SSLWantReadError</span><span class=\"p\">:</span>\n",
       "                <span class=\"k\">break</span>\n",
       "            <span class=\"k\">except</span> <span class=\"ne\">ConnectionError</span> <span class=\"k\">as</span> <span class=\"n\">e</span><span class=\"p\">:</span>\n",
       "                <span class=\"k\">if</span> <span class=\"n\">six</span><span class=\"o\">.</span><span class=\"n\">PY2</span> <span class=\"ow\">and</span> <span class=\"n\">e</span><span class=\"o\">.</span><span class=\"n\">errno</span> <span class=\"o\">==</span> <span class=\"n\">errno</span><span class=\"o\">.</span><span class=\"n\">EWOULDBLOCK</span><span class=\"p\">:</span>\n",
       "                    <span class=\"k\">break</span>\n",
       "                <span class=\"n\">log</span><span class=\"o\">.</span><span class=\"n\">exception</span><span class=\"p\">(</span><span class=\"s1\">&#39;</span><span class=\"si\">%s</span><span class=\"s1\">: Error receiving network data&#39;</span>\n",
       "                              <span class=\"s1\">&#39; closing socket&#39;</span><span class=\"p\">,</span> <span class=\"bp\">self</span><span class=\"p\">)</span>\n",
       "                <span class=\"bp\">self</span><span class=\"o\">.</span><span class=\"n\">_lock</span><span class=\"o\">.</span><span class=\"n\">release</span><span class=\"p\">()</span>\n",
       "                <span class=\"bp\">self</span><span class=\"o\">.</span><span class=\"n\">close</span><span class=\"p\">(</span><span class=\"n\">error</span><span class=\"o\">=</span><span class=\"n\">Errors</span><span class=\"o\">.</span><span class=\"n\">KafkaConnectionError</span><span class=\"p\">(</span><span class=\"n\">e</span><span class=\"p\">))</span>\n",
       "                <span class=\"k\">return</span> <span class=\"p\">[]</span>\n",
       "            <span class=\"k\">except</span> <span class=\"ne\">BlockingIOError</span><span class=\"p\">:</span>\n",
       "                <span class=\"k\">if</span> <span class=\"n\">six</span><span class=\"o\">.</span><span class=\"n\">PY3</span><span class=\"p\">:</span>\n",
       "                    <span class=\"k\">break</span>\n",
       "                <span class=\"bp\">self</span><span class=\"o\">.</span><span class=\"n\">_lock</span><span class=\"o\">.</span><span class=\"n\">release</span><span class=\"p\">()</span>\n",
       "                <span class=\"k\">raise</span>\n",
       "\n",
       "        <span class=\"n\">recvd_data</span> <span class=\"o\">=</span> <span class=\"sa\">b</span><span class=\"s1\">&#39;&#39;</span><span class=\"o\">.</span><span class=\"n\">join</span><span class=\"p\">(</span><span class=\"n\">recvd</span><span class=\"p\">)</span>\n",
       "        <span class=\"k\">if</span> <span class=\"bp\">self</span><span class=\"o\">.</span><span class=\"n\">_sensors</span><span class=\"p\">:</span>\n",
       "            <span class=\"bp\">self</span><span class=\"o\">.</span><span class=\"n\">_sensors</span><span class=\"o\">.</span><span class=\"n\">bytes_received</span><span class=\"o\">.</span><span class=\"n\">record</span><span class=\"p\">(</span><span class=\"nb\">len</span><span class=\"p\">(</span><span class=\"n\">recvd_data</span><span class=\"p\">))</span>\n",
       "\n",
       "        <span class=\"k\">try</span><span class=\"p\">:</span>\n",
       "            <span class=\"n\">responses</span> <span class=\"o\">=</span> <span class=\"bp\">self</span><span class=\"o\">.</span><span class=\"n\">_protocol</span><span class=\"o\">.</span><span class=\"n\">receive_bytes</span><span class=\"p\">(</span><span class=\"n\">recvd_data</span><span class=\"p\">)</span>\n",
       "        <span class=\"k\">except</span> <span class=\"n\">Errors</span><span class=\"o\">.</span><span class=\"n\">KafkaProtocolError</span> <span class=\"k\">as</span> <span class=\"n\">e</span><span class=\"p\">:</span>\n",
       "            <span class=\"bp\">self</span><span class=\"o\">.</span><span class=\"n\">_lock</span><span class=\"o\">.</span><span class=\"n\">release</span><span class=\"p\">()</span>\n",
       "            <span class=\"bp\">self</span><span class=\"o\">.</span><span class=\"n\">close</span><span class=\"p\">(</span><span class=\"n\">e</span><span class=\"p\">)</span>\n",
       "            <span class=\"k\">return</span> <span class=\"p\">[]</span>\n",
       "        <span class=\"k\">else</span><span class=\"p\">:</span>\n",
       "            <span class=\"bp\">self</span><span class=\"o\">.</span><span class=\"n\">_lock</span><span class=\"o\">.</span><span class=\"n\">release</span><span class=\"p\">()</span>\n",
       "            <span class=\"k\">return</span> <span class=\"n\">responses</span>\n",
       "</pre></div>\n"
      ],
      "text/latex": [
       "\\begin{Verbatim}[commandchars=\\\\\\{\\}]\n",
       "\\PY{k}{def} \\PY{n+nf}{\\PYZus{}recv}\\PY{p}{(}\\PY{n+nb+bp}{self}\\PY{p}{)}\\PY{p}{:}\n",
       "        \\PY{l+s+sd}{\\PYZdq{}\\PYZdq{}\\PYZdq{}Take all available bytes from socket, return list of any responses from parser\\PYZdq{}\\PYZdq{}\\PYZdq{}}\n",
       "        \\PY{n}{recvd} \\PY{o}{=} \\PY{p}{[}\\PY{p}{]}\n",
       "        \\PY{n+nb+bp}{self}\\PY{o}{.}\\PY{n}{\\PYZus{}lock}\\PY{o}{.}\\PY{n}{acquire}\\PY{p}{(}\\PY{p}{)}\n",
       "        \\PY{k}{if} \\PY{o+ow}{not} \\PY{n+nb+bp}{self}\\PY{o}{.}\\PY{n}{\\PYZus{}can\\PYZus{}send\\PYZus{}recv}\\PY{p}{(}\\PY{p}{)}\\PY{p}{:}\n",
       "            \\PY{n}{log}\\PY{o}{.}\\PY{n}{warning}\\PY{p}{(}\\PY{l+s+s1}{\\PYZsq{}}\\PY{l+s+si}{\\PYZpc{}s}\\PY{l+s+s1}{ cannot recv: socket not connected}\\PY{l+s+s1}{\\PYZsq{}}\\PY{p}{,} \\PY{n+nb+bp}{self}\\PY{p}{)}\n",
       "            \\PY{n+nb+bp}{self}\\PY{o}{.}\\PY{n}{\\PYZus{}lock}\\PY{o}{.}\\PY{n}{release}\\PY{p}{(}\\PY{p}{)}\n",
       "            \\PY{k}{return} \\PY{p}{(}\\PY{p}{)}\n",
       "\n",
       "        \\PY{k}{while} \\PY{n+nb}{len}\\PY{p}{(}\\PY{n}{recvd}\\PY{p}{)} \\PY{o}{\\PYZlt{}} \\PY{n+nb+bp}{self}\\PY{o}{.}\\PY{n}{config}\\PY{p}{[}\\PY{l+s+s1}{\\PYZsq{}}\\PY{l+s+s1}{sock\\PYZus{}chunk\\PYZus{}buffer\\PYZus{}count}\\PY{l+s+s1}{\\PYZsq{}}\\PY{p}{]}\\PY{p}{:}\n",
       "            \\PY{k}{try}\\PY{p}{:}\n",
       "                \\PY{n}{data} \\PY{o}{=} \\PY{n+nb+bp}{self}\\PY{o}{.}\\PY{n}{\\PYZus{}sock}\\PY{o}{.}\\PY{n}{recv}\\PY{p}{(}\\PY{n+nb+bp}{self}\\PY{o}{.}\\PY{n}{config}\\PY{p}{[}\\PY{l+s+s1}{\\PYZsq{}}\\PY{l+s+s1}{sock\\PYZus{}chunk\\PYZus{}bytes}\\PY{l+s+s1}{\\PYZsq{}}\\PY{p}{]}\\PY{p}{)}\n",
       "                \\PY{c+c1}{\\PYZsh{} We expect socket.recv to raise an exception if there are no}\n",
       "                \\PY{c+c1}{\\PYZsh{} bytes available to read from the socket in non\\PYZhy{}blocking mode.}\n",
       "                \\PY{c+c1}{\\PYZsh{} but if the socket is disconnected, we will get empty data}\n",
       "                \\PY{c+c1}{\\PYZsh{} without an exception raised}\n",
       "                \\PY{k}{if} \\PY{o+ow}{not} \\PY{n}{data}\\PY{p}{:}\n",
       "                    \\PY{n}{log}\\PY{o}{.}\\PY{n}{error}\\PY{p}{(}\\PY{l+s+s1}{\\PYZsq{}}\\PY{l+s+si}{\\PYZpc{}s}\\PY{l+s+s1}{: socket disconnected}\\PY{l+s+s1}{\\PYZsq{}}\\PY{p}{,} \\PY{n+nb+bp}{self}\\PY{p}{)}\n",
       "                    \\PY{n+nb+bp}{self}\\PY{o}{.}\\PY{n}{\\PYZus{}lock}\\PY{o}{.}\\PY{n}{release}\\PY{p}{(}\\PY{p}{)}\n",
       "                    \\PY{n+nb+bp}{self}\\PY{o}{.}\\PY{n}{close}\\PY{p}{(}\\PY{n}{error}\\PY{o}{=}\\PY{n}{Errors}\\PY{o}{.}\\PY{n}{KafkaConnectionError}\\PY{p}{(}\\PY{l+s+s1}{\\PYZsq{}}\\PY{l+s+s1}{socket disconnected}\\PY{l+s+s1}{\\PYZsq{}}\\PY{p}{)}\\PY{p}{)}\n",
       "                    \\PY{k}{return} \\PY{p}{[}\\PY{p}{]}\n",
       "                \\PY{k}{else}\\PY{p}{:}\n",
       "                    \\PY{n}{recvd}\\PY{o}{.}\\PY{n}{append}\\PY{p}{(}\\PY{n}{data}\\PY{p}{)}\n",
       "\n",
       "            \\PY{k}{except} \\PY{n}{SSLWantReadError}\\PY{p}{:}\n",
       "                \\PY{k}{break}\n",
       "            \\PY{k}{except} \\PY{n+ne}{ConnectionError} \\PY{k}{as} \\PY{n}{e}\\PY{p}{:}\n",
       "                \\PY{k}{if} \\PY{n}{six}\\PY{o}{.}\\PY{n}{PY2} \\PY{o+ow}{and} \\PY{n}{e}\\PY{o}{.}\\PY{n}{errno} \\PY{o}{==} \\PY{n}{errno}\\PY{o}{.}\\PY{n}{EWOULDBLOCK}\\PY{p}{:}\n",
       "                    \\PY{k}{break}\n",
       "                \\PY{n}{log}\\PY{o}{.}\\PY{n}{exception}\\PY{p}{(}\\PY{l+s+s1}{\\PYZsq{}}\\PY{l+s+si}{\\PYZpc{}s}\\PY{l+s+s1}{: Error receiving network data}\\PY{l+s+s1}{\\PYZsq{}}\n",
       "                              \\PY{l+s+s1}{\\PYZsq{}}\\PY{l+s+s1}{ closing socket}\\PY{l+s+s1}{\\PYZsq{}}\\PY{p}{,} \\PY{n+nb+bp}{self}\\PY{p}{)}\n",
       "                \\PY{n+nb+bp}{self}\\PY{o}{.}\\PY{n}{\\PYZus{}lock}\\PY{o}{.}\\PY{n}{release}\\PY{p}{(}\\PY{p}{)}\n",
       "                \\PY{n+nb+bp}{self}\\PY{o}{.}\\PY{n}{close}\\PY{p}{(}\\PY{n}{error}\\PY{o}{=}\\PY{n}{Errors}\\PY{o}{.}\\PY{n}{KafkaConnectionError}\\PY{p}{(}\\PY{n}{e}\\PY{p}{)}\\PY{p}{)}\n",
       "                \\PY{k}{return} \\PY{p}{[}\\PY{p}{]}\n",
       "            \\PY{k}{except} \\PY{n+ne}{BlockingIOError}\\PY{p}{:}\n",
       "                \\PY{k}{if} \\PY{n}{six}\\PY{o}{.}\\PY{n}{PY3}\\PY{p}{:}\n",
       "                    \\PY{k}{break}\n",
       "                \\PY{n+nb+bp}{self}\\PY{o}{.}\\PY{n}{\\PYZus{}lock}\\PY{o}{.}\\PY{n}{release}\\PY{p}{(}\\PY{p}{)}\n",
       "                \\PY{k}{raise}\n",
       "\n",
       "        \\PY{n}{recvd\\PYZus{}data} \\PY{o}{=} \\PY{l+s+sa}{b}\\PY{l+s+s1}{\\PYZsq{}}\\PY{l+s+s1}{\\PYZsq{}}\\PY{o}{.}\\PY{n}{join}\\PY{p}{(}\\PY{n}{recvd}\\PY{p}{)}\n",
       "        \\PY{k}{if} \\PY{n+nb+bp}{self}\\PY{o}{.}\\PY{n}{\\PYZus{}sensors}\\PY{p}{:}\n",
       "            \\PY{n+nb+bp}{self}\\PY{o}{.}\\PY{n}{\\PYZus{}sensors}\\PY{o}{.}\\PY{n}{bytes\\PYZus{}received}\\PY{o}{.}\\PY{n}{record}\\PY{p}{(}\\PY{n+nb}{len}\\PY{p}{(}\\PY{n}{recvd\\PYZus{}data}\\PY{p}{)}\\PY{p}{)}\n",
       "\n",
       "        \\PY{k}{try}\\PY{p}{:}\n",
       "            \\PY{n}{responses} \\PY{o}{=} \\PY{n+nb+bp}{self}\\PY{o}{.}\\PY{n}{\\PYZus{}protocol}\\PY{o}{.}\\PY{n}{receive\\PYZus{}bytes}\\PY{p}{(}\\PY{n}{recvd\\PYZus{}data}\\PY{p}{)}\n",
       "        \\PY{k}{except} \\PY{n}{Errors}\\PY{o}{.}\\PY{n}{KafkaProtocolError} \\PY{k}{as} \\PY{n}{e}\\PY{p}{:}\n",
       "            \\PY{n+nb+bp}{self}\\PY{o}{.}\\PY{n}{\\PYZus{}lock}\\PY{o}{.}\\PY{n}{release}\\PY{p}{(}\\PY{p}{)}\n",
       "            \\PY{n+nb+bp}{self}\\PY{o}{.}\\PY{n}{close}\\PY{p}{(}\\PY{n}{e}\\PY{p}{)}\n",
       "            \\PY{k}{return} \\PY{p}{[}\\PY{p}{]}\n",
       "        \\PY{k}{else}\\PY{p}{:}\n",
       "            \\PY{n+nb+bp}{self}\\PY{o}{.}\\PY{n}{\\PYZus{}lock}\\PY{o}{.}\\PY{n}{release}\\PY{p}{(}\\PY{p}{)}\n",
       "            \\PY{k}{return} \\PY{n}{responses}\n",
       "\\end{Verbatim}\n"
      ],
      "text/plain": [
       "def _recv(self):\n",
       "        \"\"\"Take all available bytes from socket, return list of any responses from parser\"\"\"\n",
       "        recvd = []\n",
       "        self._lock.acquire()\n",
       "        if not self._can_send_recv():\n",
       "            log.warning('%s cannot recv: socket not connected', self)\n",
       "            self._lock.release()\n",
       "            return ()\n",
       "\n",
       "        while len(recvd) < self.config['sock_chunk_buffer_count']:\n",
       "            try:\n",
       "                data = self._sock.recv(self.config['sock_chunk_bytes'])\n",
       "                # We expect socket.recv to raise an exception if there are no\n",
       "                # bytes available to read from the socket in non-blocking mode.\n",
       "                # but if the socket is disconnected, we will get empty data\n",
       "                # without an exception raised\n",
       "                if not data:\n",
       "                    log.error('%s: socket disconnected', self)\n",
       "                    self._lock.release()\n",
       "                    self.close(error=Errors.KafkaConnectionError('socket disconnected'))\n",
       "                    return []\n",
       "                else:\n",
       "                    recvd.append(data)\n",
       "\n",
       "            except SSLWantReadError:\n",
       "                break\n",
       "            except ConnectionError as e:\n",
       "                if six.PY2 and e.errno == errno.EWOULDBLOCK:\n",
       "                    break\n",
       "                log.exception('%s: Error receiving network data'\n",
       "                              ' closing socket', self)\n",
       "                self._lock.release()\n",
       "                self.close(error=Errors.KafkaConnectionError(e))\n",
       "                return []\n",
       "            except BlockingIOError:\n",
       "                if six.PY3:\n",
       "                    break\n",
       "                self._lock.release()\n",
       "                raise\n",
       "\n",
       "        recvd_data = b''.join(recvd)\n",
       "        if self._sensors:\n",
       "            self._sensors.bytes_received.record(len(recvd_data))\n",
       "\n",
       "        try:\n",
       "            responses = self._protocol.receive_bytes(recvd_data)\n",
       "        except Errors.KafkaProtocolError as e:\n",
       "            self._lock.release()\n",
       "            self.close(e)\n",
       "            return []\n",
       "        else:\n",
       "            self._lock.release()\n",
       "            return responses"
      ]
     },
     "metadata": {},
     "output_type": "display_data"
    }
   ],
   "source": [
    "print(\"Python examples\")\n",
    "display_code_example(df_train, \"python\", 2)"
   ]
  },
  {
   "cell_type": "code",
   "execution_count": 13,
   "metadata": {},
   "outputs": [
    {
     "name": "stdout",
     "output_type": "stream",
     "text": [
      "Java examples\n"
     ]
    },
    {
     "data": {
      "text/html": [
       "<style>pre { line-height: 125%; }\n",
       "td.linenos .normal { color: inherit; background-color: transparent; padding-left: 5px; padding-right: 5px; }\n",
       "span.linenos { color: inherit; background-color: transparent; padding-left: 5px; padding-right: 5px; }\n",
       "td.linenos .special { color: #000000; background-color: #ffffc0; padding-left: 5px; padding-right: 5px; }\n",
       "span.linenos.special { color: #000000; background-color: #ffffc0; padding-left: 5px; padding-right: 5px; }\n",
       ".output_html .hll { background-color: #ffffcc }\n",
       ".output_html { background: #f8f8f8; }\n",
       ".output_html .c { color: #3D7B7B; font-style: italic } /* Comment */\n",
       ".output_html .err { border: 1px solid #FF0000 } /* Error */\n",
       ".output_html .k { color: #008000; font-weight: bold } /* Keyword */\n",
       ".output_html .o { color: #666666 } /* Operator */\n",
       ".output_html .ch { color: #3D7B7B; font-style: italic } /* Comment.Hashbang */\n",
       ".output_html .cm { color: #3D7B7B; font-style: italic } /* Comment.Multiline */\n",
       ".output_html .cp { color: #9C6500 } /* Comment.Preproc */\n",
       ".output_html .cpf { color: #3D7B7B; font-style: italic } /* Comment.PreprocFile */\n",
       ".output_html .c1 { color: #3D7B7B; font-style: italic } /* Comment.Single */\n",
       ".output_html .cs { color: #3D7B7B; font-style: italic } /* Comment.Special */\n",
       ".output_html .gd { color: #A00000 } /* Generic.Deleted */\n",
       ".output_html .ge { font-style: italic } /* Generic.Emph */\n",
       ".output_html .gr { color: #E40000 } /* Generic.Error */\n",
       ".output_html .gh { color: #000080; font-weight: bold } /* Generic.Heading */\n",
       ".output_html .gi { color: #008400 } /* Generic.Inserted */\n",
       ".output_html .go { color: #717171 } /* Generic.Output */\n",
       ".output_html .gp { color: #000080; font-weight: bold } /* Generic.Prompt */\n",
       ".output_html .gs { font-weight: bold } /* Generic.Strong */\n",
       ".output_html .gu { color: #800080; font-weight: bold } /* Generic.Subheading */\n",
       ".output_html .gt { color: #0044DD } /* Generic.Traceback */\n",
       ".output_html .kc { color: #008000; font-weight: bold } /* Keyword.Constant */\n",
       ".output_html .kd { color: #008000; font-weight: bold } /* Keyword.Declaration */\n",
       ".output_html .kn { color: #008000; font-weight: bold } /* Keyword.Namespace */\n",
       ".output_html .kp { color: #008000 } /* Keyword.Pseudo */\n",
       ".output_html .kr { color: #008000; font-weight: bold } /* Keyword.Reserved */\n",
       ".output_html .kt { color: #B00040 } /* Keyword.Type */\n",
       ".output_html .m { color: #666666 } /* Literal.Number */\n",
       ".output_html .s { color: #BA2121 } /* Literal.String */\n",
       ".output_html .na { color: #687822 } /* Name.Attribute */\n",
       ".output_html .nb { color: #008000 } /* Name.Builtin */\n",
       ".output_html .nc { color: #0000FF; font-weight: bold } /* Name.Class */\n",
       ".output_html .no { color: #880000 } /* Name.Constant */\n",
       ".output_html .nd { color: #AA22FF } /* Name.Decorator */\n",
       ".output_html .ni { color: #717171; font-weight: bold } /* Name.Entity */\n",
       ".output_html .ne { color: #CB3F38; font-weight: bold } /* Name.Exception */\n",
       ".output_html .nf { color: #0000FF } /* Name.Function */\n",
       ".output_html .nl { color: #767600 } /* Name.Label */\n",
       ".output_html .nn { color: #0000FF; font-weight: bold } /* Name.Namespace */\n",
       ".output_html .nt { color: #008000; font-weight: bold } /* Name.Tag */\n",
       ".output_html .nv { color: #19177C } /* Name.Variable */\n",
       ".output_html .ow { color: #AA22FF; font-weight: bold } /* Operator.Word */\n",
       ".output_html .w { color: #bbbbbb } /* Text.Whitespace */\n",
       ".output_html .mb { color: #666666 } /* Literal.Number.Bin */\n",
       ".output_html .mf { color: #666666 } /* Literal.Number.Float */\n",
       ".output_html .mh { color: #666666 } /* Literal.Number.Hex */\n",
       ".output_html .mi { color: #666666 } /* Literal.Number.Integer */\n",
       ".output_html .mo { color: #666666 } /* Literal.Number.Oct */\n",
       ".output_html .sa { color: #BA2121 } /* Literal.String.Affix */\n",
       ".output_html .sb { color: #BA2121 } /* Literal.String.Backtick */\n",
       ".output_html .sc { color: #BA2121 } /* Literal.String.Char */\n",
       ".output_html .dl { color: #BA2121 } /* Literal.String.Delimiter */\n",
       ".output_html .sd { color: #BA2121; font-style: italic } /* Literal.String.Doc */\n",
       ".output_html .s2 { color: #BA2121 } /* Literal.String.Double */\n",
       ".output_html .se { color: #AA5D1F; font-weight: bold } /* Literal.String.Escape */\n",
       ".output_html .sh { color: #BA2121 } /* Literal.String.Heredoc */\n",
       ".output_html .si { color: #A45A77; font-weight: bold } /* Literal.String.Interpol */\n",
       ".output_html .sx { color: #008000 } /* Literal.String.Other */\n",
       ".output_html .sr { color: #A45A77 } /* Literal.String.Regex */\n",
       ".output_html .s1 { color: #BA2121 } /* Literal.String.Single */\n",
       ".output_html .ss { color: #19177C } /* Literal.String.Symbol */\n",
       ".output_html .bp { color: #008000 } /* Name.Builtin.Pseudo */\n",
       ".output_html .fm { color: #0000FF } /* Name.Function.Magic */\n",
       ".output_html .vc { color: #19177C } /* Name.Variable.Class */\n",
       ".output_html .vg { color: #19177C } /* Name.Variable.Global */\n",
       ".output_html .vi { color: #19177C } /* Name.Variable.Instance */\n",
       ".output_html .vm { color: #19177C } /* Name.Variable.Magic */\n",
       ".output_html .il { color: #666666 } /* Literal.Number.Integer.Long */</style><div class=\"highlight\"><pre><span></span><span class=\"kd\">public</span><span class=\"w\"> </span><span class=\"kd\">static</span><span class=\"w\"> </span><span class=\"kt\">boolean</span><span class=\"w\"> </span><span class=\"nf\">pathEquals</span><span class=\"p\">(</span><span class=\"n\">String</span><span class=\"w\"> </span><span class=\"n\">path1</span><span class=\"p\">,</span><span class=\"w\"> </span><span class=\"n\">String</span><span class=\"w\"> </span><span class=\"n\">path2</span><span class=\"p\">)</span><span class=\"w\"> </span><span class=\"p\">{</span><span class=\"w\"></span>\n",
       "<span class=\"w\">        </span><span class=\"k\">return</span><span class=\"w\"> </span><span class=\"n\">cleanPath</span><span class=\"p\">(</span><span class=\"n\">path1</span><span class=\"p\">).</span><span class=\"na\">equals</span><span class=\"p\">(</span><span class=\"n\">cleanPath</span><span class=\"p\">(</span><span class=\"n\">path2</span><span class=\"p\">));</span><span class=\"w\"></span>\n",
       "<span class=\"w\">    </span><span class=\"p\">}</span><span class=\"w\"></span>\n",
       "</pre></div>\n"
      ],
      "text/latex": [
       "\\begin{Verbatim}[commandchars=\\\\\\{\\}]\n",
       "\\PY{k+kd}{public}\\PY{+w}{ }\\PY{k+kd}{static}\\PY{+w}{ }\\PY{k+kt}{boolean}\\PY{+w}{ }\\PY{n+nf}{pathEquals}\\PY{p}{(}\\PY{n}{String}\\PY{+w}{ }\\PY{n}{path1}\\PY{p}{,}\\PY{+w}{ }\\PY{n}{String}\\PY{+w}{ }\\PY{n}{path2}\\PY{p}{)}\\PY{+w}{ }\\PY{p}{\\PYZob{}}\n",
       "\\PY{+w}{        }\\PY{k}{return}\\PY{+w}{ }\\PY{n}{cleanPath}\\PY{p}{(}\\PY{n}{path1}\\PY{p}{)}\\PY{p}{.}\\PY{n+na}{equals}\\PY{p}{(}\\PY{n}{cleanPath}\\PY{p}{(}\\PY{n}{path2}\\PY{p}{)}\\PY{p}{)}\\PY{p}{;}\n",
       "\\PY{+w}{    }\\PY{p}{\\PYZcb{}}\n",
       "\\end{Verbatim}\n"
      ],
      "text/plain": [
       "public static boolean pathEquals(String path1, String path2) {\n",
       "        return cleanPath(path1).equals(cleanPath(path2));\n",
       "    }"
      ]
     },
     "metadata": {},
     "output_type": "display_data"
    },
    {
     "data": {
      "text/html": [
       "<style>pre { line-height: 125%; }\n",
       "td.linenos .normal { color: inherit; background-color: transparent; padding-left: 5px; padding-right: 5px; }\n",
       "span.linenos { color: inherit; background-color: transparent; padding-left: 5px; padding-right: 5px; }\n",
       "td.linenos .special { color: #000000; background-color: #ffffc0; padding-left: 5px; padding-right: 5px; }\n",
       "span.linenos.special { color: #000000; background-color: #ffffc0; padding-left: 5px; padding-right: 5px; }\n",
       ".output_html .hll { background-color: #ffffcc }\n",
       ".output_html { background: #f8f8f8; }\n",
       ".output_html .c { color: #3D7B7B; font-style: italic } /* Comment */\n",
       ".output_html .err { border: 1px solid #FF0000 } /* Error */\n",
       ".output_html .k { color: #008000; font-weight: bold } /* Keyword */\n",
       ".output_html .o { color: #666666 } /* Operator */\n",
       ".output_html .ch { color: #3D7B7B; font-style: italic } /* Comment.Hashbang */\n",
       ".output_html .cm { color: #3D7B7B; font-style: italic } /* Comment.Multiline */\n",
       ".output_html .cp { color: #9C6500 } /* Comment.Preproc */\n",
       ".output_html .cpf { color: #3D7B7B; font-style: italic } /* Comment.PreprocFile */\n",
       ".output_html .c1 { color: #3D7B7B; font-style: italic } /* Comment.Single */\n",
       ".output_html .cs { color: #3D7B7B; font-style: italic } /* Comment.Special */\n",
       ".output_html .gd { color: #A00000 } /* Generic.Deleted */\n",
       ".output_html .ge { font-style: italic } /* Generic.Emph */\n",
       ".output_html .gr { color: #E40000 } /* Generic.Error */\n",
       ".output_html .gh { color: #000080; font-weight: bold } /* Generic.Heading */\n",
       ".output_html .gi { color: #008400 } /* Generic.Inserted */\n",
       ".output_html .go { color: #717171 } /* Generic.Output */\n",
       ".output_html .gp { color: #000080; font-weight: bold } /* Generic.Prompt */\n",
       ".output_html .gs { font-weight: bold } /* Generic.Strong */\n",
       ".output_html .gu { color: #800080; font-weight: bold } /* Generic.Subheading */\n",
       ".output_html .gt { color: #0044DD } /* Generic.Traceback */\n",
       ".output_html .kc { color: #008000; font-weight: bold } /* Keyword.Constant */\n",
       ".output_html .kd { color: #008000; font-weight: bold } /* Keyword.Declaration */\n",
       ".output_html .kn { color: #008000; font-weight: bold } /* Keyword.Namespace */\n",
       ".output_html .kp { color: #008000 } /* Keyword.Pseudo */\n",
       ".output_html .kr { color: #008000; font-weight: bold } /* Keyword.Reserved */\n",
       ".output_html .kt { color: #B00040 } /* Keyword.Type */\n",
       ".output_html .m { color: #666666 } /* Literal.Number */\n",
       ".output_html .s { color: #BA2121 } /* Literal.String */\n",
       ".output_html .na { color: #687822 } /* Name.Attribute */\n",
       ".output_html .nb { color: #008000 } /* Name.Builtin */\n",
       ".output_html .nc { color: #0000FF; font-weight: bold } /* Name.Class */\n",
       ".output_html .no { color: #880000 } /* Name.Constant */\n",
       ".output_html .nd { color: #AA22FF } /* Name.Decorator */\n",
       ".output_html .ni { color: #717171; font-weight: bold } /* Name.Entity */\n",
       ".output_html .ne { color: #CB3F38; font-weight: bold } /* Name.Exception */\n",
       ".output_html .nf { color: #0000FF } /* Name.Function */\n",
       ".output_html .nl { color: #767600 } /* Name.Label */\n",
       ".output_html .nn { color: #0000FF; font-weight: bold } /* Name.Namespace */\n",
       ".output_html .nt { color: #008000; font-weight: bold } /* Name.Tag */\n",
       ".output_html .nv { color: #19177C } /* Name.Variable */\n",
       ".output_html .ow { color: #AA22FF; font-weight: bold } /* Operator.Word */\n",
       ".output_html .w { color: #bbbbbb } /* Text.Whitespace */\n",
       ".output_html .mb { color: #666666 } /* Literal.Number.Bin */\n",
       ".output_html .mf { color: #666666 } /* Literal.Number.Float */\n",
       ".output_html .mh { color: #666666 } /* Literal.Number.Hex */\n",
       ".output_html .mi { color: #666666 } /* Literal.Number.Integer */\n",
       ".output_html .mo { color: #666666 } /* Literal.Number.Oct */\n",
       ".output_html .sa { color: #BA2121 } /* Literal.String.Affix */\n",
       ".output_html .sb { color: #BA2121 } /* Literal.String.Backtick */\n",
       ".output_html .sc { color: #BA2121 } /* Literal.String.Char */\n",
       ".output_html .dl { color: #BA2121 } /* Literal.String.Delimiter */\n",
       ".output_html .sd { color: #BA2121; font-style: italic } /* Literal.String.Doc */\n",
       ".output_html .s2 { color: #BA2121 } /* Literal.String.Double */\n",
       ".output_html .se { color: #AA5D1F; font-weight: bold } /* Literal.String.Escape */\n",
       ".output_html .sh { color: #BA2121 } /* Literal.String.Heredoc */\n",
       ".output_html .si { color: #A45A77; font-weight: bold } /* Literal.String.Interpol */\n",
       ".output_html .sx { color: #008000 } /* Literal.String.Other */\n",
       ".output_html .sr { color: #A45A77 } /* Literal.String.Regex */\n",
       ".output_html .s1 { color: #BA2121 } /* Literal.String.Single */\n",
       ".output_html .ss { color: #19177C } /* Literal.String.Symbol */\n",
       ".output_html .bp { color: #008000 } /* Name.Builtin.Pseudo */\n",
       ".output_html .fm { color: #0000FF } /* Name.Function.Magic */\n",
       ".output_html .vc { color: #19177C } /* Name.Variable.Class */\n",
       ".output_html .vg { color: #19177C } /* Name.Variable.Global */\n",
       ".output_html .vi { color: #19177C } /* Name.Variable.Instance */\n",
       ".output_html .vm { color: #19177C } /* Name.Variable.Magic */\n",
       ".output_html .il { color: #666666 } /* Literal.Number.Integer.Long */</style><div class=\"highlight\"><pre><span></span><span class=\"nd\">@Override</span><span class=\"w\"></span>\n",
       "<span class=\"w\">  </span><span class=\"kd\">public</span><span class=\"w\"> </span><span class=\"n\">Long</span><span class=\"w\"> </span><span class=\"nf\">scard</span><span class=\"p\">(</span><span class=\"kd\">final</span><span class=\"w\"> </span><span class=\"kt\">byte</span><span class=\"o\">[]</span><span class=\"w\"> </span><span class=\"n\">key</span><span class=\"p\">)</span><span class=\"w\"> </span><span class=\"p\">{</span><span class=\"w\"></span>\n",
       "<span class=\"w\">    </span><span class=\"n\">checkIsInMultiOrPipeline</span><span class=\"p\">();</span><span class=\"w\"></span>\n",
       "<span class=\"w\">    </span><span class=\"n\">client</span><span class=\"p\">.</span><span class=\"na\">scard</span><span class=\"p\">(</span><span class=\"n\">key</span><span class=\"p\">);</span><span class=\"w\"></span>\n",
       "<span class=\"w\">    </span><span class=\"k\">return</span><span class=\"w\"> </span><span class=\"n\">client</span><span class=\"p\">.</span><span class=\"na\">getIntegerReply</span><span class=\"p\">();</span><span class=\"w\"></span>\n",
       "<span class=\"w\">  </span><span class=\"p\">}</span><span class=\"w\"></span>\n",
       "</pre></div>\n"
      ],
      "text/latex": [
       "\\begin{Verbatim}[commandchars=\\\\\\{\\}]\n",
       "\\PY{n+nd}{@Override}\n",
       "\\PY{+w}{  }\\PY{k+kd}{public}\\PY{+w}{ }\\PY{n}{Long}\\PY{+w}{ }\\PY{n+nf}{scard}\\PY{p}{(}\\PY{k+kd}{final}\\PY{+w}{ }\\PY{k+kt}{byte}\\PY{o}{[}\\PY{o}{]}\\PY{+w}{ }\\PY{n}{key}\\PY{p}{)}\\PY{+w}{ }\\PY{p}{\\PYZob{}}\n",
       "\\PY{+w}{    }\\PY{n}{checkIsInMultiOrPipeline}\\PY{p}{(}\\PY{p}{)}\\PY{p}{;}\n",
       "\\PY{+w}{    }\\PY{n}{client}\\PY{p}{.}\\PY{n+na}{scard}\\PY{p}{(}\\PY{n}{key}\\PY{p}{)}\\PY{p}{;}\n",
       "\\PY{+w}{    }\\PY{k}{return}\\PY{+w}{ }\\PY{n}{client}\\PY{p}{.}\\PY{n+na}{getIntegerReply}\\PY{p}{(}\\PY{p}{)}\\PY{p}{;}\n",
       "\\PY{+w}{  }\\PY{p}{\\PYZcb{}}\n",
       "\\end{Verbatim}\n"
      ],
      "text/plain": [
       "@Override\n",
       "  public Long scard(final byte[] key) {\n",
       "    checkIsInMultiOrPipeline();\n",
       "    client.scard(key);\n",
       "    return client.getIntegerReply();\n",
       "  }"
      ]
     },
     "metadata": {},
     "output_type": "display_data"
    }
   ],
   "source": [
    "print(\"Java examples\")\n",
    "display_code_example(df_train, \"java\", 2)"
   ]
  },
  {
   "cell_type": "code",
   "execution_count": 15,
   "metadata": {},
   "outputs": [
    {
     "name": "stdout",
     "output_type": "stream",
     "text": [
      "Go examples\n"
     ]
    },
    {
     "data": {
      "text/html": [
       "<style>pre { line-height: 125%; }\n",
       "td.linenos .normal { color: inherit; background-color: transparent; padding-left: 5px; padding-right: 5px; }\n",
       "span.linenos { color: inherit; background-color: transparent; padding-left: 5px; padding-right: 5px; }\n",
       "td.linenos .special { color: #000000; background-color: #ffffc0; padding-left: 5px; padding-right: 5px; }\n",
       "span.linenos.special { color: #000000; background-color: #ffffc0; padding-left: 5px; padding-right: 5px; }\n",
       ".output_html .hll { background-color: #ffffcc }\n",
       ".output_html { background: #f8f8f8; }\n",
       ".output_html .c { color: #3D7B7B; font-style: italic } /* Comment */\n",
       ".output_html .err { border: 1px solid #FF0000 } /* Error */\n",
       ".output_html .k { color: #008000; font-weight: bold } /* Keyword */\n",
       ".output_html .o { color: #666666 } /* Operator */\n",
       ".output_html .ch { color: #3D7B7B; font-style: italic } /* Comment.Hashbang */\n",
       ".output_html .cm { color: #3D7B7B; font-style: italic } /* Comment.Multiline */\n",
       ".output_html .cp { color: #9C6500 } /* Comment.Preproc */\n",
       ".output_html .cpf { color: #3D7B7B; font-style: italic } /* Comment.PreprocFile */\n",
       ".output_html .c1 { color: #3D7B7B; font-style: italic } /* Comment.Single */\n",
       ".output_html .cs { color: #3D7B7B; font-style: italic } /* Comment.Special */\n",
       ".output_html .gd { color: #A00000 } /* Generic.Deleted */\n",
       ".output_html .ge { font-style: italic } /* Generic.Emph */\n",
       ".output_html .gr { color: #E40000 } /* Generic.Error */\n",
       ".output_html .gh { color: #000080; font-weight: bold } /* Generic.Heading */\n",
       ".output_html .gi { color: #008400 } /* Generic.Inserted */\n",
       ".output_html .go { color: #717171 } /* Generic.Output */\n",
       ".output_html .gp { color: #000080; font-weight: bold } /* Generic.Prompt */\n",
       ".output_html .gs { font-weight: bold } /* Generic.Strong */\n",
       ".output_html .gu { color: #800080; font-weight: bold } /* Generic.Subheading */\n",
       ".output_html .gt { color: #0044DD } /* Generic.Traceback */\n",
       ".output_html .kc { color: #008000; font-weight: bold } /* Keyword.Constant */\n",
       ".output_html .kd { color: #008000; font-weight: bold } /* Keyword.Declaration */\n",
       ".output_html .kn { color: #008000; font-weight: bold } /* Keyword.Namespace */\n",
       ".output_html .kp { color: #008000 } /* Keyword.Pseudo */\n",
       ".output_html .kr { color: #008000; font-weight: bold } /* Keyword.Reserved */\n",
       ".output_html .kt { color: #B00040 } /* Keyword.Type */\n",
       ".output_html .m { color: #666666 } /* Literal.Number */\n",
       ".output_html .s { color: #BA2121 } /* Literal.String */\n",
       ".output_html .na { color: #687822 } /* Name.Attribute */\n",
       ".output_html .nb { color: #008000 } /* Name.Builtin */\n",
       ".output_html .nc { color: #0000FF; font-weight: bold } /* Name.Class */\n",
       ".output_html .no { color: #880000 } /* Name.Constant */\n",
       ".output_html .nd { color: #AA22FF } /* Name.Decorator */\n",
       ".output_html .ni { color: #717171; font-weight: bold } /* Name.Entity */\n",
       ".output_html .ne { color: #CB3F38; font-weight: bold } /* Name.Exception */\n",
       ".output_html .nf { color: #0000FF } /* Name.Function */\n",
       ".output_html .nl { color: #767600 } /* Name.Label */\n",
       ".output_html .nn { color: #0000FF; font-weight: bold } /* Name.Namespace */\n",
       ".output_html .nt { color: #008000; font-weight: bold } /* Name.Tag */\n",
       ".output_html .nv { color: #19177C } /* Name.Variable */\n",
       ".output_html .ow { color: #AA22FF; font-weight: bold } /* Operator.Word */\n",
       ".output_html .w { color: #bbbbbb } /* Text.Whitespace */\n",
       ".output_html .mb { color: #666666 } /* Literal.Number.Bin */\n",
       ".output_html .mf { color: #666666 } /* Literal.Number.Float */\n",
       ".output_html .mh { color: #666666 } /* Literal.Number.Hex */\n",
       ".output_html .mi { color: #666666 } /* Literal.Number.Integer */\n",
       ".output_html .mo { color: #666666 } /* Literal.Number.Oct */\n",
       ".output_html .sa { color: #BA2121 } /* Literal.String.Affix */\n",
       ".output_html .sb { color: #BA2121 } /* Literal.String.Backtick */\n",
       ".output_html .sc { color: #BA2121 } /* Literal.String.Char */\n",
       ".output_html .dl { color: #BA2121 } /* Literal.String.Delimiter */\n",
       ".output_html .sd { color: #BA2121; font-style: italic } /* Literal.String.Doc */\n",
       ".output_html .s2 { color: #BA2121 } /* Literal.String.Double */\n",
       ".output_html .se { color: #AA5D1F; font-weight: bold } /* Literal.String.Escape */\n",
       ".output_html .sh { color: #BA2121 } /* Literal.String.Heredoc */\n",
       ".output_html .si { color: #A45A77; font-weight: bold } /* Literal.String.Interpol */\n",
       ".output_html .sx { color: #008000 } /* Literal.String.Other */\n",
       ".output_html .sr { color: #A45A77 } /* Literal.String.Regex */\n",
       ".output_html .s1 { color: #BA2121 } /* Literal.String.Single */\n",
       ".output_html .ss { color: #19177C } /* Literal.String.Symbol */\n",
       ".output_html .bp { color: #008000 } /* Name.Builtin.Pseudo */\n",
       ".output_html .fm { color: #0000FF } /* Name.Function.Magic */\n",
       ".output_html .vc { color: #19177C } /* Name.Variable.Class */\n",
       ".output_html .vg { color: #19177C } /* Name.Variable.Global */\n",
       ".output_html .vi { color: #19177C } /* Name.Variable.Instance */\n",
       ".output_html .vm { color: #19177C } /* Name.Variable.Magic */\n",
       ".output_html .il { color: #666666 } /* Literal.Number.Integer.Long */</style><div class=\"highlight\"><pre><span></span><span class=\"kd\">func</span><span class=\"w\"> </span><span class=\"p\">(</span><span class=\"nx\">ts</span><span class=\"w\"> </span><span class=\"o\">*</span><span class=\"nx\">Server</span><span class=\"p\">)</span><span class=\"w\"> </span><span class=\"nx\">WatchSrvVSchema</span><span class=\"p\">(</span><span class=\"nx\">ctx</span><span class=\"w\"> </span><span class=\"nx\">context</span><span class=\"p\">.</span><span class=\"nx\">Context</span><span class=\"p\">,</span><span class=\"w\"> </span><span class=\"nx\">cell</span><span class=\"w\"> </span><span class=\"kt\">string</span><span class=\"p\">)</span><span class=\"w\"> </span><span class=\"p\">(</span><span class=\"o\">*</span><span class=\"nx\">WatchSrvVSchemaData</span><span class=\"p\">,</span><span class=\"w\"> </span><span class=\"o\">&lt;-</span><span class=\"kd\">chan</span><span class=\"w\"> </span><span class=\"o\">*</span><span class=\"nx\">WatchSrvVSchemaData</span><span class=\"p\">,</span><span class=\"w\"> </span><span class=\"nx\">CancelFunc</span><span class=\"p\">)</span><span class=\"w\"> </span><span class=\"p\">{</span><span class=\"w\"></span>\n",
       "<span class=\"w\">\t</span><span class=\"nx\">conn</span><span class=\"p\">,</span><span class=\"w\"> </span><span class=\"nx\">err</span><span class=\"w\"> </span><span class=\"o\">:=</span><span class=\"w\"> </span><span class=\"nx\">ts</span><span class=\"p\">.</span><span class=\"nx\">ConnForCell</span><span class=\"p\">(</span><span class=\"nx\">ctx</span><span class=\"p\">,</span><span class=\"w\"> </span><span class=\"nx\">cell</span><span class=\"p\">)</span><span class=\"w\"></span>\n",
       "<span class=\"w\">\t</span><span class=\"k\">if</span><span class=\"w\"> </span><span class=\"nx\">err</span><span class=\"w\"> </span><span class=\"o\">!=</span><span class=\"w\"> </span><span class=\"kc\">nil</span><span class=\"w\"> </span><span class=\"p\">{</span><span class=\"w\"></span>\n",
       "<span class=\"w\">\t\t</span><span class=\"k\">return</span><span class=\"w\"> </span><span class=\"o\">&amp;</span><span class=\"nx\">WatchSrvVSchemaData</span><span class=\"p\">{</span><span class=\"nx\">Err</span><span class=\"p\">:</span><span class=\"w\"> </span><span class=\"nx\">err</span><span class=\"p\">},</span><span class=\"w\"> </span><span class=\"kc\">nil</span><span class=\"p\">,</span><span class=\"w\"> </span><span class=\"kc\">nil</span><span class=\"w\"></span>\n",
       "<span class=\"w\">\t</span><span class=\"p\">}</span><span class=\"w\"></span>\n",
       "\n",
       "<span class=\"w\">\t</span><span class=\"nx\">current</span><span class=\"p\">,</span><span class=\"w\"> </span><span class=\"nx\">wdChannel</span><span class=\"p\">,</span><span class=\"w\"> </span><span class=\"nx\">cancel</span><span class=\"w\"> </span><span class=\"o\">:=</span><span class=\"w\"> </span><span class=\"nx\">conn</span><span class=\"p\">.</span><span class=\"nx\">Watch</span><span class=\"p\">(</span><span class=\"nx\">ctx</span><span class=\"p\">,</span><span class=\"w\"> </span><span class=\"nx\">SrvVSchemaFile</span><span class=\"p\">)</span><span class=\"w\"></span>\n",
       "<span class=\"w\">\t</span><span class=\"k\">if</span><span class=\"w\"> </span><span class=\"nx\">current</span><span class=\"p\">.</span><span class=\"nx\">Err</span><span class=\"w\"> </span><span class=\"o\">!=</span><span class=\"w\"> </span><span class=\"kc\">nil</span><span class=\"w\"> </span><span class=\"p\">{</span><span class=\"w\"></span>\n",
       "<span class=\"w\">\t\t</span><span class=\"k\">return</span><span class=\"w\"> </span><span class=\"o\">&amp;</span><span class=\"nx\">WatchSrvVSchemaData</span><span class=\"p\">{</span><span class=\"nx\">Err</span><span class=\"p\">:</span><span class=\"w\"> </span><span class=\"nx\">current</span><span class=\"p\">.</span><span class=\"nx\">Err</span><span class=\"p\">},</span><span class=\"w\"> </span><span class=\"kc\">nil</span><span class=\"p\">,</span><span class=\"w\"> </span><span class=\"kc\">nil</span><span class=\"w\"></span>\n",
       "<span class=\"w\">\t</span><span class=\"p\">}</span><span class=\"w\"></span>\n",
       "<span class=\"w\">\t</span><span class=\"nx\">value</span><span class=\"w\"> </span><span class=\"o\">:=</span><span class=\"w\"> </span><span class=\"o\">&amp;</span><span class=\"nx\">vschemapb</span><span class=\"p\">.</span><span class=\"nx\">SrvVSchema</span><span class=\"p\">{}</span><span class=\"w\"></span>\n",
       "<span class=\"w\">\t</span><span class=\"k\">if</span><span class=\"w\"> </span><span class=\"nx\">err</span><span class=\"w\"> </span><span class=\"o\">:=</span><span class=\"w\"> </span><span class=\"nx\">proto</span><span class=\"p\">.</span><span class=\"nx\">Unmarshal</span><span class=\"p\">(</span><span class=\"nx\">current</span><span class=\"p\">.</span><span class=\"nx\">Contents</span><span class=\"p\">,</span><span class=\"w\"> </span><span class=\"nx\">value</span><span class=\"p\">);</span><span class=\"w\"> </span><span class=\"nx\">err</span><span class=\"w\"> </span><span class=\"o\">!=</span><span class=\"w\"> </span><span class=\"kc\">nil</span><span class=\"w\"> </span><span class=\"p\">{</span><span class=\"w\"></span>\n",
       "<span class=\"w\">\t\t</span><span class=\"c1\">// Cancel the watch, drain channel.</span><span class=\"w\"></span>\n",
       "<span class=\"w\">\t\t</span><span class=\"nx\">cancel</span><span class=\"p\">()</span><span class=\"w\"></span>\n",
       "<span class=\"w\">\t\t</span><span class=\"k\">for</span><span class=\"w\"> </span><span class=\"k\">range</span><span class=\"w\"> </span><span class=\"nx\">wdChannel</span><span class=\"w\"> </span><span class=\"p\">{</span><span class=\"w\"></span>\n",
       "<span class=\"w\">\t\t</span><span class=\"p\">}</span><span class=\"w\"></span>\n",
       "<span class=\"w\">\t\t</span><span class=\"k\">return</span><span class=\"w\"> </span><span class=\"o\">&amp;</span><span class=\"nx\">WatchSrvVSchemaData</span><span class=\"p\">{</span><span class=\"nx\">Err</span><span class=\"p\">:</span><span class=\"w\"> </span><span class=\"nx\">vterrors</span><span class=\"p\">.</span><span class=\"nx\">Wrapf</span><span class=\"p\">(</span><span class=\"nx\">err</span><span class=\"p\">,</span><span class=\"w\"> </span><span class=\"s\">&quot;error unpacking initial SrvVSchema object&quot;</span><span class=\"p\">)},</span><span class=\"w\"> </span><span class=\"kc\">nil</span><span class=\"p\">,</span><span class=\"w\"> </span><span class=\"kc\">nil</span><span class=\"w\"></span>\n",
       "<span class=\"w\">\t</span><span class=\"p\">}</span><span class=\"w\"></span>\n",
       "\n",
       "<span class=\"w\">\t</span><span class=\"nx\">changes</span><span class=\"w\"> </span><span class=\"o\">:=</span><span class=\"w\"> </span><span class=\"nb\">make</span><span class=\"p\">(</span><span class=\"kd\">chan</span><span class=\"w\"> </span><span class=\"o\">*</span><span class=\"nx\">WatchSrvVSchemaData</span><span class=\"p\">,</span><span class=\"w\"> </span><span class=\"mi\">10</span><span class=\"p\">)</span><span class=\"w\"></span>\n",
       "\n",
       "<span class=\"w\">\t</span><span class=\"c1\">// The background routine reads any event from the watch channel,</span><span class=\"w\"></span>\n",
       "<span class=\"w\">\t</span><span class=\"c1\">// translates it, and sends it to the caller.</span><span class=\"w\"></span>\n",
       "<span class=\"w\">\t</span><span class=\"c1\">// If cancel() is called, the underlying Watch() code will</span><span class=\"w\"></span>\n",
       "<span class=\"w\">\t</span><span class=\"c1\">// send an ErrInterrupted and then close the channel. We&#39;ll</span><span class=\"w\"></span>\n",
       "<span class=\"w\">\t</span><span class=\"c1\">// just propagate that back to our caller.</span><span class=\"w\"></span>\n",
       "<span class=\"w\">\t</span><span class=\"k\">go</span><span class=\"w\"> </span><span class=\"kd\">func</span><span class=\"p\">()</span><span class=\"w\"> </span><span class=\"p\">{</span><span class=\"w\"></span>\n",
       "<span class=\"w\">\t\t</span><span class=\"k\">defer</span><span class=\"w\"> </span><span class=\"nb\">close</span><span class=\"p\">(</span><span class=\"nx\">changes</span><span class=\"p\">)</span><span class=\"w\"></span>\n",
       "\n",
       "<span class=\"w\">\t\t</span><span class=\"k\">for</span><span class=\"w\"> </span><span class=\"nx\">wd</span><span class=\"w\"> </span><span class=\"o\">:=</span><span class=\"w\"> </span><span class=\"k\">range</span><span class=\"w\"> </span><span class=\"nx\">wdChannel</span><span class=\"w\"> </span><span class=\"p\">{</span><span class=\"w\"></span>\n",
       "<span class=\"w\">\t\t\t</span><span class=\"k\">if</span><span class=\"w\"> </span><span class=\"nx\">wd</span><span class=\"p\">.</span><span class=\"nx\">Err</span><span class=\"w\"> </span><span class=\"o\">!=</span><span class=\"w\"> </span><span class=\"kc\">nil</span><span class=\"w\"> </span><span class=\"p\">{</span><span class=\"w\"></span>\n",
       "<span class=\"w\">\t\t\t\t</span><span class=\"c1\">// Last error value, we&#39;re done.</span><span class=\"w\"></span>\n",
       "<span class=\"w\">\t\t\t\t</span><span class=\"c1\">// wdChannel will be closed right after</span><span class=\"w\"></span>\n",
       "<span class=\"w\">\t\t\t\t</span><span class=\"c1\">// this, no need to do anything.</span><span class=\"w\"></span>\n",
       "<span class=\"w\">\t\t\t\t</span><span class=\"nx\">changes</span><span class=\"w\"> </span><span class=\"o\">&lt;-</span><span class=\"w\"> </span><span class=\"o\">&amp;</span><span class=\"nx\">WatchSrvVSchemaData</span><span class=\"p\">{</span><span class=\"nx\">Err</span><span class=\"p\">:</span><span class=\"w\"> </span><span class=\"nx\">wd</span><span class=\"p\">.</span><span class=\"nx\">Err</span><span class=\"p\">}</span><span class=\"w\"></span>\n",
       "<span class=\"w\">\t\t\t\t</span><span class=\"k\">return</span><span class=\"w\"></span>\n",
       "<span class=\"w\">\t\t\t</span><span class=\"p\">}</span><span class=\"w\"></span>\n",
       "\n",
       "<span class=\"w\">\t\t\t</span><span class=\"nx\">value</span><span class=\"w\"> </span><span class=\"o\">:=</span><span class=\"w\"> </span><span class=\"o\">&amp;</span><span class=\"nx\">vschemapb</span><span class=\"p\">.</span><span class=\"nx\">SrvVSchema</span><span class=\"p\">{}</span><span class=\"w\"></span>\n",
       "<span class=\"w\">\t\t\t</span><span class=\"k\">if</span><span class=\"w\"> </span><span class=\"nx\">err</span><span class=\"w\"> </span><span class=\"o\">:=</span><span class=\"w\"> </span><span class=\"nx\">proto</span><span class=\"p\">.</span><span class=\"nx\">Unmarshal</span><span class=\"p\">(</span><span class=\"nx\">wd</span><span class=\"p\">.</span><span class=\"nx\">Contents</span><span class=\"p\">,</span><span class=\"w\"> </span><span class=\"nx\">value</span><span class=\"p\">);</span><span class=\"w\"> </span><span class=\"nx\">err</span><span class=\"w\"> </span><span class=\"o\">!=</span><span class=\"w\"> </span><span class=\"kc\">nil</span><span class=\"w\"> </span><span class=\"p\">{</span><span class=\"w\"></span>\n",
       "<span class=\"w\">\t\t\t\t</span><span class=\"nx\">cancel</span><span class=\"p\">()</span><span class=\"w\"></span>\n",
       "<span class=\"w\">\t\t\t\t</span><span class=\"k\">for</span><span class=\"w\"> </span><span class=\"k\">range</span><span class=\"w\"> </span><span class=\"nx\">wdChannel</span><span class=\"w\"> </span><span class=\"p\">{</span><span class=\"w\"></span>\n",
       "<span class=\"w\">\t\t\t\t</span><span class=\"p\">}</span><span class=\"w\"></span>\n",
       "<span class=\"w\">\t\t\t\t</span><span class=\"nx\">changes</span><span class=\"w\"> </span><span class=\"o\">&lt;-</span><span class=\"w\"> </span><span class=\"o\">&amp;</span><span class=\"nx\">WatchSrvVSchemaData</span><span class=\"p\">{</span><span class=\"nx\">Err</span><span class=\"p\">:</span><span class=\"w\"> </span><span class=\"nx\">vterrors</span><span class=\"p\">.</span><span class=\"nx\">Wrapf</span><span class=\"p\">(</span><span class=\"nx\">err</span><span class=\"p\">,</span><span class=\"w\"> </span><span class=\"s\">&quot;error unpacking SrvVSchema object&quot;</span><span class=\"p\">)}</span><span class=\"w\"></span>\n",
       "<span class=\"w\">\t\t\t\t</span><span class=\"k\">return</span><span class=\"w\"></span>\n",
       "<span class=\"w\">\t\t\t</span><span class=\"p\">}</span><span class=\"w\"></span>\n",
       "<span class=\"w\">\t\t\t</span><span class=\"nx\">changes</span><span class=\"w\"> </span><span class=\"o\">&lt;-</span><span class=\"w\"> </span><span class=\"o\">&amp;</span><span class=\"nx\">WatchSrvVSchemaData</span><span class=\"p\">{</span><span class=\"nx\">Value</span><span class=\"p\">:</span><span class=\"w\"> </span><span class=\"nx\">value</span><span class=\"p\">}</span><span class=\"w\"></span>\n",
       "<span class=\"w\">\t\t</span><span class=\"p\">}</span><span class=\"w\"></span>\n",
       "<span class=\"w\">\t</span><span class=\"p\">}()</span><span class=\"w\"></span>\n",
       "\n",
       "<span class=\"w\">\t</span><span class=\"k\">return</span><span class=\"w\"> </span><span class=\"o\">&amp;</span><span class=\"nx\">WatchSrvVSchemaData</span><span class=\"p\">{</span><span class=\"nx\">Value</span><span class=\"p\">:</span><span class=\"w\"> </span><span class=\"nx\">value</span><span class=\"p\">},</span><span class=\"w\"> </span><span class=\"nx\">changes</span><span class=\"p\">,</span><span class=\"w\"> </span><span class=\"nx\">cancel</span><span class=\"w\"></span>\n",
       "<span class=\"p\">}</span><span class=\"w\"></span>\n",
       "</pre></div>\n"
      ],
      "text/latex": [
       "\\begin{Verbatim}[commandchars=\\\\\\{\\}]\n",
       "\\PY{k+kd}{func}\\PY{+w}{ }\\PY{p}{(}\\PY{n+nx}{ts}\\PY{+w}{ }\\PY{o}{*}\\PY{n+nx}{Server}\\PY{p}{)}\\PY{+w}{ }\\PY{n+nx}{WatchSrvVSchema}\\PY{p}{(}\\PY{n+nx}{ctx}\\PY{+w}{ }\\PY{n+nx}{context}\\PY{p}{.}\\PY{n+nx}{Context}\\PY{p}{,}\\PY{+w}{ }\\PY{n+nx}{cell}\\PY{+w}{ }\\PY{k+kt}{string}\\PY{p}{)}\\PY{+w}{ }\\PY{p}{(}\\PY{o}{*}\\PY{n+nx}{WatchSrvVSchemaData}\\PY{p}{,}\\PY{+w}{ }\\PY{o}{\\PYZlt{}\\PYZhy{}}\\PY{k+kd}{chan}\\PY{+w}{ }\\PY{o}{*}\\PY{n+nx}{WatchSrvVSchemaData}\\PY{p}{,}\\PY{+w}{ }\\PY{n+nx}{CancelFunc}\\PY{p}{)}\\PY{+w}{ }\\PY{p}{\\PYZob{}}\n",
       "\\PY{+w}{\t}\\PY{n+nx}{conn}\\PY{p}{,}\\PY{+w}{ }\\PY{n+nx}{err}\\PY{+w}{ }\\PY{o}{:=}\\PY{+w}{ }\\PY{n+nx}{ts}\\PY{p}{.}\\PY{n+nx}{ConnForCell}\\PY{p}{(}\\PY{n+nx}{ctx}\\PY{p}{,}\\PY{+w}{ }\\PY{n+nx}{cell}\\PY{p}{)}\n",
       "\\PY{+w}{\t}\\PY{k}{if}\\PY{+w}{ }\\PY{n+nx}{err}\\PY{+w}{ }\\PY{o}{!=}\\PY{+w}{ }\\PY{k+kc}{nil}\\PY{+w}{ }\\PY{p}{\\PYZob{}}\n",
       "\\PY{+w}{\t\t}\\PY{k}{return}\\PY{+w}{ }\\PY{o}{\\PYZam{}}\\PY{n+nx}{WatchSrvVSchemaData}\\PY{p}{\\PYZob{}}\\PY{n+nx}{Err}\\PY{p}{:}\\PY{+w}{ }\\PY{n+nx}{err}\\PY{p}{\\PYZcb{}}\\PY{p}{,}\\PY{+w}{ }\\PY{k+kc}{nil}\\PY{p}{,}\\PY{+w}{ }\\PY{k+kc}{nil}\n",
       "\\PY{+w}{\t}\\PY{p}{\\PYZcb{}}\n",
       "\n",
       "\\PY{+w}{\t}\\PY{n+nx}{current}\\PY{p}{,}\\PY{+w}{ }\\PY{n+nx}{wdChannel}\\PY{p}{,}\\PY{+w}{ }\\PY{n+nx}{cancel}\\PY{+w}{ }\\PY{o}{:=}\\PY{+w}{ }\\PY{n+nx}{conn}\\PY{p}{.}\\PY{n+nx}{Watch}\\PY{p}{(}\\PY{n+nx}{ctx}\\PY{p}{,}\\PY{+w}{ }\\PY{n+nx}{SrvVSchemaFile}\\PY{p}{)}\n",
       "\\PY{+w}{\t}\\PY{k}{if}\\PY{+w}{ }\\PY{n+nx}{current}\\PY{p}{.}\\PY{n+nx}{Err}\\PY{+w}{ }\\PY{o}{!=}\\PY{+w}{ }\\PY{k+kc}{nil}\\PY{+w}{ }\\PY{p}{\\PYZob{}}\n",
       "\\PY{+w}{\t\t}\\PY{k}{return}\\PY{+w}{ }\\PY{o}{\\PYZam{}}\\PY{n+nx}{WatchSrvVSchemaData}\\PY{p}{\\PYZob{}}\\PY{n+nx}{Err}\\PY{p}{:}\\PY{+w}{ }\\PY{n+nx}{current}\\PY{p}{.}\\PY{n+nx}{Err}\\PY{p}{\\PYZcb{}}\\PY{p}{,}\\PY{+w}{ }\\PY{k+kc}{nil}\\PY{p}{,}\\PY{+w}{ }\\PY{k+kc}{nil}\n",
       "\\PY{+w}{\t}\\PY{p}{\\PYZcb{}}\n",
       "\\PY{+w}{\t}\\PY{n+nx}{value}\\PY{+w}{ }\\PY{o}{:=}\\PY{+w}{ }\\PY{o}{\\PYZam{}}\\PY{n+nx}{vschemapb}\\PY{p}{.}\\PY{n+nx}{SrvVSchema}\\PY{p}{\\PYZob{}}\\PY{p}{\\PYZcb{}}\n",
       "\\PY{+w}{\t}\\PY{k}{if}\\PY{+w}{ }\\PY{n+nx}{err}\\PY{+w}{ }\\PY{o}{:=}\\PY{+w}{ }\\PY{n+nx}{proto}\\PY{p}{.}\\PY{n+nx}{Unmarshal}\\PY{p}{(}\\PY{n+nx}{current}\\PY{p}{.}\\PY{n+nx}{Contents}\\PY{p}{,}\\PY{+w}{ }\\PY{n+nx}{value}\\PY{p}{)}\\PY{p}{;}\\PY{+w}{ }\\PY{n+nx}{err}\\PY{+w}{ }\\PY{o}{!=}\\PY{+w}{ }\\PY{k+kc}{nil}\\PY{+w}{ }\\PY{p}{\\PYZob{}}\n",
       "\\PY{+w}{\t\t}\\PY{c+c1}{// Cancel the watch, drain channel.}\n",
       "\\PY{+w}{\t\t}\\PY{n+nx}{cancel}\\PY{p}{(}\\PY{p}{)}\n",
       "\\PY{+w}{\t\t}\\PY{k}{for}\\PY{+w}{ }\\PY{k}{range}\\PY{+w}{ }\\PY{n+nx}{wdChannel}\\PY{+w}{ }\\PY{p}{\\PYZob{}}\n",
       "\\PY{+w}{\t\t}\\PY{p}{\\PYZcb{}}\n",
       "\\PY{+w}{\t\t}\\PY{k}{return}\\PY{+w}{ }\\PY{o}{\\PYZam{}}\\PY{n+nx}{WatchSrvVSchemaData}\\PY{p}{\\PYZob{}}\\PY{n+nx}{Err}\\PY{p}{:}\\PY{+w}{ }\\PY{n+nx}{vterrors}\\PY{p}{.}\\PY{n+nx}{Wrapf}\\PY{p}{(}\\PY{n+nx}{err}\\PY{p}{,}\\PY{+w}{ }\\PY{l+s}{\\PYZdq{}error unpacking initial SrvVSchema object\\PYZdq{}}\\PY{p}{)}\\PY{p}{\\PYZcb{}}\\PY{p}{,}\\PY{+w}{ }\\PY{k+kc}{nil}\\PY{p}{,}\\PY{+w}{ }\\PY{k+kc}{nil}\n",
       "\\PY{+w}{\t}\\PY{p}{\\PYZcb{}}\n",
       "\n",
       "\\PY{+w}{\t}\\PY{n+nx}{changes}\\PY{+w}{ }\\PY{o}{:=}\\PY{+w}{ }\\PY{n+nb}{make}\\PY{p}{(}\\PY{k+kd}{chan}\\PY{+w}{ }\\PY{o}{*}\\PY{n+nx}{WatchSrvVSchemaData}\\PY{p}{,}\\PY{+w}{ }\\PY{l+m+mi}{10}\\PY{p}{)}\n",
       "\n",
       "\\PY{+w}{\t}\\PY{c+c1}{// The background routine reads any event from the watch channel,}\n",
       "\\PY{+w}{\t}\\PY{c+c1}{// translates it, and sends it to the caller.}\n",
       "\\PY{+w}{\t}\\PY{c+c1}{// If cancel() is called, the underlying Watch() code will}\n",
       "\\PY{+w}{\t}\\PY{c+c1}{// send an ErrInterrupted and then close the channel. We\\PYZsq{}ll}\n",
       "\\PY{+w}{\t}\\PY{c+c1}{// just propagate that back to our caller.}\n",
       "\\PY{+w}{\t}\\PY{k}{go}\\PY{+w}{ }\\PY{k+kd}{func}\\PY{p}{(}\\PY{p}{)}\\PY{+w}{ }\\PY{p}{\\PYZob{}}\n",
       "\\PY{+w}{\t\t}\\PY{k}{defer}\\PY{+w}{ }\\PY{n+nb}{close}\\PY{p}{(}\\PY{n+nx}{changes}\\PY{p}{)}\n",
       "\n",
       "\\PY{+w}{\t\t}\\PY{k}{for}\\PY{+w}{ }\\PY{n+nx}{wd}\\PY{+w}{ }\\PY{o}{:=}\\PY{+w}{ }\\PY{k}{range}\\PY{+w}{ }\\PY{n+nx}{wdChannel}\\PY{+w}{ }\\PY{p}{\\PYZob{}}\n",
       "\\PY{+w}{\t\t\t}\\PY{k}{if}\\PY{+w}{ }\\PY{n+nx}{wd}\\PY{p}{.}\\PY{n+nx}{Err}\\PY{+w}{ }\\PY{o}{!=}\\PY{+w}{ }\\PY{k+kc}{nil}\\PY{+w}{ }\\PY{p}{\\PYZob{}}\n",
       "\\PY{+w}{\t\t\t\t}\\PY{c+c1}{// Last error value, we\\PYZsq{}re done.}\n",
       "\\PY{+w}{\t\t\t\t}\\PY{c+c1}{// wdChannel will be closed right after}\n",
       "\\PY{+w}{\t\t\t\t}\\PY{c+c1}{// this, no need to do anything.}\n",
       "\\PY{+w}{\t\t\t\t}\\PY{n+nx}{changes}\\PY{+w}{ }\\PY{o}{\\PYZlt{}\\PYZhy{}}\\PY{+w}{ }\\PY{o}{\\PYZam{}}\\PY{n+nx}{WatchSrvVSchemaData}\\PY{p}{\\PYZob{}}\\PY{n+nx}{Err}\\PY{p}{:}\\PY{+w}{ }\\PY{n+nx}{wd}\\PY{p}{.}\\PY{n+nx}{Err}\\PY{p}{\\PYZcb{}}\n",
       "\\PY{+w}{\t\t\t\t}\\PY{k}{return}\n",
       "\\PY{+w}{\t\t\t}\\PY{p}{\\PYZcb{}}\n",
       "\n",
       "\\PY{+w}{\t\t\t}\\PY{n+nx}{value}\\PY{+w}{ }\\PY{o}{:=}\\PY{+w}{ }\\PY{o}{\\PYZam{}}\\PY{n+nx}{vschemapb}\\PY{p}{.}\\PY{n+nx}{SrvVSchema}\\PY{p}{\\PYZob{}}\\PY{p}{\\PYZcb{}}\n",
       "\\PY{+w}{\t\t\t}\\PY{k}{if}\\PY{+w}{ }\\PY{n+nx}{err}\\PY{+w}{ }\\PY{o}{:=}\\PY{+w}{ }\\PY{n+nx}{proto}\\PY{p}{.}\\PY{n+nx}{Unmarshal}\\PY{p}{(}\\PY{n+nx}{wd}\\PY{p}{.}\\PY{n+nx}{Contents}\\PY{p}{,}\\PY{+w}{ }\\PY{n+nx}{value}\\PY{p}{)}\\PY{p}{;}\\PY{+w}{ }\\PY{n+nx}{err}\\PY{+w}{ }\\PY{o}{!=}\\PY{+w}{ }\\PY{k+kc}{nil}\\PY{+w}{ }\\PY{p}{\\PYZob{}}\n",
       "\\PY{+w}{\t\t\t\t}\\PY{n+nx}{cancel}\\PY{p}{(}\\PY{p}{)}\n",
       "\\PY{+w}{\t\t\t\t}\\PY{k}{for}\\PY{+w}{ }\\PY{k}{range}\\PY{+w}{ }\\PY{n+nx}{wdChannel}\\PY{+w}{ }\\PY{p}{\\PYZob{}}\n",
       "\\PY{+w}{\t\t\t\t}\\PY{p}{\\PYZcb{}}\n",
       "\\PY{+w}{\t\t\t\t}\\PY{n+nx}{changes}\\PY{+w}{ }\\PY{o}{\\PYZlt{}\\PYZhy{}}\\PY{+w}{ }\\PY{o}{\\PYZam{}}\\PY{n+nx}{WatchSrvVSchemaData}\\PY{p}{\\PYZob{}}\\PY{n+nx}{Err}\\PY{p}{:}\\PY{+w}{ }\\PY{n+nx}{vterrors}\\PY{p}{.}\\PY{n+nx}{Wrapf}\\PY{p}{(}\\PY{n+nx}{err}\\PY{p}{,}\\PY{+w}{ }\\PY{l+s}{\\PYZdq{}error unpacking SrvVSchema object\\PYZdq{}}\\PY{p}{)}\\PY{p}{\\PYZcb{}}\n",
       "\\PY{+w}{\t\t\t\t}\\PY{k}{return}\n",
       "\\PY{+w}{\t\t\t}\\PY{p}{\\PYZcb{}}\n",
       "\\PY{+w}{\t\t\t}\\PY{n+nx}{changes}\\PY{+w}{ }\\PY{o}{\\PYZlt{}\\PYZhy{}}\\PY{+w}{ }\\PY{o}{\\PYZam{}}\\PY{n+nx}{WatchSrvVSchemaData}\\PY{p}{\\PYZob{}}\\PY{n+nx}{Value}\\PY{p}{:}\\PY{+w}{ }\\PY{n+nx}{value}\\PY{p}{\\PYZcb{}}\n",
       "\\PY{+w}{\t\t}\\PY{p}{\\PYZcb{}}\n",
       "\\PY{+w}{\t}\\PY{p}{\\PYZcb{}}\\PY{p}{(}\\PY{p}{)}\n",
       "\n",
       "\\PY{+w}{\t}\\PY{k}{return}\\PY{+w}{ }\\PY{o}{\\PYZam{}}\\PY{n+nx}{WatchSrvVSchemaData}\\PY{p}{\\PYZob{}}\\PY{n+nx}{Value}\\PY{p}{:}\\PY{+w}{ }\\PY{n+nx}{value}\\PY{p}{\\PYZcb{}}\\PY{p}{,}\\PY{+w}{ }\\PY{n+nx}{changes}\\PY{p}{,}\\PY{+w}{ }\\PY{n+nx}{cancel}\n",
       "\\PY{p}{\\PYZcb{}}\n",
       "\\end{Verbatim}\n"
      ],
      "text/plain": [
       "func (ts *Server) WatchSrvVSchema(ctx context.Context, cell string) (*WatchSrvVSchemaData, <-chan *WatchSrvVSchemaData, CancelFunc) {\n",
       "\tconn, err := ts.ConnForCell(ctx, cell)\n",
       "\tif err != nil {\n",
       "\t\treturn &WatchSrvVSchemaData{Err: err}, nil, nil\n",
       "\t}\n",
       "\n",
       "\tcurrent, wdChannel, cancel := conn.Watch(ctx, SrvVSchemaFile)\n",
       "\tif current.Err != nil {\n",
       "\t\treturn &WatchSrvVSchemaData{Err: current.Err}, nil, nil\n",
       "\t}\n",
       "\tvalue := &vschemapb.SrvVSchema{}\n",
       "\tif err := proto.Unmarshal(current.Contents, value); err != nil {\n",
       "\t\t// Cancel the watch, drain channel.\n",
       "\t\tcancel()\n",
       "\t\tfor range wdChannel {\n",
       "\t\t}\n",
       "\t\treturn &WatchSrvVSchemaData{Err: vterrors.Wrapf(err, \"error unpacking initial SrvVSchema object\")}, nil, nil\n",
       "\t}\n",
       "\n",
       "\tchanges := make(chan *WatchSrvVSchemaData, 10)\n",
       "\n",
       "\t// The background routine reads any event from the watch channel,\n",
       "\t// translates it, and sends it to the caller.\n",
       "\t// If cancel() is called, the underlying Watch() code will\n",
       "\t// send an ErrInterrupted and then close the channel. We'll\n",
       "\t// just propagate that back to our caller.\n",
       "\tgo func() {\n",
       "\t\tdefer close(changes)\n",
       "\n",
       "\t\tfor wd := range wdChannel {\n",
       "\t\t\tif wd.Err != nil {\n",
       "\t\t\t\t// Last error value, we're done.\n",
       "\t\t\t\t// wdChannel will be closed right after\n",
       "\t\t\t\t// this, no need to do anything.\n",
       "\t\t\t\tchanges <- &WatchSrvVSchemaData{Err: wd.Err}\n",
       "\t\t\t\treturn\n",
       "\t\t\t}\n",
       "\n",
       "\t\t\tvalue := &vschemapb.SrvVSchema{}\n",
       "\t\t\tif err := proto.Unmarshal(wd.Contents, value); err != nil {\n",
       "\t\t\t\tcancel()\n",
       "\t\t\t\tfor range wdChannel {\n",
       "\t\t\t\t}\n",
       "\t\t\t\tchanges <- &WatchSrvVSchemaData{Err: vterrors.Wrapf(err, \"error unpacking SrvVSchema object\")}\n",
       "\t\t\t\treturn\n",
       "\t\t\t}\n",
       "\t\t\tchanges <- &WatchSrvVSchemaData{Value: value}\n",
       "\t\t}\n",
       "\t}()\n",
       "\n",
       "\treturn &WatchSrvVSchemaData{Value: value}, changes, cancel\n",
       "}"
      ]
     },
     "metadata": {},
     "output_type": "display_data"
    },
    {
     "data": {
      "text/html": [
       "<style>pre { line-height: 125%; }\n",
       "td.linenos .normal { color: inherit; background-color: transparent; padding-left: 5px; padding-right: 5px; }\n",
       "span.linenos { color: inherit; background-color: transparent; padding-left: 5px; padding-right: 5px; }\n",
       "td.linenos .special { color: #000000; background-color: #ffffc0; padding-left: 5px; padding-right: 5px; }\n",
       "span.linenos.special { color: #000000; background-color: #ffffc0; padding-left: 5px; padding-right: 5px; }\n",
       ".output_html .hll { background-color: #ffffcc }\n",
       ".output_html { background: #f8f8f8; }\n",
       ".output_html .c { color: #3D7B7B; font-style: italic } /* Comment */\n",
       ".output_html .err { border: 1px solid #FF0000 } /* Error */\n",
       ".output_html .k { color: #008000; font-weight: bold } /* Keyword */\n",
       ".output_html .o { color: #666666 } /* Operator */\n",
       ".output_html .ch { color: #3D7B7B; font-style: italic } /* Comment.Hashbang */\n",
       ".output_html .cm { color: #3D7B7B; font-style: italic } /* Comment.Multiline */\n",
       ".output_html .cp { color: #9C6500 } /* Comment.Preproc */\n",
       ".output_html .cpf { color: #3D7B7B; font-style: italic } /* Comment.PreprocFile */\n",
       ".output_html .c1 { color: #3D7B7B; font-style: italic } /* Comment.Single */\n",
       ".output_html .cs { color: #3D7B7B; font-style: italic } /* Comment.Special */\n",
       ".output_html .gd { color: #A00000 } /* Generic.Deleted */\n",
       ".output_html .ge { font-style: italic } /* Generic.Emph */\n",
       ".output_html .gr { color: #E40000 } /* Generic.Error */\n",
       ".output_html .gh { color: #000080; font-weight: bold } /* Generic.Heading */\n",
       ".output_html .gi { color: #008400 } /* Generic.Inserted */\n",
       ".output_html .go { color: #717171 } /* Generic.Output */\n",
       ".output_html .gp { color: #000080; font-weight: bold } /* Generic.Prompt */\n",
       ".output_html .gs { font-weight: bold } /* Generic.Strong */\n",
       ".output_html .gu { color: #800080; font-weight: bold } /* Generic.Subheading */\n",
       ".output_html .gt { color: #0044DD } /* Generic.Traceback */\n",
       ".output_html .kc { color: #008000; font-weight: bold } /* Keyword.Constant */\n",
       ".output_html .kd { color: #008000; font-weight: bold } /* Keyword.Declaration */\n",
       ".output_html .kn { color: #008000; font-weight: bold } /* Keyword.Namespace */\n",
       ".output_html .kp { color: #008000 } /* Keyword.Pseudo */\n",
       ".output_html .kr { color: #008000; font-weight: bold } /* Keyword.Reserved */\n",
       ".output_html .kt { color: #B00040 } /* Keyword.Type */\n",
       ".output_html .m { color: #666666 } /* Literal.Number */\n",
       ".output_html .s { color: #BA2121 } /* Literal.String */\n",
       ".output_html .na { color: #687822 } /* Name.Attribute */\n",
       ".output_html .nb { color: #008000 } /* Name.Builtin */\n",
       ".output_html .nc { color: #0000FF; font-weight: bold } /* Name.Class */\n",
       ".output_html .no { color: #880000 } /* Name.Constant */\n",
       ".output_html .nd { color: #AA22FF } /* Name.Decorator */\n",
       ".output_html .ni { color: #717171; font-weight: bold } /* Name.Entity */\n",
       ".output_html .ne { color: #CB3F38; font-weight: bold } /* Name.Exception */\n",
       ".output_html .nf { color: #0000FF } /* Name.Function */\n",
       ".output_html .nl { color: #767600 } /* Name.Label */\n",
       ".output_html .nn { color: #0000FF; font-weight: bold } /* Name.Namespace */\n",
       ".output_html .nt { color: #008000; font-weight: bold } /* Name.Tag */\n",
       ".output_html .nv { color: #19177C } /* Name.Variable */\n",
       ".output_html .ow { color: #AA22FF; font-weight: bold } /* Operator.Word */\n",
       ".output_html .w { color: #bbbbbb } /* Text.Whitespace */\n",
       ".output_html .mb { color: #666666 } /* Literal.Number.Bin */\n",
       ".output_html .mf { color: #666666 } /* Literal.Number.Float */\n",
       ".output_html .mh { color: #666666 } /* Literal.Number.Hex */\n",
       ".output_html .mi { color: #666666 } /* Literal.Number.Integer */\n",
       ".output_html .mo { color: #666666 } /* Literal.Number.Oct */\n",
       ".output_html .sa { color: #BA2121 } /* Literal.String.Affix */\n",
       ".output_html .sb { color: #BA2121 } /* Literal.String.Backtick */\n",
       ".output_html .sc { color: #BA2121 } /* Literal.String.Char */\n",
       ".output_html .dl { color: #BA2121 } /* Literal.String.Delimiter */\n",
       ".output_html .sd { color: #BA2121; font-style: italic } /* Literal.String.Doc */\n",
       ".output_html .s2 { color: #BA2121 } /* Literal.String.Double */\n",
       ".output_html .se { color: #AA5D1F; font-weight: bold } /* Literal.String.Escape */\n",
       ".output_html .sh { color: #BA2121 } /* Literal.String.Heredoc */\n",
       ".output_html .si { color: #A45A77; font-weight: bold } /* Literal.String.Interpol */\n",
       ".output_html .sx { color: #008000 } /* Literal.String.Other */\n",
       ".output_html .sr { color: #A45A77 } /* Literal.String.Regex */\n",
       ".output_html .s1 { color: #BA2121 } /* Literal.String.Single */\n",
       ".output_html .ss { color: #19177C } /* Literal.String.Symbol */\n",
       ".output_html .bp { color: #008000 } /* Name.Builtin.Pseudo */\n",
       ".output_html .fm { color: #0000FF } /* Name.Function.Magic */\n",
       ".output_html .vc { color: #19177C } /* Name.Variable.Class */\n",
       ".output_html .vg { color: #19177C } /* Name.Variable.Global */\n",
       ".output_html .vi { color: #19177C } /* Name.Variable.Instance */\n",
       ".output_html .vm { color: #19177C } /* Name.Variable.Magic */\n",
       ".output_html .il { color: #666666 } /* Literal.Number.Integer.Long */</style><div class=\"highlight\"><pre><span></span><span class=\"kd\">func</span><span class=\"w\"> </span><span class=\"p\">(</span><span class=\"nx\">s</span><span class=\"w\"> </span><span class=\"nx\">IntSet</span><span class=\"p\">)</span><span class=\"w\"> </span><span class=\"nx\">Exist</span><span class=\"p\">(</span><span class=\"nx\">val</span><span class=\"w\"> </span><span class=\"kt\">int</span><span class=\"p\">)</span><span class=\"w\"> </span><span class=\"kt\">bool</span><span class=\"w\"> </span><span class=\"p\">{</span><span class=\"w\"></span>\n",
       "<span class=\"w\">\t</span><span class=\"nx\">_</span><span class=\"p\">,</span><span class=\"w\"> </span><span class=\"nx\">ok</span><span class=\"w\"> </span><span class=\"o\">:=</span><span class=\"w\"> </span><span class=\"nx\">s</span><span class=\"p\">[</span><span class=\"nx\">val</span><span class=\"p\">]</span><span class=\"w\"></span>\n",
       "<span class=\"w\">\t</span><span class=\"k\">return</span><span class=\"w\"> </span><span class=\"nx\">ok</span><span class=\"w\"></span>\n",
       "<span class=\"p\">}</span><span class=\"w\"></span>\n",
       "</pre></div>\n"
      ],
      "text/latex": [
       "\\begin{Verbatim}[commandchars=\\\\\\{\\}]\n",
       "\\PY{k+kd}{func}\\PY{+w}{ }\\PY{p}{(}\\PY{n+nx}{s}\\PY{+w}{ }\\PY{n+nx}{IntSet}\\PY{p}{)}\\PY{+w}{ }\\PY{n+nx}{Exist}\\PY{p}{(}\\PY{n+nx}{val}\\PY{+w}{ }\\PY{k+kt}{int}\\PY{p}{)}\\PY{+w}{ }\\PY{k+kt}{bool}\\PY{+w}{ }\\PY{p}{\\PYZob{}}\n",
       "\\PY{+w}{\t}\\PY{n+nx}{\\PYZus{}}\\PY{p}{,}\\PY{+w}{ }\\PY{n+nx}{ok}\\PY{+w}{ }\\PY{o}{:=}\\PY{+w}{ }\\PY{n+nx}{s}\\PY{p}{[}\\PY{n+nx}{val}\\PY{p}{]}\n",
       "\\PY{+w}{\t}\\PY{k}{return}\\PY{+w}{ }\\PY{n+nx}{ok}\n",
       "\\PY{p}{\\PYZcb{}}\n",
       "\\end{Verbatim}\n"
      ],
      "text/plain": [
       "func (s IntSet) Exist(val int) bool {\n",
       "\t_, ok := s[val]\n",
       "\treturn ok\n",
       "}"
      ]
     },
     "metadata": {},
     "output_type": "display_data"
    }
   ],
   "source": [
    "print(\"Go examples\")\n",
    "display_code_example(df_train, \"go\", 2)"
   ]
  },
  {
   "cell_type": "code",
   "execution_count": 16,
   "metadata": {},
   "outputs": [
    {
     "name": "stdout",
     "output_type": "stream",
     "text": [
      "Ruby examples\n"
     ]
    },
    {
     "data": {
      "text/html": [
       "<style>pre { line-height: 125%; }\n",
       "td.linenos .normal { color: inherit; background-color: transparent; padding-left: 5px; padding-right: 5px; }\n",
       "span.linenos { color: inherit; background-color: transparent; padding-left: 5px; padding-right: 5px; }\n",
       "td.linenos .special { color: #000000; background-color: #ffffc0; padding-left: 5px; padding-right: 5px; }\n",
       "span.linenos.special { color: #000000; background-color: #ffffc0; padding-left: 5px; padding-right: 5px; }\n",
       ".output_html .hll { background-color: #ffffcc }\n",
       ".output_html { background: #f8f8f8; }\n",
       ".output_html .c { color: #3D7B7B; font-style: italic } /* Comment */\n",
       ".output_html .err { border: 1px solid #FF0000 } /* Error */\n",
       ".output_html .k { color: #008000; font-weight: bold } /* Keyword */\n",
       ".output_html .o { color: #666666 } /* Operator */\n",
       ".output_html .ch { color: #3D7B7B; font-style: italic } /* Comment.Hashbang */\n",
       ".output_html .cm { color: #3D7B7B; font-style: italic } /* Comment.Multiline */\n",
       ".output_html .cp { color: #9C6500 } /* Comment.Preproc */\n",
       ".output_html .cpf { color: #3D7B7B; font-style: italic } /* Comment.PreprocFile */\n",
       ".output_html .c1 { color: #3D7B7B; font-style: italic } /* Comment.Single */\n",
       ".output_html .cs { color: #3D7B7B; font-style: italic } /* Comment.Special */\n",
       ".output_html .gd { color: #A00000 } /* Generic.Deleted */\n",
       ".output_html .ge { font-style: italic } /* Generic.Emph */\n",
       ".output_html .gr { color: #E40000 } /* Generic.Error */\n",
       ".output_html .gh { color: #000080; font-weight: bold } /* Generic.Heading */\n",
       ".output_html .gi { color: #008400 } /* Generic.Inserted */\n",
       ".output_html .go { color: #717171 } /* Generic.Output */\n",
       ".output_html .gp { color: #000080; font-weight: bold } /* Generic.Prompt */\n",
       ".output_html .gs { font-weight: bold } /* Generic.Strong */\n",
       ".output_html .gu { color: #800080; font-weight: bold } /* Generic.Subheading */\n",
       ".output_html .gt { color: #0044DD } /* Generic.Traceback */\n",
       ".output_html .kc { color: #008000; font-weight: bold } /* Keyword.Constant */\n",
       ".output_html .kd { color: #008000; font-weight: bold } /* Keyword.Declaration */\n",
       ".output_html .kn { color: #008000; font-weight: bold } /* Keyword.Namespace */\n",
       ".output_html .kp { color: #008000 } /* Keyword.Pseudo */\n",
       ".output_html .kr { color: #008000; font-weight: bold } /* Keyword.Reserved */\n",
       ".output_html .kt { color: #B00040 } /* Keyword.Type */\n",
       ".output_html .m { color: #666666 } /* Literal.Number */\n",
       ".output_html .s { color: #BA2121 } /* Literal.String */\n",
       ".output_html .na { color: #687822 } /* Name.Attribute */\n",
       ".output_html .nb { color: #008000 } /* Name.Builtin */\n",
       ".output_html .nc { color: #0000FF; font-weight: bold } /* Name.Class */\n",
       ".output_html .no { color: #880000 } /* Name.Constant */\n",
       ".output_html .nd { color: #AA22FF } /* Name.Decorator */\n",
       ".output_html .ni { color: #717171; font-weight: bold } /* Name.Entity */\n",
       ".output_html .ne { color: #CB3F38; font-weight: bold } /* Name.Exception */\n",
       ".output_html .nf { color: #0000FF } /* Name.Function */\n",
       ".output_html .nl { color: #767600 } /* Name.Label */\n",
       ".output_html .nn { color: #0000FF; font-weight: bold } /* Name.Namespace */\n",
       ".output_html .nt { color: #008000; font-weight: bold } /* Name.Tag */\n",
       ".output_html .nv { color: #19177C } /* Name.Variable */\n",
       ".output_html .ow { color: #AA22FF; font-weight: bold } /* Operator.Word */\n",
       ".output_html .w { color: #bbbbbb } /* Text.Whitespace */\n",
       ".output_html .mb { color: #666666 } /* Literal.Number.Bin */\n",
       ".output_html .mf { color: #666666 } /* Literal.Number.Float */\n",
       ".output_html .mh { color: #666666 } /* Literal.Number.Hex */\n",
       ".output_html .mi { color: #666666 } /* Literal.Number.Integer */\n",
       ".output_html .mo { color: #666666 } /* Literal.Number.Oct */\n",
       ".output_html .sa { color: #BA2121 } /* Literal.String.Affix */\n",
       ".output_html .sb { color: #BA2121 } /* Literal.String.Backtick */\n",
       ".output_html .sc { color: #BA2121 } /* Literal.String.Char */\n",
       ".output_html .dl { color: #BA2121 } /* Literal.String.Delimiter */\n",
       ".output_html .sd { color: #BA2121; font-style: italic } /* Literal.String.Doc */\n",
       ".output_html .s2 { color: #BA2121 } /* Literal.String.Double */\n",
       ".output_html .se { color: #AA5D1F; font-weight: bold } /* Literal.String.Escape */\n",
       ".output_html .sh { color: #BA2121 } /* Literal.String.Heredoc */\n",
       ".output_html .si { color: #A45A77; font-weight: bold } /* Literal.String.Interpol */\n",
       ".output_html .sx { color: #008000 } /* Literal.String.Other */\n",
       ".output_html .sr { color: #A45A77 } /* Literal.String.Regex */\n",
       ".output_html .s1 { color: #BA2121 } /* Literal.String.Single */\n",
       ".output_html .ss { color: #19177C } /* Literal.String.Symbol */\n",
       ".output_html .bp { color: #008000 } /* Name.Builtin.Pseudo */\n",
       ".output_html .fm { color: #0000FF } /* Name.Function.Magic */\n",
       ".output_html .vc { color: #19177C } /* Name.Variable.Class */\n",
       ".output_html .vg { color: #19177C } /* Name.Variable.Global */\n",
       ".output_html .vi { color: #19177C } /* Name.Variable.Instance */\n",
       ".output_html .vm { color: #19177C } /* Name.Variable.Magic */\n",
       ".output_html .il { color: #666666 } /* Literal.Number.Integer.Long */</style><div class=\"highlight\"><pre><span></span><span class=\"k\">def</span> <span class=\"nf\">raw_national</span>\n",
       "      <span class=\"k\">return</span> <span class=\"kp\">nil</span> <span class=\"k\">if</span> <span class=\"n\">sanitized</span><span class=\"o\">.</span><span class=\"n\">nil?</span> <span class=\"o\">||</span> <span class=\"n\">sanitized</span><span class=\"o\">.</span><span class=\"n\">empty?</span>\n",
       "      <span class=\"k\">if</span> <span class=\"n\">valid?</span>\n",
       "        <span class=\"vi\">@national_number</span>\n",
       "      <span class=\"k\">elsif</span> <span class=\"n\">country_code</span> <span class=\"o\">&amp;&amp;</span> <span class=\"n\">sanitized</span><span class=\"o\">.</span><span class=\"n\">start_with?</span><span class=\"p\">(</span><span class=\"n\">country_code</span><span class=\"p\">)</span>\n",
       "        <span class=\"n\">sanitized</span><span class=\"o\">[</span><span class=\"n\">country_code</span><span class=\"o\">.</span><span class=\"n\">size</span><span class=\"o\">..-</span><span class=\"mi\">1</span><span class=\"o\">]</span>\n",
       "      <span class=\"k\">else</span>\n",
       "        <span class=\"n\">sanitized</span>\n",
       "      <span class=\"k\">end</span>\n",
       "    <span class=\"k\">end</span>\n",
       "</pre></div>\n"
      ],
      "text/latex": [
       "\\begin{Verbatim}[commandchars=\\\\\\{\\}]\n",
       "\\PY{k}{def} \\PY{n+nf}{raw\\PYZus{}national}\n",
       "      \\PY{k}{return} \\PY{k+kp}{nil} \\PY{k}{if} \\PY{n}{sanitized}\\PY{o}{.}\\PY{n}{nil?} \\PY{o}{||} \\PY{n}{sanitized}\\PY{o}{.}\\PY{n}{empty?}\n",
       "      \\PY{k}{if} \\PY{n}{valid?}\n",
       "        \\PY{n+nv+vi}{@national\\PYZus{}number}\n",
       "      \\PY{k}{elsif} \\PY{n}{country\\PYZus{}code} \\PY{o}{\\PYZam{}\\PYZam{}} \\PY{n}{sanitized}\\PY{o}{.}\\PY{n}{start\\PYZus{}with?}\\PY{p}{(}\\PY{n}{country\\PYZus{}code}\\PY{p}{)}\n",
       "        \\PY{n}{sanitized}\\PY{o}{[}\\PY{n}{country\\PYZus{}code}\\PY{o}{.}\\PY{n}{size}\\PY{o}{..}\\PY{o}{\\PYZhy{}}\\PY{l+m+mi}{1}\\PY{o}{]}\n",
       "      \\PY{k}{else}\n",
       "        \\PY{n}{sanitized}\n",
       "      \\PY{k}{end}\n",
       "    \\PY{k}{end}\n",
       "\\end{Verbatim}\n"
      ],
      "text/plain": [
       "def raw_national\n",
       "      return nil if sanitized.nil? || sanitized.empty?\n",
       "      if valid?\n",
       "        @national_number\n",
       "      elsif country_code && sanitized.start_with?(country_code)\n",
       "        sanitized[country_code.size..-1]\n",
       "      else\n",
       "        sanitized\n",
       "      end\n",
       "    end"
      ]
     },
     "metadata": {},
     "output_type": "display_data"
    },
    {
     "data": {
      "text/html": [
       "<style>pre { line-height: 125%; }\n",
       "td.linenos .normal { color: inherit; background-color: transparent; padding-left: 5px; padding-right: 5px; }\n",
       "span.linenos { color: inherit; background-color: transparent; padding-left: 5px; padding-right: 5px; }\n",
       "td.linenos .special { color: #000000; background-color: #ffffc0; padding-left: 5px; padding-right: 5px; }\n",
       "span.linenos.special { color: #000000; background-color: #ffffc0; padding-left: 5px; padding-right: 5px; }\n",
       ".output_html .hll { background-color: #ffffcc }\n",
       ".output_html { background: #f8f8f8; }\n",
       ".output_html .c { color: #3D7B7B; font-style: italic } /* Comment */\n",
       ".output_html .err { border: 1px solid #FF0000 } /* Error */\n",
       ".output_html .k { color: #008000; font-weight: bold } /* Keyword */\n",
       ".output_html .o { color: #666666 } /* Operator */\n",
       ".output_html .ch { color: #3D7B7B; font-style: italic } /* Comment.Hashbang */\n",
       ".output_html .cm { color: #3D7B7B; font-style: italic } /* Comment.Multiline */\n",
       ".output_html .cp { color: #9C6500 } /* Comment.Preproc */\n",
       ".output_html .cpf { color: #3D7B7B; font-style: italic } /* Comment.PreprocFile */\n",
       ".output_html .c1 { color: #3D7B7B; font-style: italic } /* Comment.Single */\n",
       ".output_html .cs { color: #3D7B7B; font-style: italic } /* Comment.Special */\n",
       ".output_html .gd { color: #A00000 } /* Generic.Deleted */\n",
       ".output_html .ge { font-style: italic } /* Generic.Emph */\n",
       ".output_html .gr { color: #E40000 } /* Generic.Error */\n",
       ".output_html .gh { color: #000080; font-weight: bold } /* Generic.Heading */\n",
       ".output_html .gi { color: #008400 } /* Generic.Inserted */\n",
       ".output_html .go { color: #717171 } /* Generic.Output */\n",
       ".output_html .gp { color: #000080; font-weight: bold } /* Generic.Prompt */\n",
       ".output_html .gs { font-weight: bold } /* Generic.Strong */\n",
       ".output_html .gu { color: #800080; font-weight: bold } /* Generic.Subheading */\n",
       ".output_html .gt { color: #0044DD } /* Generic.Traceback */\n",
       ".output_html .kc { color: #008000; font-weight: bold } /* Keyword.Constant */\n",
       ".output_html .kd { color: #008000; font-weight: bold } /* Keyword.Declaration */\n",
       ".output_html .kn { color: #008000; font-weight: bold } /* Keyword.Namespace */\n",
       ".output_html .kp { color: #008000 } /* Keyword.Pseudo */\n",
       ".output_html .kr { color: #008000; font-weight: bold } /* Keyword.Reserved */\n",
       ".output_html .kt { color: #B00040 } /* Keyword.Type */\n",
       ".output_html .m { color: #666666 } /* Literal.Number */\n",
       ".output_html .s { color: #BA2121 } /* Literal.String */\n",
       ".output_html .na { color: #687822 } /* Name.Attribute */\n",
       ".output_html .nb { color: #008000 } /* Name.Builtin */\n",
       ".output_html .nc { color: #0000FF; font-weight: bold } /* Name.Class */\n",
       ".output_html .no { color: #880000 } /* Name.Constant */\n",
       ".output_html .nd { color: #AA22FF } /* Name.Decorator */\n",
       ".output_html .ni { color: #717171; font-weight: bold } /* Name.Entity */\n",
       ".output_html .ne { color: #CB3F38; font-weight: bold } /* Name.Exception */\n",
       ".output_html .nf { color: #0000FF } /* Name.Function */\n",
       ".output_html .nl { color: #767600 } /* Name.Label */\n",
       ".output_html .nn { color: #0000FF; font-weight: bold } /* Name.Namespace */\n",
       ".output_html .nt { color: #008000; font-weight: bold } /* Name.Tag */\n",
       ".output_html .nv { color: #19177C } /* Name.Variable */\n",
       ".output_html .ow { color: #AA22FF; font-weight: bold } /* Operator.Word */\n",
       ".output_html .w { color: #bbbbbb } /* Text.Whitespace */\n",
       ".output_html .mb { color: #666666 } /* Literal.Number.Bin */\n",
       ".output_html .mf { color: #666666 } /* Literal.Number.Float */\n",
       ".output_html .mh { color: #666666 } /* Literal.Number.Hex */\n",
       ".output_html .mi { color: #666666 } /* Literal.Number.Integer */\n",
       ".output_html .mo { color: #666666 } /* Literal.Number.Oct */\n",
       ".output_html .sa { color: #BA2121 } /* Literal.String.Affix */\n",
       ".output_html .sb { color: #BA2121 } /* Literal.String.Backtick */\n",
       ".output_html .sc { color: #BA2121 } /* Literal.String.Char */\n",
       ".output_html .dl { color: #BA2121 } /* Literal.String.Delimiter */\n",
       ".output_html .sd { color: #BA2121; font-style: italic } /* Literal.String.Doc */\n",
       ".output_html .s2 { color: #BA2121 } /* Literal.String.Double */\n",
       ".output_html .se { color: #AA5D1F; font-weight: bold } /* Literal.String.Escape */\n",
       ".output_html .sh { color: #BA2121 } /* Literal.String.Heredoc */\n",
       ".output_html .si { color: #A45A77; font-weight: bold } /* Literal.String.Interpol */\n",
       ".output_html .sx { color: #008000 } /* Literal.String.Other */\n",
       ".output_html .sr { color: #A45A77 } /* Literal.String.Regex */\n",
       ".output_html .s1 { color: #BA2121 } /* Literal.String.Single */\n",
       ".output_html .ss { color: #19177C } /* Literal.String.Symbol */\n",
       ".output_html .bp { color: #008000 } /* Name.Builtin.Pseudo */\n",
       ".output_html .fm { color: #0000FF } /* Name.Function.Magic */\n",
       ".output_html .vc { color: #19177C } /* Name.Variable.Class */\n",
       ".output_html .vg { color: #19177C } /* Name.Variable.Global */\n",
       ".output_html .vi { color: #19177C } /* Name.Variable.Instance */\n",
       ".output_html .vm { color: #19177C } /* Name.Variable.Magic */\n",
       ".output_html .il { color: #666666 } /* Literal.Number.Integer.Long */</style><div class=\"highlight\"><pre><span></span><span class=\"k\">def</span> <span class=\"nf\">scan</span>\n",
       "    <span class=\"n\">scan_result</span> <span class=\"o\">=</span> <span class=\"no\">Rex</span><span class=\"o\">::</span><span class=\"no\">SSLScan</span><span class=\"o\">::</span><span class=\"no\">Result</span><span class=\"o\">.</span><span class=\"n\">new</span>\n",
       "    <span class=\"n\">scan_result</span><span class=\"o\">.</span><span class=\"n\">openssl_sslv2</span> <span class=\"o\">=</span> <span class=\"n\">sslv2</span>\n",
       "    <span class=\"c1\"># If we can&#39;t get any SSL connection, then don&#39;t bother testing</span>\n",
       "    <span class=\"c1\"># individual ciphers.</span>\n",
       "    <span class=\"k\">if</span> <span class=\"n\">test_ssl</span> <span class=\"o\">==</span> <span class=\"ss\">:rejected</span> <span class=\"ow\">and</span> <span class=\"n\">test_tls</span> <span class=\"o\">==</span> <span class=\"ss\">:rejected</span>\n",
       "      <span class=\"k\">return</span> <span class=\"n\">scan_result</span>\n",
       "    <span class=\"k\">end</span>\n",
       "\n",
       "    <span class=\"n\">threads</span> <span class=\"o\">=</span> <span class=\"o\">[]</span>\n",
       "    <span class=\"n\">ciphers</span> <span class=\"o\">=</span> <span class=\"no\">Queue</span><span class=\"o\">.</span><span class=\"n\">new</span>\n",
       "    <span class=\"vi\">@supported_versions</span><span class=\"o\">.</span><span class=\"n\">each</span> <span class=\"k\">do</span> <span class=\"o\">|</span><span class=\"n\">ssl_version</span><span class=\"o\">|</span>\n",
       "      <span class=\"n\">sslctx</span> <span class=\"o\">=</span> <span class=\"no\">OpenSSL</span><span class=\"o\">::</span><span class=\"no\">SSL</span><span class=\"o\">::</span><span class=\"no\">SSLContext</span><span class=\"o\">.</span><span class=\"n\">new</span><span class=\"p\">(</span><span class=\"n\">ssl_version</span><span class=\"p\">)</span>\n",
       "      <span class=\"n\">sslctx</span><span class=\"o\">.</span><span class=\"n\">ciphers</span><span class=\"o\">.</span><span class=\"n\">each</span> <span class=\"k\">do</span> <span class=\"o\">|</span><span class=\"n\">cipher_name</span><span class=\"p\">,</span> <span class=\"n\">ssl_ver</span><span class=\"p\">,</span> <span class=\"n\">key_length</span><span class=\"p\">,</span> <span class=\"n\">alg_length</span><span class=\"o\">|</span>\n",
       "        <span class=\"n\">threads</span> <span class=\"o\">&lt;&lt;</span> <span class=\"no\">Thread</span><span class=\"o\">.</span><span class=\"n\">new</span> <span class=\"k\">do</span>\n",
       "          <span class=\"k\">begin</span>\n",
       "            <span class=\"n\">status</span> <span class=\"o\">=</span> <span class=\"n\">test_cipher</span><span class=\"p\">(</span><span class=\"n\">ssl_version</span><span class=\"p\">,</span> <span class=\"n\">cipher_name</span><span class=\"p\">)</span>\n",
       "            <span class=\"n\">ciphers</span> <span class=\"o\">&lt;&lt;</span> <span class=\"o\">[</span><span class=\"n\">ssl_version</span><span class=\"p\">,</span> <span class=\"n\">cipher_name</span><span class=\"p\">,</span> <span class=\"n\">key_length</span><span class=\"p\">,</span> <span class=\"n\">status</span><span class=\"o\">]</span>\n",
       "            <span class=\"k\">if</span> <span class=\"n\">status</span> <span class=\"o\">==</span> <span class=\"ss\">:accepted</span> <span class=\"ow\">and</span> <span class=\"n\">scan_result</span><span class=\"o\">.</span><span class=\"n\">cert</span><span class=\"o\">.</span><span class=\"n\">nil?</span>\n",
       "              <span class=\"n\">scan_result</span><span class=\"o\">.</span><span class=\"n\">cert</span> <span class=\"o\">=</span> <span class=\"n\">get_cert</span><span class=\"p\">(</span><span class=\"n\">ssl_version</span><span class=\"p\">,</span> <span class=\"n\">cipher_name</span><span class=\"p\">)</span>\n",
       "            <span class=\"k\">end</span>\n",
       "          <span class=\"k\">rescue</span> <span class=\"no\">Rex</span><span class=\"o\">::</span><span class=\"no\">SSLScan</span><span class=\"o\">::</span><span class=\"no\">Scanner</span><span class=\"o\">::</span><span class=\"no\">InvalidCipher</span>\n",
       "            <span class=\"k\">next</span>\n",
       "          <span class=\"k\">end</span>\n",
       "        <span class=\"k\">end</span>\n",
       "      <span class=\"k\">end</span>\n",
       "    <span class=\"k\">end</span>\n",
       "    <span class=\"n\">threads</span><span class=\"o\">.</span><span class=\"n\">each</span> <span class=\"p\">{</span> <span class=\"o\">|</span><span class=\"n\">thr</span><span class=\"o\">|</span> <span class=\"n\">thr</span><span class=\"o\">.</span><span class=\"n\">join</span> <span class=\"p\">}</span>\n",
       "\n",
       "    <span class=\"k\">until</span> <span class=\"n\">ciphers</span><span class=\"o\">.</span><span class=\"n\">empty?</span> <span class=\"k\">do</span>\n",
       "      <span class=\"n\">cipher</span> <span class=\"o\">=</span> <span class=\"n\">ciphers</span><span class=\"o\">.</span><span class=\"n\">pop</span>\n",
       "      <span class=\"n\">scan_result</span><span class=\"o\">.</span><span class=\"n\">add_cipher</span><span class=\"p\">(</span><span class=\"o\">*</span><span class=\"n\">cipher</span><span class=\"p\">)</span>\n",
       "    <span class=\"k\">end</span>\n",
       "    <span class=\"n\">scan_result</span>\n",
       "  <span class=\"k\">end</span>\n",
       "</pre></div>\n"
      ],
      "text/latex": [
       "\\begin{Verbatim}[commandchars=\\\\\\{\\}]\n",
       "\\PY{k}{def} \\PY{n+nf}{scan}\n",
       "    \\PY{n}{scan\\PYZus{}result} \\PY{o}{=} \\PY{n+no}{Rex}\\PY{o}{::}\\PY{n+no}{SSLScan}\\PY{o}{::}\\PY{n+no}{Result}\\PY{o}{.}\\PY{n}{new}\n",
       "    \\PY{n}{scan\\PYZus{}result}\\PY{o}{.}\\PY{n}{openssl\\PYZus{}sslv2} \\PY{o}{=} \\PY{n}{sslv2}\n",
       "    \\PY{c+c1}{\\PYZsh{} If we can\\PYZsq{}t get any SSL connection, then don\\PYZsq{}t bother testing}\n",
       "    \\PY{c+c1}{\\PYZsh{} individual ciphers.}\n",
       "    \\PY{k}{if} \\PY{n}{test\\PYZus{}ssl} \\PY{o}{==} \\PY{l+s+ss}{:rejected} \\PY{o+ow}{and} \\PY{n}{test\\PYZus{}tls} \\PY{o}{==} \\PY{l+s+ss}{:rejected}\n",
       "      \\PY{k}{return} \\PY{n}{scan\\PYZus{}result}\n",
       "    \\PY{k}{end}\n",
       "\n",
       "    \\PY{n}{threads} \\PY{o}{=} \\PY{o}{[}\\PY{o}{]}\n",
       "    \\PY{n}{ciphers} \\PY{o}{=} \\PY{n+no}{Queue}\\PY{o}{.}\\PY{n}{new}\n",
       "    \\PY{n+nv+vi}{@supported\\PYZus{}versions}\\PY{o}{.}\\PY{n}{each} \\PY{k}{do} \\PY{o}{|}\\PY{n}{ssl\\PYZus{}version}\\PY{o}{|}\n",
       "      \\PY{n}{sslctx} \\PY{o}{=} \\PY{n+no}{OpenSSL}\\PY{o}{::}\\PY{n+no}{SSL}\\PY{o}{::}\\PY{n+no}{SSLContext}\\PY{o}{.}\\PY{n}{new}\\PY{p}{(}\\PY{n}{ssl\\PYZus{}version}\\PY{p}{)}\n",
       "      \\PY{n}{sslctx}\\PY{o}{.}\\PY{n}{ciphers}\\PY{o}{.}\\PY{n}{each} \\PY{k}{do} \\PY{o}{|}\\PY{n}{cipher\\PYZus{}name}\\PY{p}{,} \\PY{n}{ssl\\PYZus{}ver}\\PY{p}{,} \\PY{n}{key\\PYZus{}length}\\PY{p}{,} \\PY{n}{alg\\PYZus{}length}\\PY{o}{|}\n",
       "        \\PY{n}{threads} \\PY{o}{\\PYZlt{}\\PYZlt{}} \\PY{n+no}{Thread}\\PY{o}{.}\\PY{n}{new} \\PY{k}{do}\n",
       "          \\PY{k}{begin}\n",
       "            \\PY{n}{status} \\PY{o}{=} \\PY{n}{test\\PYZus{}cipher}\\PY{p}{(}\\PY{n}{ssl\\PYZus{}version}\\PY{p}{,} \\PY{n}{cipher\\PYZus{}name}\\PY{p}{)}\n",
       "            \\PY{n}{ciphers} \\PY{o}{\\PYZlt{}\\PYZlt{}} \\PY{o}{[}\\PY{n}{ssl\\PYZus{}version}\\PY{p}{,} \\PY{n}{cipher\\PYZus{}name}\\PY{p}{,} \\PY{n}{key\\PYZus{}length}\\PY{p}{,} \\PY{n}{status}\\PY{o}{]}\n",
       "            \\PY{k}{if} \\PY{n}{status} \\PY{o}{==} \\PY{l+s+ss}{:accepted} \\PY{o+ow}{and} \\PY{n}{scan\\PYZus{}result}\\PY{o}{.}\\PY{n}{cert}\\PY{o}{.}\\PY{n}{nil?}\n",
       "              \\PY{n}{scan\\PYZus{}result}\\PY{o}{.}\\PY{n}{cert} \\PY{o}{=} \\PY{n}{get\\PYZus{}cert}\\PY{p}{(}\\PY{n}{ssl\\PYZus{}version}\\PY{p}{,} \\PY{n}{cipher\\PYZus{}name}\\PY{p}{)}\n",
       "            \\PY{k}{end}\n",
       "          \\PY{k}{rescue} \\PY{n+no}{Rex}\\PY{o}{::}\\PY{n+no}{SSLScan}\\PY{o}{::}\\PY{n+no}{Scanner}\\PY{o}{::}\\PY{n+no}{InvalidCipher}\n",
       "            \\PY{k}{next}\n",
       "          \\PY{k}{end}\n",
       "        \\PY{k}{end}\n",
       "      \\PY{k}{end}\n",
       "    \\PY{k}{end}\n",
       "    \\PY{n}{threads}\\PY{o}{.}\\PY{n}{each} \\PY{p}{\\PYZob{}} \\PY{o}{|}\\PY{n}{thr}\\PY{o}{|} \\PY{n}{thr}\\PY{o}{.}\\PY{n}{join} \\PY{p}{\\PYZcb{}}\n",
       "\n",
       "    \\PY{k}{until} \\PY{n}{ciphers}\\PY{o}{.}\\PY{n}{empty?} \\PY{k}{do}\n",
       "      \\PY{n}{cipher} \\PY{o}{=} \\PY{n}{ciphers}\\PY{o}{.}\\PY{n}{pop}\n",
       "      \\PY{n}{scan\\PYZus{}result}\\PY{o}{.}\\PY{n}{add\\PYZus{}cipher}\\PY{p}{(}\\PY{o}{*}\\PY{n}{cipher}\\PY{p}{)}\n",
       "    \\PY{k}{end}\n",
       "    \\PY{n}{scan\\PYZus{}result}\n",
       "  \\PY{k}{end}\n",
       "\\end{Verbatim}\n"
      ],
      "text/plain": [
       "def scan\n",
       "    scan_result = Rex::SSLScan::Result.new\n",
       "    scan_result.openssl_sslv2 = sslv2\n",
       "    # If we can't get any SSL connection, then don't bother testing\n",
       "    # individual ciphers.\n",
       "    if test_ssl == :rejected and test_tls == :rejected\n",
       "      return scan_result\n",
       "    end\n",
       "\n",
       "    threads = []\n",
       "    ciphers = Queue.new\n",
       "    @supported_versions.each do |ssl_version|\n",
       "      sslctx = OpenSSL::SSL::SSLContext.new(ssl_version)\n",
       "      sslctx.ciphers.each do |cipher_name, ssl_ver, key_length, alg_length|\n",
       "        threads << Thread.new do\n",
       "          begin\n",
       "            status = test_cipher(ssl_version, cipher_name)\n",
       "            ciphers << [ssl_version, cipher_name, key_length, status]\n",
       "            if status == :accepted and scan_result.cert.nil?\n",
       "              scan_result.cert = get_cert(ssl_version, cipher_name)\n",
       "            end\n",
       "          rescue Rex::SSLScan::Scanner::InvalidCipher\n",
       "            next\n",
       "          end\n",
       "        end\n",
       "      end\n",
       "    end\n",
       "    threads.each { |thr| thr.join }\n",
       "\n",
       "    until ciphers.empty? do\n",
       "      cipher = ciphers.pop\n",
       "      scan_result.add_cipher(*cipher)\n",
       "    end\n",
       "    scan_result\n",
       "  end"
      ]
     },
     "metadata": {},
     "output_type": "display_data"
    }
   ],
   "source": [
    "print(\"Ruby examples\")\n",
    "display_code_example(df_train, \"ruby\", 2)"
   ]
  },
  {
   "cell_type": "code",
   "execution_count": 17,
   "metadata": {},
   "outputs": [
    {
     "name": "stdout",
     "output_type": "stream",
     "text": [
      "PHP examples\n"
     ]
    },
    {
     "data": {
      "text/html": [
       "<style>pre { line-height: 125%; }\n",
       "td.linenos .normal { color: inherit; background-color: transparent; padding-left: 5px; padding-right: 5px; }\n",
       "span.linenos { color: inherit; background-color: transparent; padding-left: 5px; padding-right: 5px; }\n",
       "td.linenos .special { color: #000000; background-color: #ffffc0; padding-left: 5px; padding-right: 5px; }\n",
       "span.linenos.special { color: #000000; background-color: #ffffc0; padding-left: 5px; padding-right: 5px; }\n",
       ".output_html .hll { background-color: #ffffcc }\n",
       ".output_html { background: #f8f8f8; }\n",
       ".output_html .c { color: #3D7B7B; font-style: italic } /* Comment */\n",
       ".output_html .err { border: 1px solid #FF0000 } /* Error */\n",
       ".output_html .k { color: #008000; font-weight: bold } /* Keyword */\n",
       ".output_html .o { color: #666666 } /* Operator */\n",
       ".output_html .ch { color: #3D7B7B; font-style: italic } /* Comment.Hashbang */\n",
       ".output_html .cm { color: #3D7B7B; font-style: italic } /* Comment.Multiline */\n",
       ".output_html .cp { color: #9C6500 } /* Comment.Preproc */\n",
       ".output_html .cpf { color: #3D7B7B; font-style: italic } /* Comment.PreprocFile */\n",
       ".output_html .c1 { color: #3D7B7B; font-style: italic } /* Comment.Single */\n",
       ".output_html .cs { color: #3D7B7B; font-style: italic } /* Comment.Special */\n",
       ".output_html .gd { color: #A00000 } /* Generic.Deleted */\n",
       ".output_html .ge { font-style: italic } /* Generic.Emph */\n",
       ".output_html .gr { color: #E40000 } /* Generic.Error */\n",
       ".output_html .gh { color: #000080; font-weight: bold } /* Generic.Heading */\n",
       ".output_html .gi { color: #008400 } /* Generic.Inserted */\n",
       ".output_html .go { color: #717171 } /* Generic.Output */\n",
       ".output_html .gp { color: #000080; font-weight: bold } /* Generic.Prompt */\n",
       ".output_html .gs { font-weight: bold } /* Generic.Strong */\n",
       ".output_html .gu { color: #800080; font-weight: bold } /* Generic.Subheading */\n",
       ".output_html .gt { color: #0044DD } /* Generic.Traceback */\n",
       ".output_html .kc { color: #008000; font-weight: bold } /* Keyword.Constant */\n",
       ".output_html .kd { color: #008000; font-weight: bold } /* Keyword.Declaration */\n",
       ".output_html .kn { color: #008000; font-weight: bold } /* Keyword.Namespace */\n",
       ".output_html .kp { color: #008000 } /* Keyword.Pseudo */\n",
       ".output_html .kr { color: #008000; font-weight: bold } /* Keyword.Reserved */\n",
       ".output_html .kt { color: #B00040 } /* Keyword.Type */\n",
       ".output_html .m { color: #666666 } /* Literal.Number */\n",
       ".output_html .s { color: #BA2121 } /* Literal.String */\n",
       ".output_html .na { color: #687822 } /* Name.Attribute */\n",
       ".output_html .nb { color: #008000 } /* Name.Builtin */\n",
       ".output_html .nc { color: #0000FF; font-weight: bold } /* Name.Class */\n",
       ".output_html .no { color: #880000 } /* Name.Constant */\n",
       ".output_html .nd { color: #AA22FF } /* Name.Decorator */\n",
       ".output_html .ni { color: #717171; font-weight: bold } /* Name.Entity */\n",
       ".output_html .ne { color: #CB3F38; font-weight: bold } /* Name.Exception */\n",
       ".output_html .nf { color: #0000FF } /* Name.Function */\n",
       ".output_html .nl { color: #767600 } /* Name.Label */\n",
       ".output_html .nn { color: #0000FF; font-weight: bold } /* Name.Namespace */\n",
       ".output_html .nt { color: #008000; font-weight: bold } /* Name.Tag */\n",
       ".output_html .nv { color: #19177C } /* Name.Variable */\n",
       ".output_html .ow { color: #AA22FF; font-weight: bold } /* Operator.Word */\n",
       ".output_html .w { color: #bbbbbb } /* Text.Whitespace */\n",
       ".output_html .mb { color: #666666 } /* Literal.Number.Bin */\n",
       ".output_html .mf { color: #666666 } /* Literal.Number.Float */\n",
       ".output_html .mh { color: #666666 } /* Literal.Number.Hex */\n",
       ".output_html .mi { color: #666666 } /* Literal.Number.Integer */\n",
       ".output_html .mo { color: #666666 } /* Literal.Number.Oct */\n",
       ".output_html .sa { color: #BA2121 } /* Literal.String.Affix */\n",
       ".output_html .sb { color: #BA2121 } /* Literal.String.Backtick */\n",
       ".output_html .sc { color: #BA2121 } /* Literal.String.Char */\n",
       ".output_html .dl { color: #BA2121 } /* Literal.String.Delimiter */\n",
       ".output_html .sd { color: #BA2121; font-style: italic } /* Literal.String.Doc */\n",
       ".output_html .s2 { color: #BA2121 } /* Literal.String.Double */\n",
       ".output_html .se { color: #AA5D1F; font-weight: bold } /* Literal.String.Escape */\n",
       ".output_html .sh { color: #BA2121 } /* Literal.String.Heredoc */\n",
       ".output_html .si { color: #A45A77; font-weight: bold } /* Literal.String.Interpol */\n",
       ".output_html .sx { color: #008000 } /* Literal.String.Other */\n",
       ".output_html .sr { color: #A45A77 } /* Literal.String.Regex */\n",
       ".output_html .s1 { color: #BA2121 } /* Literal.String.Single */\n",
       ".output_html .ss { color: #19177C } /* Literal.String.Symbol */\n",
       ".output_html .bp { color: #008000 } /* Name.Builtin.Pseudo */\n",
       ".output_html .fm { color: #0000FF } /* Name.Function.Magic */\n",
       ".output_html .vc { color: #19177C } /* Name.Variable.Class */\n",
       ".output_html .vg { color: #19177C } /* Name.Variable.Global */\n",
       ".output_html .vi { color: #19177C } /* Name.Variable.Instance */\n",
       ".output_html .vm { color: #19177C } /* Name.Variable.Magic */\n",
       ".output_html .il { color: #666666 } /* Literal.Number.Integer.Long */</style><div class=\"highlight\"><pre><span></span><span class=\"x\">public static function getInstance(string $name = &#39;default&#39;): self</span>\n",
       "<span class=\"x\">    {</span>\n",
       "<span class=\"x\">        if (!isset(self::$instances[$name])) {</span>\n",
       "<span class=\"x\">            self::setInstance($name, new self());</span>\n",
       "<span class=\"x\">        }</span>\n",
       "\n",
       "<span class=\"x\">        return self::$instances[$name];</span>\n",
       "<span class=\"x\">    }</span>\n",
       "</pre></div>\n"
      ],
      "text/latex": [
       "\\begin{Verbatim}[commandchars=\\\\\\{\\}]\n",
       "\\PY{x}{public static function getInstance(string \\PYZdl{}name = \\PYZsq{}default\\PYZsq{}): self}\n",
       "\\PY{x}{    \\PYZob{}}\n",
       "\\PY{x}{        if (!isset(self::\\PYZdl{}instances[\\PYZdl{}name])) \\PYZob{}}\n",
       "\\PY{x}{            self::setInstance(\\PYZdl{}name, new self());}\n",
       "\\PY{x}{        \\PYZcb{}}\n",
       "\n",
       "\\PY{x}{        return self::\\PYZdl{}instances[\\PYZdl{}name];}\n",
       "\\PY{x}{    \\PYZcb{}}\n",
       "\\end{Verbatim}\n"
      ],
      "text/plain": [
       "public static function getInstance(string $name = 'default'): self\n",
       "    {\n",
       "        if (!isset(self::$instances[$name])) {\n",
       "            self::setInstance($name, new self());\n",
       "        }\n",
       "\n",
       "        return self::$instances[$name];\n",
       "    }"
      ]
     },
     "metadata": {},
     "output_type": "display_data"
    },
    {
     "data": {
      "text/html": [
       "<style>pre { line-height: 125%; }\n",
       "td.linenos .normal { color: inherit; background-color: transparent; padding-left: 5px; padding-right: 5px; }\n",
       "span.linenos { color: inherit; background-color: transparent; padding-left: 5px; padding-right: 5px; }\n",
       "td.linenos .special { color: #000000; background-color: #ffffc0; padding-left: 5px; padding-right: 5px; }\n",
       "span.linenos.special { color: #000000; background-color: #ffffc0; padding-left: 5px; padding-right: 5px; }\n",
       ".output_html .hll { background-color: #ffffcc }\n",
       ".output_html { background: #f8f8f8; }\n",
       ".output_html .c { color: #3D7B7B; font-style: italic } /* Comment */\n",
       ".output_html .err { border: 1px solid #FF0000 } /* Error */\n",
       ".output_html .k { color: #008000; font-weight: bold } /* Keyword */\n",
       ".output_html .o { color: #666666 } /* Operator */\n",
       ".output_html .ch { color: #3D7B7B; font-style: italic } /* Comment.Hashbang */\n",
       ".output_html .cm { color: #3D7B7B; font-style: italic } /* Comment.Multiline */\n",
       ".output_html .cp { color: #9C6500 } /* Comment.Preproc */\n",
       ".output_html .cpf { color: #3D7B7B; font-style: italic } /* Comment.PreprocFile */\n",
       ".output_html .c1 { color: #3D7B7B; font-style: italic } /* Comment.Single */\n",
       ".output_html .cs { color: #3D7B7B; font-style: italic } /* Comment.Special */\n",
       ".output_html .gd { color: #A00000 } /* Generic.Deleted */\n",
       ".output_html .ge { font-style: italic } /* Generic.Emph */\n",
       ".output_html .gr { color: #E40000 } /* Generic.Error */\n",
       ".output_html .gh { color: #000080; font-weight: bold } /* Generic.Heading */\n",
       ".output_html .gi { color: #008400 } /* Generic.Inserted */\n",
       ".output_html .go { color: #717171 } /* Generic.Output */\n",
       ".output_html .gp { color: #000080; font-weight: bold } /* Generic.Prompt */\n",
       ".output_html .gs { font-weight: bold } /* Generic.Strong */\n",
       ".output_html .gu { color: #800080; font-weight: bold } /* Generic.Subheading */\n",
       ".output_html .gt { color: #0044DD } /* Generic.Traceback */\n",
       ".output_html .kc { color: #008000; font-weight: bold } /* Keyword.Constant */\n",
       ".output_html .kd { color: #008000; font-weight: bold } /* Keyword.Declaration */\n",
       ".output_html .kn { color: #008000; font-weight: bold } /* Keyword.Namespace */\n",
       ".output_html .kp { color: #008000 } /* Keyword.Pseudo */\n",
       ".output_html .kr { color: #008000; font-weight: bold } /* Keyword.Reserved */\n",
       ".output_html .kt { color: #B00040 } /* Keyword.Type */\n",
       ".output_html .m { color: #666666 } /* Literal.Number */\n",
       ".output_html .s { color: #BA2121 } /* Literal.String */\n",
       ".output_html .na { color: #687822 } /* Name.Attribute */\n",
       ".output_html .nb { color: #008000 } /* Name.Builtin */\n",
       ".output_html .nc { color: #0000FF; font-weight: bold } /* Name.Class */\n",
       ".output_html .no { color: #880000 } /* Name.Constant */\n",
       ".output_html .nd { color: #AA22FF } /* Name.Decorator */\n",
       ".output_html .ni { color: #717171; font-weight: bold } /* Name.Entity */\n",
       ".output_html .ne { color: #CB3F38; font-weight: bold } /* Name.Exception */\n",
       ".output_html .nf { color: #0000FF } /* Name.Function */\n",
       ".output_html .nl { color: #767600 } /* Name.Label */\n",
       ".output_html .nn { color: #0000FF; font-weight: bold } /* Name.Namespace */\n",
       ".output_html .nt { color: #008000; font-weight: bold } /* Name.Tag */\n",
       ".output_html .nv { color: #19177C } /* Name.Variable */\n",
       ".output_html .ow { color: #AA22FF; font-weight: bold } /* Operator.Word */\n",
       ".output_html .w { color: #bbbbbb } /* Text.Whitespace */\n",
       ".output_html .mb { color: #666666 } /* Literal.Number.Bin */\n",
       ".output_html .mf { color: #666666 } /* Literal.Number.Float */\n",
       ".output_html .mh { color: #666666 } /* Literal.Number.Hex */\n",
       ".output_html .mi { color: #666666 } /* Literal.Number.Integer */\n",
       ".output_html .mo { color: #666666 } /* Literal.Number.Oct */\n",
       ".output_html .sa { color: #BA2121 } /* Literal.String.Affix */\n",
       ".output_html .sb { color: #BA2121 } /* Literal.String.Backtick */\n",
       ".output_html .sc { color: #BA2121 } /* Literal.String.Char */\n",
       ".output_html .dl { color: #BA2121 } /* Literal.String.Delimiter */\n",
       ".output_html .sd { color: #BA2121; font-style: italic } /* Literal.String.Doc */\n",
       ".output_html .s2 { color: #BA2121 } /* Literal.String.Double */\n",
       ".output_html .se { color: #AA5D1F; font-weight: bold } /* Literal.String.Escape */\n",
       ".output_html .sh { color: #BA2121 } /* Literal.String.Heredoc */\n",
       ".output_html .si { color: #A45A77; font-weight: bold } /* Literal.String.Interpol */\n",
       ".output_html .sx { color: #008000 } /* Literal.String.Other */\n",
       ".output_html .sr { color: #A45A77 } /* Literal.String.Regex */\n",
       ".output_html .s1 { color: #BA2121 } /* Literal.String.Single */\n",
       ".output_html .ss { color: #19177C } /* Literal.String.Symbol */\n",
       ".output_html .bp { color: #008000 } /* Name.Builtin.Pseudo */\n",
       ".output_html .fm { color: #0000FF } /* Name.Function.Magic */\n",
       ".output_html .vc { color: #19177C } /* Name.Variable.Class */\n",
       ".output_html .vg { color: #19177C } /* Name.Variable.Global */\n",
       ".output_html .vi { color: #19177C } /* Name.Variable.Instance */\n",
       ".output_html .vm { color: #19177C } /* Name.Variable.Magic */\n",
       ".output_html .il { color: #666666 } /* Literal.Number.Integer.Long */</style><div class=\"highlight\"><pre><span></span><span class=\"x\">private function createLoginView(array $data)</span>\n",
       "<span class=\"x\">    {</span>\n",
       "<span class=\"x\">        // Get the client that we&#39;re rendering login for</span>\n",
       "<span class=\"x\">        $consentType = $this-&gt;getConsentType($this-&gt;getAuthorizationRequest());</span>\n",
       "\n",
       "<span class=\"x\">        switch ($consentType) {</span>\n",
       "<span class=\"x\">            case Client::CONSENT_NONE:</span>\n",
       "<span class=\"x\">                // Don&#39;t set anything if the consent type is &quot;none&quot;</span>\n",
       "<span class=\"x\">                break;</span>\n",
       "\n",
       "<span class=\"x\">            case Client::CONSENT_SIMPLE:</span>\n",
       "<span class=\"x\">            default:</span>\n",
       "<span class=\"x\">                $data[&#39;consentView&#39;] = new View(&#39;/oauth/consent/simple&#39;);</span>\n",
       "<span class=\"x\">                break;</span>\n",
       "<span class=\"x\">        }</span>\n",
       "\n",
       "<span class=\"x\">        // Start building a view:</span>\n",
       "<span class=\"x\">        $contents = new View(&#39;/oauth/authorize&#39;);</span>\n",
       "<span class=\"x\">        $contents-&gt;setViewTheme(&#39;concrete&#39;);</span>\n",
       "<span class=\"x\">        $contents-&gt;setViewTemplate(&#39;background_image.php&#39;);</span>\n",
       "<span class=\"x\">        $contents-&gt;addScopeItems($data);</span>\n",
       "\n",
       "<span class=\"x\">        return $contents;</span>\n",
       "<span class=\"x\">    }</span>\n",
       "</pre></div>\n"
      ],
      "text/latex": [
       "\\begin{Verbatim}[commandchars=\\\\\\{\\}]\n",
       "\\PY{x}{private function createLoginView(array \\PYZdl{}data)}\n",
       "\\PY{x}{    \\PYZob{}}\n",
       "\\PY{x}{        // Get the client that we\\PYZsq{}re rendering login for}\n",
       "\\PY{x}{        \\PYZdl{}consentType = \\PYZdl{}this\\PYZhy{}\\PYZgt{}getConsentType(\\PYZdl{}this\\PYZhy{}\\PYZgt{}getAuthorizationRequest());}\n",
       "\n",
       "\\PY{x}{        switch (\\PYZdl{}consentType) \\PYZob{}}\n",
       "\\PY{x}{            case Client::CONSENT\\PYZus{}NONE:}\n",
       "\\PY{x}{                // Don\\PYZsq{}t set anything if the consent type is \\PYZdq{}none\\PYZdq{}}\n",
       "\\PY{x}{                break;}\n",
       "\n",
       "\\PY{x}{            case Client::CONSENT\\PYZus{}SIMPLE:}\n",
       "\\PY{x}{            default:}\n",
       "\\PY{x}{                \\PYZdl{}data[\\PYZsq{}consentView\\PYZsq{}] = new View(\\PYZsq{}/oauth/consent/simple\\PYZsq{});}\n",
       "\\PY{x}{                break;}\n",
       "\\PY{x}{        \\PYZcb{}}\n",
       "\n",
       "\\PY{x}{        // Start building a view:}\n",
       "\\PY{x}{        \\PYZdl{}contents = new View(\\PYZsq{}/oauth/authorize\\PYZsq{});}\n",
       "\\PY{x}{        \\PYZdl{}contents\\PYZhy{}\\PYZgt{}setViewTheme(\\PYZsq{}concrete\\PYZsq{});}\n",
       "\\PY{x}{        \\PYZdl{}contents\\PYZhy{}\\PYZgt{}setViewTemplate(\\PYZsq{}background\\PYZus{}image.php\\PYZsq{});}\n",
       "\\PY{x}{        \\PYZdl{}contents\\PYZhy{}\\PYZgt{}addScopeItems(\\PYZdl{}data);}\n",
       "\n",
       "\\PY{x}{        return \\PYZdl{}contents;}\n",
       "\\PY{x}{    \\PYZcb{}}\n",
       "\\end{Verbatim}\n"
      ],
      "text/plain": [
       "private function createLoginView(array $data)\n",
       "    {\n",
       "        // Get the client that we're rendering login for\n",
       "        $consentType = $this->getConsentType($this->getAuthorizationRequest());\n",
       "\n",
       "        switch ($consentType) {\n",
       "            case Client::CONSENT_NONE:\n",
       "                // Don't set anything if the consent type is \"none\"\n",
       "                break;\n",
       "\n",
       "            case Client::CONSENT_SIMPLE:\n",
       "            default:\n",
       "                $data['consentView'] = new View('/oauth/consent/simple');\n",
       "                break;\n",
       "        }\n",
       "\n",
       "        // Start building a view:\n",
       "        $contents = new View('/oauth/authorize');\n",
       "        $contents->setViewTheme('concrete');\n",
       "        $contents->setViewTemplate('background_image.php');\n",
       "        $contents->addScopeItems($data);\n",
       "\n",
       "        return $contents;\n",
       "    }"
      ]
     },
     "metadata": {},
     "output_type": "display_data"
    }
   ],
   "source": [
    "print(\"PHP examples\")\n",
    "display_code_example(df_train, \"php\", 2)"
   ]
  },
  {
   "cell_type": "code",
   "execution_count": 14,
   "metadata": {},
   "outputs": [
    {
     "name": "stdout",
     "output_type": "stream",
     "text": [
      "JavaScript examples\n"
     ]
    },
    {
     "data": {
      "text/html": [
       "<style>pre { line-height: 125%; }\n",
       "td.linenos .normal { color: inherit; background-color: transparent; padding-left: 5px; padding-right: 5px; }\n",
       "span.linenos { color: inherit; background-color: transparent; padding-left: 5px; padding-right: 5px; }\n",
       "td.linenos .special { color: #000000; background-color: #ffffc0; padding-left: 5px; padding-right: 5px; }\n",
       "span.linenos.special { color: #000000; background-color: #ffffc0; padding-left: 5px; padding-right: 5px; }\n",
       ".output_html .hll { background-color: #ffffcc }\n",
       ".output_html { background: #f8f8f8; }\n",
       ".output_html .c { color: #3D7B7B; font-style: italic } /* Comment */\n",
       ".output_html .err { border: 1px solid #FF0000 } /* Error */\n",
       ".output_html .k { color: #008000; font-weight: bold } /* Keyword */\n",
       ".output_html .o { color: #666666 } /* Operator */\n",
       ".output_html .ch { color: #3D7B7B; font-style: italic } /* Comment.Hashbang */\n",
       ".output_html .cm { color: #3D7B7B; font-style: italic } /* Comment.Multiline */\n",
       ".output_html .cp { color: #9C6500 } /* Comment.Preproc */\n",
       ".output_html .cpf { color: #3D7B7B; font-style: italic } /* Comment.PreprocFile */\n",
       ".output_html .c1 { color: #3D7B7B; font-style: italic } /* Comment.Single */\n",
       ".output_html .cs { color: #3D7B7B; font-style: italic } /* Comment.Special */\n",
       ".output_html .gd { color: #A00000 } /* Generic.Deleted */\n",
       ".output_html .ge { font-style: italic } /* Generic.Emph */\n",
       ".output_html .gr { color: #E40000 } /* Generic.Error */\n",
       ".output_html .gh { color: #000080; font-weight: bold } /* Generic.Heading */\n",
       ".output_html .gi { color: #008400 } /* Generic.Inserted */\n",
       ".output_html .go { color: #717171 } /* Generic.Output */\n",
       ".output_html .gp { color: #000080; font-weight: bold } /* Generic.Prompt */\n",
       ".output_html .gs { font-weight: bold } /* Generic.Strong */\n",
       ".output_html .gu { color: #800080; font-weight: bold } /* Generic.Subheading */\n",
       ".output_html .gt { color: #0044DD } /* Generic.Traceback */\n",
       ".output_html .kc { color: #008000; font-weight: bold } /* Keyword.Constant */\n",
       ".output_html .kd { color: #008000; font-weight: bold } /* Keyword.Declaration */\n",
       ".output_html .kn { color: #008000; font-weight: bold } /* Keyword.Namespace */\n",
       ".output_html .kp { color: #008000 } /* Keyword.Pseudo */\n",
       ".output_html .kr { color: #008000; font-weight: bold } /* Keyword.Reserved */\n",
       ".output_html .kt { color: #B00040 } /* Keyword.Type */\n",
       ".output_html .m { color: #666666 } /* Literal.Number */\n",
       ".output_html .s { color: #BA2121 } /* Literal.String */\n",
       ".output_html .na { color: #687822 } /* Name.Attribute */\n",
       ".output_html .nb { color: #008000 } /* Name.Builtin */\n",
       ".output_html .nc { color: #0000FF; font-weight: bold } /* Name.Class */\n",
       ".output_html .no { color: #880000 } /* Name.Constant */\n",
       ".output_html .nd { color: #AA22FF } /* Name.Decorator */\n",
       ".output_html .ni { color: #717171; font-weight: bold } /* Name.Entity */\n",
       ".output_html .ne { color: #CB3F38; font-weight: bold } /* Name.Exception */\n",
       ".output_html .nf { color: #0000FF } /* Name.Function */\n",
       ".output_html .nl { color: #767600 } /* Name.Label */\n",
       ".output_html .nn { color: #0000FF; font-weight: bold } /* Name.Namespace */\n",
       ".output_html .nt { color: #008000; font-weight: bold } /* Name.Tag */\n",
       ".output_html .nv { color: #19177C } /* Name.Variable */\n",
       ".output_html .ow { color: #AA22FF; font-weight: bold } /* Operator.Word */\n",
       ".output_html .w { color: #bbbbbb } /* Text.Whitespace */\n",
       ".output_html .mb { color: #666666 } /* Literal.Number.Bin */\n",
       ".output_html .mf { color: #666666 } /* Literal.Number.Float */\n",
       ".output_html .mh { color: #666666 } /* Literal.Number.Hex */\n",
       ".output_html .mi { color: #666666 } /* Literal.Number.Integer */\n",
       ".output_html .mo { color: #666666 } /* Literal.Number.Oct */\n",
       ".output_html .sa { color: #BA2121 } /* Literal.String.Affix */\n",
       ".output_html .sb { color: #BA2121 } /* Literal.String.Backtick */\n",
       ".output_html .sc { color: #BA2121 } /* Literal.String.Char */\n",
       ".output_html .dl { color: #BA2121 } /* Literal.String.Delimiter */\n",
       ".output_html .sd { color: #BA2121; font-style: italic } /* Literal.String.Doc */\n",
       ".output_html .s2 { color: #BA2121 } /* Literal.String.Double */\n",
       ".output_html .se { color: #AA5D1F; font-weight: bold } /* Literal.String.Escape */\n",
       ".output_html .sh { color: #BA2121 } /* Literal.String.Heredoc */\n",
       ".output_html .si { color: #A45A77; font-weight: bold } /* Literal.String.Interpol */\n",
       ".output_html .sx { color: #008000 } /* Literal.String.Other */\n",
       ".output_html .sr { color: #A45A77 } /* Literal.String.Regex */\n",
       ".output_html .s1 { color: #BA2121 } /* Literal.String.Single */\n",
       ".output_html .ss { color: #19177C } /* Literal.String.Symbol */\n",
       ".output_html .bp { color: #008000 } /* Name.Builtin.Pseudo */\n",
       ".output_html .fm { color: #0000FF } /* Name.Function.Magic */\n",
       ".output_html .vc { color: #19177C } /* Name.Variable.Class */\n",
       ".output_html .vg { color: #19177C } /* Name.Variable.Global */\n",
       ".output_html .vi { color: #19177C } /* Name.Variable.Instance */\n",
       ".output_html .vm { color: #19177C } /* Name.Variable.Magic */\n",
       ".output_html .il { color: #666666 } /* Literal.Number.Integer.Long */</style><div class=\"highlight\"><pre><span></span><span class=\"kd\">function</span><span class=\"w\"> </span><span class=\"nx\">InvalidValidationRuleParameter</span><span class=\"p\">(</span><span class=\"nx\">ruleParameter</span><span class=\"p\">,</span><span class=\"w\"> </span><span class=\"nx\">reason</span><span class=\"p\">)</span><span class=\"w\"> </span><span class=\"p\">{</span><span class=\"w\"></span>\n",
       "<span class=\"w\">  </span><span class=\"kd\">var</span><span class=\"w\"> </span><span class=\"nx\">defaultMessage</span><span class=\"w\"> </span><span class=\"o\">=</span><span class=\"w\"> </span><span class=\"nx\">sprintf</span><span class=\"p\">(</span><span class=\"s1\">&#39;%s is not a valid rule parameter.&#39;</span><span class=\"p\">,</span><span class=\"w\"> </span><span class=\"nx\">ruleParameter</span><span class=\"p\">);</span><span class=\"w\"></span>\n",
       "<span class=\"w\">  </span><span class=\"k\">this</span><span class=\"p\">.</span><span class=\"nx\">message</span><span class=\"w\"> </span><span class=\"o\">=</span><span class=\"w\"> </span><span class=\"nx\">reason</span><span class=\"w\"> </span><span class=\"o\">?</span><span class=\"w\"> </span><span class=\"nx\">sprintf</span><span class=\"p\">(</span><span class=\"s1\">&#39;%s. %s&#39;</span><span class=\"p\">,</span><span class=\"w\"> </span><span class=\"nx\">defaultMessage</span><span class=\"p\">,</span><span class=\"w\"> </span><span class=\"nx\">reason</span><span class=\"p\">)</span><span class=\"w\"> </span><span class=\"o\">:</span><span class=\"w\"> </span><span class=\"nx\">defaultMessage</span><span class=\"p\">;</span><span class=\"w\"></span>\n",
       "<span class=\"w\">  </span><span class=\"k\">this</span><span class=\"p\">.</span><span class=\"nx\">name</span><span class=\"w\"> </span><span class=\"o\">=</span><span class=\"w\"> </span><span class=\"s1\">&#39;InvalidValidationRuleParameter&#39;</span><span class=\"p\">;</span><span class=\"w\"></span>\n",
       "\n",
       "<span class=\"w\">  </span><span class=\"ne\">Error</span><span class=\"p\">.</span><span class=\"nx\">captureStackTrace</span><span class=\"p\">(</span><span class=\"k\">this</span><span class=\"p\">,</span><span class=\"w\"> </span><span class=\"nx\">InvalidValidationRuleParameter</span><span class=\"p\">);</span><span class=\"w\"></span>\n",
       "<span class=\"p\">}</span><span class=\"w\"></span>\n",
       "</pre></div>\n"
      ],
      "text/latex": [
       "\\begin{Verbatim}[commandchars=\\\\\\{\\}]\n",
       "\\PY{k+kd}{function}\\PY{+w}{ }\\PY{n+nx}{InvalidValidationRuleParameter}\\PY{p}{(}\\PY{n+nx}{ruleParameter}\\PY{p}{,}\\PY{+w}{ }\\PY{n+nx}{reason}\\PY{p}{)}\\PY{+w}{ }\\PY{p}{\\PYZob{}}\n",
       "\\PY{+w}{  }\\PY{k+kd}{var}\\PY{+w}{ }\\PY{n+nx}{defaultMessage}\\PY{+w}{ }\\PY{o}{=}\\PY{+w}{ }\\PY{n+nx}{sprintf}\\PY{p}{(}\\PY{l+s+s1}{\\PYZsq{}\\PYZpc{}s is not a valid rule parameter.\\PYZsq{}}\\PY{p}{,}\\PY{+w}{ }\\PY{n+nx}{ruleParameter}\\PY{p}{)}\\PY{p}{;}\n",
       "\\PY{+w}{  }\\PY{k}{this}\\PY{p}{.}\\PY{n+nx}{message}\\PY{+w}{ }\\PY{o}{=}\\PY{+w}{ }\\PY{n+nx}{reason}\\PY{+w}{ }\\PY{o}{?}\\PY{+w}{ }\\PY{n+nx}{sprintf}\\PY{p}{(}\\PY{l+s+s1}{\\PYZsq{}\\PYZpc{}s. \\PYZpc{}s\\PYZsq{}}\\PY{p}{,}\\PY{+w}{ }\\PY{n+nx}{defaultMessage}\\PY{p}{,}\\PY{+w}{ }\\PY{n+nx}{reason}\\PY{p}{)}\\PY{+w}{ }\\PY{o}{:}\\PY{+w}{ }\\PY{n+nx}{defaultMessage}\\PY{p}{;}\n",
       "\\PY{+w}{  }\\PY{k}{this}\\PY{p}{.}\\PY{n+nx}{name}\\PY{+w}{ }\\PY{o}{=}\\PY{+w}{ }\\PY{l+s+s1}{\\PYZsq{}InvalidValidationRuleParameter\\PYZsq{}}\\PY{p}{;}\n",
       "\n",
       "\\PY{+w}{  }\\PY{n+ne}{Error}\\PY{p}{.}\\PY{n+nx}{captureStackTrace}\\PY{p}{(}\\PY{k}{this}\\PY{p}{,}\\PY{+w}{ }\\PY{n+nx}{InvalidValidationRuleParameter}\\PY{p}{)}\\PY{p}{;}\n",
       "\\PY{p}{\\PYZcb{}}\n",
       "\\end{Verbatim}\n"
      ],
      "text/plain": [
       "function InvalidValidationRuleParameter(ruleParameter, reason) {\n",
       "  var defaultMessage = sprintf('%s is not a valid rule parameter.', ruleParameter);\n",
       "  this.message = reason ? sprintf('%s. %s', defaultMessage, reason) : defaultMessage;\n",
       "  this.name = 'InvalidValidationRuleParameter';\n",
       "\n",
       "  Error.captureStackTrace(this, InvalidValidationRuleParameter);\n",
       "}"
      ]
     },
     "metadata": {},
     "output_type": "display_data"
    },
    {
     "data": {
      "text/html": [
       "<style>pre { line-height: 125%; }\n",
       "td.linenos .normal { color: inherit; background-color: transparent; padding-left: 5px; padding-right: 5px; }\n",
       "span.linenos { color: inherit; background-color: transparent; padding-left: 5px; padding-right: 5px; }\n",
       "td.linenos .special { color: #000000; background-color: #ffffc0; padding-left: 5px; padding-right: 5px; }\n",
       "span.linenos.special { color: #000000; background-color: #ffffc0; padding-left: 5px; padding-right: 5px; }\n",
       ".output_html .hll { background-color: #ffffcc }\n",
       ".output_html { background: #f8f8f8; }\n",
       ".output_html .c { color: #3D7B7B; font-style: italic } /* Comment */\n",
       ".output_html .err { border: 1px solid #FF0000 } /* Error */\n",
       ".output_html .k { color: #008000; font-weight: bold } /* Keyword */\n",
       ".output_html .o { color: #666666 } /* Operator */\n",
       ".output_html .ch { color: #3D7B7B; font-style: italic } /* Comment.Hashbang */\n",
       ".output_html .cm { color: #3D7B7B; font-style: italic } /* Comment.Multiline */\n",
       ".output_html .cp { color: #9C6500 } /* Comment.Preproc */\n",
       ".output_html .cpf { color: #3D7B7B; font-style: italic } /* Comment.PreprocFile */\n",
       ".output_html .c1 { color: #3D7B7B; font-style: italic } /* Comment.Single */\n",
       ".output_html .cs { color: #3D7B7B; font-style: italic } /* Comment.Special */\n",
       ".output_html .gd { color: #A00000 } /* Generic.Deleted */\n",
       ".output_html .ge { font-style: italic } /* Generic.Emph */\n",
       ".output_html .gr { color: #E40000 } /* Generic.Error */\n",
       ".output_html .gh { color: #000080; font-weight: bold } /* Generic.Heading */\n",
       ".output_html .gi { color: #008400 } /* Generic.Inserted */\n",
       ".output_html .go { color: #717171 } /* Generic.Output */\n",
       ".output_html .gp { color: #000080; font-weight: bold } /* Generic.Prompt */\n",
       ".output_html .gs { font-weight: bold } /* Generic.Strong */\n",
       ".output_html .gu { color: #800080; font-weight: bold } /* Generic.Subheading */\n",
       ".output_html .gt { color: #0044DD } /* Generic.Traceback */\n",
       ".output_html .kc { color: #008000; font-weight: bold } /* Keyword.Constant */\n",
       ".output_html .kd { color: #008000; font-weight: bold } /* Keyword.Declaration */\n",
       ".output_html .kn { color: #008000; font-weight: bold } /* Keyword.Namespace */\n",
       ".output_html .kp { color: #008000 } /* Keyword.Pseudo */\n",
       ".output_html .kr { color: #008000; font-weight: bold } /* Keyword.Reserved */\n",
       ".output_html .kt { color: #B00040 } /* Keyword.Type */\n",
       ".output_html .m { color: #666666 } /* Literal.Number */\n",
       ".output_html .s { color: #BA2121 } /* Literal.String */\n",
       ".output_html .na { color: #687822 } /* Name.Attribute */\n",
       ".output_html .nb { color: #008000 } /* Name.Builtin */\n",
       ".output_html .nc { color: #0000FF; font-weight: bold } /* Name.Class */\n",
       ".output_html .no { color: #880000 } /* Name.Constant */\n",
       ".output_html .nd { color: #AA22FF } /* Name.Decorator */\n",
       ".output_html .ni { color: #717171; font-weight: bold } /* Name.Entity */\n",
       ".output_html .ne { color: #CB3F38; font-weight: bold } /* Name.Exception */\n",
       ".output_html .nf { color: #0000FF } /* Name.Function */\n",
       ".output_html .nl { color: #767600 } /* Name.Label */\n",
       ".output_html .nn { color: #0000FF; font-weight: bold } /* Name.Namespace */\n",
       ".output_html .nt { color: #008000; font-weight: bold } /* Name.Tag */\n",
       ".output_html .nv { color: #19177C } /* Name.Variable */\n",
       ".output_html .ow { color: #AA22FF; font-weight: bold } /* Operator.Word */\n",
       ".output_html .w { color: #bbbbbb } /* Text.Whitespace */\n",
       ".output_html .mb { color: #666666 } /* Literal.Number.Bin */\n",
       ".output_html .mf { color: #666666 } /* Literal.Number.Float */\n",
       ".output_html .mh { color: #666666 } /* Literal.Number.Hex */\n",
       ".output_html .mi { color: #666666 } /* Literal.Number.Integer */\n",
       ".output_html .mo { color: #666666 } /* Literal.Number.Oct */\n",
       ".output_html .sa { color: #BA2121 } /* Literal.String.Affix */\n",
       ".output_html .sb { color: #BA2121 } /* Literal.String.Backtick */\n",
       ".output_html .sc { color: #BA2121 } /* Literal.String.Char */\n",
       ".output_html .dl { color: #BA2121 } /* Literal.String.Delimiter */\n",
       ".output_html .sd { color: #BA2121; font-style: italic } /* Literal.String.Doc */\n",
       ".output_html .s2 { color: #BA2121 } /* Literal.String.Double */\n",
       ".output_html .se { color: #AA5D1F; font-weight: bold } /* Literal.String.Escape */\n",
       ".output_html .sh { color: #BA2121 } /* Literal.String.Heredoc */\n",
       ".output_html .si { color: #A45A77; font-weight: bold } /* Literal.String.Interpol */\n",
       ".output_html .sx { color: #008000 } /* Literal.String.Other */\n",
       ".output_html .sr { color: #A45A77 } /* Literal.String.Regex */\n",
       ".output_html .s1 { color: #BA2121 } /* Literal.String.Single */\n",
       ".output_html .ss { color: #19177C } /* Literal.String.Symbol */\n",
       ".output_html .bp { color: #008000 } /* Name.Builtin.Pseudo */\n",
       ".output_html .fm { color: #0000FF } /* Name.Function.Magic */\n",
       ".output_html .vc { color: #19177C } /* Name.Variable.Class */\n",
       ".output_html .vg { color: #19177C } /* Name.Variable.Global */\n",
       ".output_html .vi { color: #19177C } /* Name.Variable.Instance */\n",
       ".output_html .vm { color: #19177C } /* Name.Variable.Magic */\n",
       ".output_html .il { color: #666666 } /* Literal.Number.Integer.Long */</style><div class=\"highlight\"><pre><span></span><span class=\"kd\">function</span><span class=\"w\"> </span><span class=\"p\">(</span><span class=\"nx\">evt</span><span class=\"p\">)</span><span class=\"w\"> </span><span class=\"p\">{</span><span class=\"w\"></span>\n",
       "<span class=\"w\">            </span><span class=\"c1\">// Ignore input fields</span><span class=\"w\"></span>\n",
       "<span class=\"w\">            </span><span class=\"k\">if</span><span class=\"w\"> </span><span class=\"p\">(</span><span class=\"nx\">$</span><span class=\"p\">(</span><span class=\"nx\">evt</span><span class=\"p\">.</span><span class=\"nx\">target</span><span class=\"p\">).</span><span class=\"nx\">is</span><span class=\"p\">(</span><span class=\"s1\">&#39;input&#39;</span><span class=\"p\">))</span><span class=\"w\"> </span><span class=\"p\">{</span><span class=\"w\"></span>\n",
       "<span class=\"w\">                </span><span class=\"k\">return</span><span class=\"w\"> </span><span class=\"kc\">true</span><span class=\"p\">;</span><span class=\"w\"></span>\n",
       "<span class=\"w\">            </span><span class=\"p\">}</span><span class=\"w\"></span>\n",
       "\n",
       "<span class=\"w\">            </span><span class=\"k\">if</span><span class=\"w\"> </span><span class=\"p\">(</span><span class=\"nx\">evt</span><span class=\"p\">.</span><span class=\"nx\">shiftKey</span><span class=\"w\"> </span><span class=\"o\">&amp;&amp;</span><span class=\"w\"> </span><span class=\"mf\">37</span><span class=\"w\"> </span><span class=\"o\">&lt;=</span><span class=\"w\"> </span><span class=\"nx\">evt</span><span class=\"p\">.</span><span class=\"nx\">keyCode</span><span class=\"w\"> </span><span class=\"o\">&amp;&amp;</span><span class=\"w\"> </span><span class=\"nx\">evt</span><span class=\"p\">.</span><span class=\"nx\">keyCode</span><span class=\"w\"> </span><span class=\"o\">&lt;=</span><span class=\"w\"> </span><span class=\"mf\">40</span><span class=\"p\">)</span><span class=\"w\"> </span><span class=\"p\">{</span><span class=\"w\"></span>\n",
       "<span class=\"w\">                </span><span class=\"kd\">var</span><span class=\"w\"> </span><span class=\"nx\">key</span><span class=\"w\"> </span><span class=\"o\">=</span><span class=\"w\"> </span><span class=\"s1\">&#39;key&#39;</span><span class=\"w\"> </span><span class=\"o\">+</span><span class=\"w\"> </span><span class=\"nx\">evt</span><span class=\"p\">.</span><span class=\"nx\">keyCode</span><span class=\"p\">;</span><span class=\"w\"></span>\n",
       "<span class=\"w\">                </span><span class=\"kd\">var</span><span class=\"w\"> </span><span class=\"nx\">scrollVals</span><span class=\"w\"> </span><span class=\"o\">=</span><span class=\"w\"> </span><span class=\"p\">{</span><span class=\"w\"></span>\n",
       "<span class=\"w\">                        </span><span class=\"nx\">key38</span><span class=\"o\">:</span><span class=\"w\"> </span><span class=\"p\">[</span><span class=\"mf\">0</span><span class=\"p\">,</span><span class=\"w\"> </span><span class=\"o\">-</span><span class=\"mf\">1</span><span class=\"p\">],</span><span class=\"w\"></span>\n",
       "<span class=\"w\">                        </span><span class=\"nx\">key37</span><span class=\"o\">:</span><span class=\"w\"> </span><span class=\"p\">[</span><span class=\"o\">-</span><span class=\"mf\">1</span><span class=\"p\">,</span><span class=\"w\"> </span><span class=\"mf\">0</span><span class=\"p\">],</span><span class=\"w\"></span>\n",
       "<span class=\"w\">                        </span><span class=\"nx\">key39</span><span class=\"o\">:</span><span class=\"w\"> </span><span class=\"p\">[</span><span class=\"mf\">1</span><span class=\"p\">,</span><span class=\"w\"> </span><span class=\"mf\">0</span><span class=\"p\">],</span><span class=\"w\"></span>\n",
       "<span class=\"w\">                        </span><span class=\"nx\">key40</span><span class=\"o\">:</span><span class=\"w\"> </span><span class=\"p\">[</span><span class=\"mf\">0</span><span class=\"p\">,</span><span class=\"w\"> </span><span class=\"mf\">1</span><span class=\"p\">]</span><span class=\"w\"></span>\n",
       "<span class=\"w\">                    </span><span class=\"p\">};</span><span class=\"w\"></span>\n",
       "\n",
       "<span class=\"w\">                </span><span class=\"nb\">window</span><span class=\"p\">.</span><span class=\"nx\">scrollBy</span><span class=\"p\">(</span><span class=\"nx\">scrollVals</span><span class=\"p\">[</span><span class=\"nx\">key</span><span class=\"p\">][</span><span class=\"mf\">0</span><span class=\"p\">],</span><span class=\"w\"> </span><span class=\"nx\">scrollVals</span><span class=\"p\">[</span><span class=\"nx\">key</span><span class=\"p\">][</span><span class=\"mf\">1</span><span class=\"p\">]);</span><span class=\"w\"></span>\n",
       "<span class=\"w\">                </span><span class=\"nx\">evt</span><span class=\"p\">.</span><span class=\"nx\">preventDefault</span><span class=\"p\">();</span><span class=\"w\"></span>\n",
       "<span class=\"w\">            </span><span class=\"p\">}</span><span class=\"w\"></span>\n",
       "<span class=\"w\">        </span><span class=\"p\">}</span><span class=\"w\"></span>\n",
       "</pre></div>\n"
      ],
      "text/latex": [
       "\\begin{Verbatim}[commandchars=\\\\\\{\\}]\n",
       "\\PY{k+kd}{function}\\PY{+w}{ }\\PY{p}{(}\\PY{n+nx}{evt}\\PY{p}{)}\\PY{+w}{ }\\PY{p}{\\PYZob{}}\n",
       "\\PY{+w}{            }\\PY{c+c1}{// Ignore input fields}\n",
       "\\PY{+w}{            }\\PY{k}{if}\\PY{+w}{ }\\PY{p}{(}\\PY{n+nx}{\\PYZdl{}}\\PY{p}{(}\\PY{n+nx}{evt}\\PY{p}{.}\\PY{n+nx}{target}\\PY{p}{)}\\PY{p}{.}\\PY{n+nx}{is}\\PY{p}{(}\\PY{l+s+s1}{\\PYZsq{}input\\PYZsq{}}\\PY{p}{)}\\PY{p}{)}\\PY{+w}{ }\\PY{p}{\\PYZob{}}\n",
       "\\PY{+w}{                }\\PY{k}{return}\\PY{+w}{ }\\PY{k+kc}{true}\\PY{p}{;}\n",
       "\\PY{+w}{            }\\PY{p}{\\PYZcb{}}\n",
       "\n",
       "\\PY{+w}{            }\\PY{k}{if}\\PY{+w}{ }\\PY{p}{(}\\PY{n+nx}{evt}\\PY{p}{.}\\PY{n+nx}{shiftKey}\\PY{+w}{ }\\PY{o}{\\PYZam{}\\PYZam{}}\\PY{+w}{ }\\PY{l+m+mf}{37}\\PY{+w}{ }\\PY{o}{\\PYZlt{}=}\\PY{+w}{ }\\PY{n+nx}{evt}\\PY{p}{.}\\PY{n+nx}{keyCode}\\PY{+w}{ }\\PY{o}{\\PYZam{}\\PYZam{}}\\PY{+w}{ }\\PY{n+nx}{evt}\\PY{p}{.}\\PY{n+nx}{keyCode}\\PY{+w}{ }\\PY{o}{\\PYZlt{}=}\\PY{+w}{ }\\PY{l+m+mf}{40}\\PY{p}{)}\\PY{+w}{ }\\PY{p}{\\PYZob{}}\n",
       "\\PY{+w}{                }\\PY{k+kd}{var}\\PY{+w}{ }\\PY{n+nx}{key}\\PY{+w}{ }\\PY{o}{=}\\PY{+w}{ }\\PY{l+s+s1}{\\PYZsq{}key\\PYZsq{}}\\PY{+w}{ }\\PY{o}{+}\\PY{+w}{ }\\PY{n+nx}{evt}\\PY{p}{.}\\PY{n+nx}{keyCode}\\PY{p}{;}\n",
       "\\PY{+w}{                }\\PY{k+kd}{var}\\PY{+w}{ }\\PY{n+nx}{scrollVals}\\PY{+w}{ }\\PY{o}{=}\\PY{+w}{ }\\PY{p}{\\PYZob{}}\n",
       "\\PY{+w}{                        }\\PY{n+nx}{key38}\\PY{o}{:}\\PY{+w}{ }\\PY{p}{[}\\PY{l+m+mf}{0}\\PY{p}{,}\\PY{+w}{ }\\PY{o}{\\PYZhy{}}\\PY{l+m+mf}{1}\\PY{p}{]}\\PY{p}{,}\n",
       "\\PY{+w}{                        }\\PY{n+nx}{key37}\\PY{o}{:}\\PY{+w}{ }\\PY{p}{[}\\PY{o}{\\PYZhy{}}\\PY{l+m+mf}{1}\\PY{p}{,}\\PY{+w}{ }\\PY{l+m+mf}{0}\\PY{p}{]}\\PY{p}{,}\n",
       "\\PY{+w}{                        }\\PY{n+nx}{key39}\\PY{o}{:}\\PY{+w}{ }\\PY{p}{[}\\PY{l+m+mf}{1}\\PY{p}{,}\\PY{+w}{ }\\PY{l+m+mf}{0}\\PY{p}{]}\\PY{p}{,}\n",
       "\\PY{+w}{                        }\\PY{n+nx}{key40}\\PY{o}{:}\\PY{+w}{ }\\PY{p}{[}\\PY{l+m+mf}{0}\\PY{p}{,}\\PY{+w}{ }\\PY{l+m+mf}{1}\\PY{p}{]}\n",
       "\\PY{+w}{                    }\\PY{p}{\\PYZcb{}}\\PY{p}{;}\n",
       "\n",
       "\\PY{+w}{                }\\PY{n+nb}{window}\\PY{p}{.}\\PY{n+nx}{scrollBy}\\PY{p}{(}\\PY{n+nx}{scrollVals}\\PY{p}{[}\\PY{n+nx}{key}\\PY{p}{]}\\PY{p}{[}\\PY{l+m+mf}{0}\\PY{p}{]}\\PY{p}{,}\\PY{+w}{ }\\PY{n+nx}{scrollVals}\\PY{p}{[}\\PY{n+nx}{key}\\PY{p}{]}\\PY{p}{[}\\PY{l+m+mf}{1}\\PY{p}{]}\\PY{p}{)}\\PY{p}{;}\n",
       "\\PY{+w}{                }\\PY{n+nx}{evt}\\PY{p}{.}\\PY{n+nx}{preventDefault}\\PY{p}{(}\\PY{p}{)}\\PY{p}{;}\n",
       "\\PY{+w}{            }\\PY{p}{\\PYZcb{}}\n",
       "\\PY{+w}{        }\\PY{p}{\\PYZcb{}}\n",
       "\\end{Verbatim}\n"
      ],
      "text/plain": [
       "function (evt) {\n",
       "            // Ignore input fields\n",
       "            if ($(evt.target).is('input')) {\n",
       "                return true;\n",
       "            }\n",
       "\n",
       "            if (evt.shiftKey && 37 <= evt.keyCode && evt.keyCode <= 40) {\n",
       "                var key = 'key' + evt.keyCode;\n",
       "                var scrollVals = {\n",
       "                        key38: [0, -1],\n",
       "                        key37: [-1, 0],\n",
       "                        key39: [1, 0],\n",
       "                        key40: [0, 1]\n",
       "                    };\n",
       "\n",
       "                window.scrollBy(scrollVals[key][0], scrollVals[key][1]);\n",
       "                evt.preventDefault();\n",
       "            }\n",
       "        }"
      ]
     },
     "metadata": {},
     "output_type": "display_data"
    }
   ],
   "source": [
    "print(\"JavaScript examples\")\n",
    "display_code_example(df_train, \"javascript\", 2)"
   ]
  },
  {
   "cell_type": "markdown",
   "metadata": {
    "pycharm": {
     "name": "#%% md\n"
    }
   },
   "source": [
    "## Data processing - feature extraction, etc\n",
    "\n",
    "Let's create a corpus of the text"
   ]
  },
  {
   "cell_type": "markdown",
   "metadata": {
    "pycharm": {
     "name": "#%% md\n"
    }
   },
   "source": [
    "Parameters of the task"
   ]
  },
  {
   "cell_type": "code",
   "execution_count": 18,
   "metadata": {
    "pycharm": {
     "name": "#%%\n"
    }
   },
   "outputs": [],
   "source": [
    "# Task\n",
    "MAX_WORDS = 20\n",
    "MAX_LEN = 40"
   ]
  },
  {
   "cell_type": "markdown",
   "metadata": {
    "pycharm": {
     "name": "#%% md\n"
    }
   },
   "source": [
    "and find all tokents"
   ]
  },
  {
   "cell_type": "code",
   "execution_count": 19,
   "metadata": {
    "pycharm": {
     "name": "#%%\n"
    }
   },
   "outputs": [],
   "source": [
    "if False:\n",
    "    nltk.download(\"punkt\")"
   ]
  },
  {
   "cell_type": "code",
   "execution_count": 20,
   "metadata": {
    "pycharm": {
     "name": "#%%\n"
    }
   },
   "outputs": [
    {
     "data": {
      "application/vnd.jupyter.widget-view+json": {
       "model_id": "4a89690d75c74fdabb8b50c125d9fe3a",
       "version_major": 2,
       "version_minor": 0
      },
      "text/plain": [
       "  0%|          | 0/30000 [00:00<?, ?it/s]"
      ]
     },
     "metadata": {},
     "output_type": "display_data"
    }
   ],
   "source": [
    "tokens = []\n",
    "for row in tqdm(df_train[\"original_string\"]):\n",
    "    tokens.extend(word_tokenize(row))"
   ]
  },
  {
   "cell_type": "code",
   "execution_count": 21,
   "metadata": {},
   "outputs": [
    {
     "name": "stdout",
     "output_type": "stream",
     "text": [
      "Total number of tokens in train dataset: 4313027\n"
     ]
    }
   ],
   "source": [
    "print(f\"Total number of tokens in train dataset: {len(tokens)}\")"
   ]
  },
  {
   "cell_type": "markdown",
   "metadata": {
    "pycharm": {
     "name": "#%% md\n"
    }
   },
   "source": [
    "Now let's keep only numbers and words"
   ]
  },
  {
   "cell_type": "code",
   "execution_count": 22,
   "metadata": {
    "pycharm": {
     "name": "#%%\n"
    }
   },
   "outputs": [
    {
     "name": "stdout",
     "output_type": "stream",
     "text": [
      "Total number of alphanumeric tokens in train dataset: 1556038\n"
     ]
    }
   ],
   "source": [
    "tokens_filtered = [word for word in tokens if word.isalnum()]\n",
    "print(f\"Total number of alphanumeric tokens in train dataset: {len(tokens_filtered)}\")"
   ]
  },
  {
   "cell_type": "markdown",
   "metadata": {
    "pycharm": {
     "name": "#%% md\n"
    }
   },
   "source": [
    "Collect top N words in the corpus"
   ]
  },
  {
   "cell_type": "code",
   "execution_count": 23,
   "metadata": {
    "pycharm": {
     "name": "#%%\n"
    }
   },
   "outputs": [],
   "source": [
    "dist = FreqDist(tokens_filtered)\n",
    "tokens_filtered_top = [pair[0] for pair in dist.most_common(MAX_WORDS - 1)]"
   ]
  },
  {
   "cell_type": "markdown",
   "metadata": {
    "pycharm": {
     "name": "#%% md\n"
    }
   },
   "source": [
    "Let's looks at them"
   ]
  },
  {
   "cell_type": "code",
   "execution_count": 25,
   "metadata": {
    "pycharm": {
     "name": "#%%\n"
    }
   },
   "outputs": [
    {
     "data": {
      "text/plain": [
       "['if',\n",
       " 'return',\n",
       " 'the',\n",
       " '0',\n",
       " 'to',\n",
       " 'function',\n",
       " 'for',\n",
       " 'err',\n",
       " 'in',\n",
       " 'a',\n",
       " 'is',\n",
       " 'nil',\n",
       " 'var',\n",
       " 'new',\n",
       " 'else',\n",
       " '1',\n",
       " 'of',\n",
       " 'not',\n",
       " 'end']"
      ]
     },
     "execution_count": 25,
     "metadata": {},
     "output_type": "execute_result"
    }
   ],
   "source": [
    "tokens_filtered_top"
   ]
  },
  {
   "cell_type": "markdown",
   "metadata": {
    "pycharm": {
     "name": "#%% md\n"
    }
   },
   "source": [
    "Now we are building vocabulary to encode every token using index"
   ]
  },
  {
   "cell_type": "code",
   "execution_count": 27,
   "metadata": {
    "pycharm": {
     "name": "#%%\n"
    }
   },
   "outputs": [],
   "source": [
    "vocabulary = {v: k for k, v in dict(enumerate(tokens_filtered_top, 1)).items()}"
   ]
  },
  {
   "cell_type": "code",
   "execution_count": 28,
   "metadata": {
    "pycharm": {
     "name": "#%%\n"
    }
   },
   "outputs": [],
   "source": [
    "def text_to_sequence(text: str, maxlen: int, vocabulary) -> List[int]:\n",
    "    \"\"\"Represent text as list of word indices\"\"\"\n",
    "    result = []\n",
    "    tokens = word_tokenize(text.lower())\n",
    "    tokens_filtered = [word for word in tokens if word.isalnum()]\n",
    "    for word in tokens_filtered:\n",
    "        if word in vocabulary:\n",
    "            result.append(vocabulary[word])\n",
    "    padding = [0] * (maxlen - len(result))\n",
    "    return padding + result[-maxlen:]"
   ]
  },
  {
   "cell_type": "code",
   "execution_count": 29,
   "metadata": {
    "pycharm": {
     "name": "#%%\n"
    }
   },
   "outputs": [
    {
     "data": {
      "application/vnd.jupyter.widget-view+json": {
       "model_id": "5db1af911d02481aac34d8ed7b5c31ee",
       "version_major": 2,
       "version_minor": 0
      },
      "text/plain": [
       "Processing train...:   0%|          | 0/30000 [00:00<?, ?it/s]"
      ]
     },
     "metadata": {},
     "output_type": "display_data"
    },
    {
     "data": {
      "application/vnd.jupyter.widget-view+json": {
       "model_id": "fe5c93ad00ed4fda81e3777be0b31099",
       "version_major": 2,
       "version_minor": 0
      },
      "text/plain": [
       "Processing test...:   0%|          | 0/30000 [00:00<?, ?it/s]"
      ]
     },
     "metadata": {},
     "output_type": "display_data"
    },
    {
     "data": {
      "application/vnd.jupyter.widget-view+json": {
       "model_id": "ad31fd78a033488ca42edecbdaca8cc3",
       "version_major": 2,
       "version_minor": 0
      },
      "text/plain": [
       "Processing validation...:   0%|          | 0/30000 [00:00<?, ?it/s]"
      ]
     },
     "metadata": {},
     "output_type": "display_data"
    }
   ],
   "source": [
    "x_train = np.array([text_to_sequence(text, MAX_LEN) for text in tqdm(df_train[\"original_string\"], \n",
    "                                                                     desc=\"Processing train...\")], \n",
    "                   dtype=np.int32)\n",
    "x_test = np.array([text_to_sequence(text, MAX_LEN) for text in tqdm(df_test[\"original_string\"],\n",
    "                                                                    desc=\"Processing test...\")], \n",
    "                  dtype=np.int32)\n",
    "x_val = np.array([text_to_sequence(text, MAX_LEN) for text in tqdm(df_val[\"original_string\"],\n",
    "                                                                   desc=\"Processing validation...\")], \n",
    "                 dtype=np.int32)"
   ]
  },
  {
   "cell_type": "code",
   "execution_count": 30,
   "metadata": {
    "pycharm": {
     "name": "#%%\n"
    }
   },
   "outputs": [
    {
     "data": {
      "text/plain": [
       "(30000, 40)"
      ]
     },
     "execution_count": 30,
     "metadata": {},
     "output_type": "execute_result"
    }
   ],
   "source": [
    "x_train.shape"
   ]
  },
  {
   "cell_type": "code",
   "execution_count": 31,
   "metadata": {
    "pycharm": {
     "name": "#%%\n"
    }
   },
   "outputs": [
    {
     "data": {
      "text/plain": [
       "array([[ 0,  0,  0,  0,  0,  0,  0,  0,  0,  0,  0,  0,  0,  0,  0,  0,\n",
       "         0,  0,  0,  0,  0,  0,  0,  0,  0,  0,  0,  0,  0,  0,  0,  0,\n",
       "         0,  0,  0,  6, 13, 11, 18, 10],\n",
       "       [ 0,  0,  0,  0,  0,  0,  0,  0,  0,  0,  0,  0,  0,  0,  0,  0,\n",
       "         0,  0,  0,  0,  0,  0,  0,  0,  0,  0,  0,  0,  0,  0,  0,  0,\n",
       "         0,  0,  0,  0,  0,  0,  0,  2],\n",
       "       [ 0,  0,  0,  0,  0,  0,  0,  0,  0,  0,  0,  0,  0,  0,  0,  0,\n",
       "         0,  0,  0,  0,  0,  0,  0,  0,  0,  0,  0,  0,  0,  0,  0,  0,\n",
       "         0,  2, 12,  1,  1, 15, 19, 19],\n",
       "       [12,  2,  8, 12, 12,  1,  8,  8, 12,  3,  7,  2,  8,  8, 12, 12,\n",
       "         3,  3,  5,  3,  1, 11,  3,  3,  5,  7,  1, 12,  5,  8,  2,  1,\n",
       "         8,  8, 12,  7,  8,  8,  2,  2],\n",
       "       [ 0,  0,  0,  0,  0,  0,  0,  0,  0,  0,  0,  0,  0,  0,  0,  0,\n",
       "         0,  0,  0,  0,  0,  0,  0,  0,  0,  0,  6,  1,  2,  1, 13, 13,\n",
       "         4,  4, 16,  4,  4, 16,  4, 16],\n",
       "       [ 0,  0,  0,  0,  0,  0,  0,  0,  0,  0,  0,  0,  0,  0,  0,  0,\n",
       "         0,  0,  0,  0,  0,  0,  0,  0,  0,  0,  0,  0,  1,  1,  2, 19,\n",
       "         1, 19, 19, 19, 19, 19, 19, 19],\n",
       "       [ 0,  0,  0,  0,  0,  0,  0,  0,  0,  0,  0,  0,  0,  0,  0,  0,\n",
       "         0,  0,  0,  0,  0,  0,  0,  0,  0,  0,  0,  0,  0,  0,  0,  0,\n",
       "         0,  0,  0,  0,  0,  0,  0,  2],\n",
       "       [ 0,  0,  0,  0,  0,  0,  0,  0,  0,  0,  0,  0,  0,  0,  0,  0,\n",
       "         0,  0,  0,  0,  0,  0,  0,  0,  0,  0,  0,  0,  0,  0,  0,  0,\n",
       "         0,  0,  0,  6,  6,  1, 15,  2],\n",
       "       [ 0,  0,  0,  0,  0,  0,  0,  0,  0,  0,  0,  0,  0,  0,  0, 13,\n",
       "         7,  3, 11,  2, 12,  2, 12,  1,  4,  8,  1,  8, 12,  2,  8,  1,\n",
       "         8,  8, 12,  2,  8,  5,  2, 12],\n",
       "       [ 0,  0,  0,  0,  0,  0,  0,  0,  0,  0,  0,  0,  0,  0,  0,  0,\n",
       "         0,  0,  0,  0,  0,  0,  0,  0,  0,  0,  0,  0,  0,  0,  0,  0,\n",
       "         0,  0,  0,  0,  0,  0,  0,  2]], dtype=int32)"
      ]
     },
     "execution_count": 31,
     "metadata": {},
     "output_type": "execute_result"
    }
   ],
   "source": [
    "x_train[:10]"
   ]
  },
  {
   "cell_type": "markdown",
   "metadata": {
    "pycharm": {
     "name": "#%% md\n"
    }
   },
   "source": [
    "Let's prepare class labels"
   ]
  },
  {
   "cell_type": "code",
   "execution_count": 32,
   "metadata": {
    "pycharm": {
     "name": "#%%\n"
    }
   },
   "outputs": [],
   "source": [
    "y_train = label_binarize(df_train[\"language\"], classes=LANGUAGES)\n",
    "y_val = label_binarize(df_val[\"language\"], classes=LANGUAGES)"
   ]
  },
  {
   "cell_type": "code",
   "execution_count": 33,
   "metadata": {
    "pycharm": {
     "name": "#%%\n"
    }
   },
   "outputs": [
    {
     "data": {
      "text/plain": [
       "array([[0, 0, 1, 0, 0, 0],\n",
       "       [0, 0, 0, 0, 0, 1],\n",
       "       [1, 0, 0, 0, 0, 0],\n",
       "       [0, 1, 0, 0, 0, 0],\n",
       "       [0, 0, 1, 0, 0, 0],\n",
       "       [1, 0, 0, 0, 0, 0],\n",
       "       [0, 1, 0, 0, 0, 0],\n",
       "       [0, 0, 1, 0, 0, 0],\n",
       "       [0, 1, 0, 0, 0, 0],\n",
       "       [0, 0, 0, 0, 0, 1]])"
      ]
     },
     "execution_count": 33,
     "metadata": {},
     "output_type": "execute_result"
    }
   ],
   "source": [
    "y_train[:10]"
   ]
  },
  {
   "cell_type": "code",
   "execution_count": 34,
   "metadata": {
    "pycharm": {
     "name": "#%%\n"
    }
   },
   "outputs": [
    {
     "data": {
      "text/plain": [
       "(30000, 6)"
      ]
     },
     "execution_count": 34,
     "metadata": {},
     "output_type": "execute_result"
    }
   ],
   "source": [
    "y_train.shape"
   ]
  },
  {
   "cell_type": "markdown",
   "metadata": {
    "pycharm": {
     "name": "#%% md\n"
    }
   },
   "source": [
    "## CNN & training & evaluation"
   ]
  },
  {
   "cell_type": "code",
   "execution_count": 35,
   "metadata": {},
   "outputs": [],
   "source": [
    "# Training\n",
    "epochs = 10\n",
    "batch_size = 512\n",
    "print_batch_n = 20\n",
    "N_CLASSES = len(LANGUAGES)"
   ]
  },
  {
   "cell_type": "code",
   "execution_count": 36,
   "metadata": {
    "pycharm": {
     "name": "#%%\n"
    }
   },
   "outputs": [],
   "source": [
    "import random\n",
    "import torch\n",
    "import torch.nn as nn\n",
    "\n",
    "\n",
    "seed = 1989\n",
    "\n",
    "random.seed(seed)\n",
    "np.random.seed(seed)\n",
    "torch.manual_seed(seed)\n",
    "torch.cuda.manual_seed(seed)\n",
    "torch.backends.cudnn.deterministic = True"
   ]
  },
  {
   "cell_type": "code",
   "execution_count": 37,
   "metadata": {
    "pycharm": {
     "name": "#%%\n"
    }
   },
   "outputs": [],
   "source": [
    "class Net(nn.Module):\n",
    "    def __init__(self, vocab_size: int = 20, embedding_dim: int = 128, out_channel: int = 128, \n",
    "                 num_classes: int = 1):\n",
    "        super().__init__()\n",
    "        self.embedding = nn.Embedding(vocab_size, embedding_dim)\n",
    "        self.conv = nn.Conv1d(embedding_dim, out_channel, kernel_size=3)\n",
    "        self.relu = nn.ReLU()\n",
    "        self.linear = nn.Linear(out_channel, num_classes)\n",
    "        \n",
    "    def forward(self, x: torch.Tensor):        \n",
    "        output = self.embedding(x)  # B F L\n",
    "        # B - batch, F- filters, L- length \n",
    "        #                       B  F  L         \n",
    "        output = output.permute(0, 2, 1)  # [batch_size, seq_len, emb_size]\n",
    "        output = self.conv(output)  # [batch_size, seq_len, n_kernels]\n",
    "        output = self.relu(output)\n",
    "        output = torch.max(output, axis=2).values # [batch_size, 1, n_kernels]\n",
    "        output = self.linear(output)\n",
    "        \n",
    "        return output"
   ]
  },
  {
   "cell_type": "markdown",
   "metadata": {
    "pycharm": {
     "name": "#%% md\n"
    }
   },
   "source": [
    "## Training"
   ]
  },
  {
   "cell_type": "code",
   "execution_count": 38,
   "metadata": {
    "pycharm": {
     "name": "#%%\n"
    }
   },
   "outputs": [],
   "source": [
    "from torch.utils.data import DataLoader, Dataset\n",
    "\n",
    "class DataWrapper(Dataset):\n",
    "    def __init__(self, data, target=None, transform=None):\n",
    "        self.data = torch.from_numpy(data).long()\n",
    "        if target is not None:\n",
    "            self.target = torch.from_numpy(target).float()\n",
    "        self.transform = transform\n",
    "        \n",
    "    def __getitem__(self, index):\n",
    "        x = self.data[index]\n",
    "        y = self.target[index] if self.target is not None else None\n",
    "        \n",
    "        if self.transform:\n",
    "            x = self.transform(x)\n",
    "            \n",
    "        return x, y\n",
    "    \n",
    "    def __len__(self):\n",
    "        return len(self.data)"
   ]
  },
  {
   "cell_type": "code",
   "execution_count": 39,
   "metadata": {
    "pycharm": {
     "name": "#%%\n"
    }
   },
   "outputs": [
    {
     "name": "stdout",
     "output_type": "stream",
     "text": [
      "Net(\n",
      "  (embedding): Embedding(20, 128)\n",
      "  (conv): Conv1d(128, 128, kernel_size=(3,), stride=(1,))\n",
      "  (relu): ReLU()\n",
      "  (linear): Linear(in_features=128, out_features=6, bias=True)\n",
      ")\n",
      "Number of parameters: 52614\n",
      "Train epoch 1/10\n",
      "Step 0: loss=1.853299856185913\n",
      "Step 20: loss=0.45694583654403687\n",
      "Step 40: loss=0.39226171374320984\n",
      "Train epoch 2/10\n",
      "Step 0: loss=0.374420166015625\n",
      "Step 20: loss=0.4166843295097351\n",
      "Step 40: loss=0.3747692108154297\n",
      "Train epoch 3/10\n",
      "Step 0: loss=0.33860766887664795\n",
      "Step 20: loss=0.35656213760375977\n",
      "Step 40: loss=0.37789976596832275\n",
      "Train epoch 4/10\n",
      "Step 0: loss=0.3534092605113983\n",
      "Step 20: loss=0.35516253113746643\n",
      "Step 40: loss=0.4435844421386719\n",
      "Train epoch 5/10\n",
      "Step 0: loss=0.35153037309646606\n",
      "Step 20: loss=0.33171185851097107\n",
      "Step 40: loss=0.3599262237548828\n",
      "Train epoch 6/10\n",
      "Step 0: loss=0.38076576590538025\n",
      "Step 20: loss=0.3479803204536438\n",
      "Step 40: loss=0.3598201870918274\n",
      "Train epoch 7/10\n",
      "Step 0: loss=0.3972699046134949\n",
      "Step 20: loss=0.3344503939151764\n",
      "Step 40: loss=0.3564488887786865\n",
      "Train epoch 8/10\n",
      "Step 0: loss=0.3325909972190857\n",
      "Step 20: loss=0.3152395784854889\n",
      "Step 40: loss=0.34607595205307007\n",
      "Train epoch 9/10\n",
      "Step 0: loss=0.356356143951416\n",
      "Step 20: loss=0.3447824716567993\n",
      "Step 40: loss=0.28118836879730225\n",
      "Train epoch 10/10\n",
      "Step 0: loss=0.37313392758369446\n",
      "Step 20: loss=0.35410135984420776\n",
      "Step 40: loss=0.42020106315612793\n"
     ]
    }
   ],
   "source": [
    "model = Net(vocab_size=MAX_WORDS, num_classes=N_CLASSES)\n",
    "\n",
    "print(model)\n",
    "print(\"Number of parameters:\", sum([param.nelement() for param in model.parameters()]))\n",
    "\n",
    "model.train()\n",
    "\n",
    "if torch.cuda.is_available():\n",
    "    model = model.cuda()\n",
    "\n",
    "optimizer = torch.optim.Adam(model.parameters(), lr=10e-3)\n",
    "criterion = nn.CrossEntropyLoss()\n",
    "\n",
    "    \n",
    "train_dataset = DataWrapper(x_train, y_train)\n",
    "train_loader = DataLoader(train_dataset, batch_size=batch_size, shuffle=True)\n",
    "\n",
    "val_dataset = DataWrapper(x_val, y_val)\n",
    "val_loader = DataLoader(val_dataset, batch_size=batch_size, shuffle=True)\n",
    "\n",
    "loss_history = []\n",
    "\n",
    "for epoch in range(1, epochs + 1):\n",
    "    print(f\"Train epoch {epoch}/{epochs}\")\n",
    "    for i, (data, target) in enumerate(train_loader):\n",
    "        optimizer.zero_grad()\n",
    "        if torch.cuda.is_available():\n",
    "            data = data.cuda()\n",
    "            target = target.cuda()\n",
    "        \n",
    "        # compute output\n",
    "        output = model(data)\n",
    "        \n",
    "        # compute gradient and do SGD step\n",
    "        loss = criterion(output, target)\n",
    "        loss.backward()\n",
    "        \n",
    "        optimizer.step()\n",
    "        \n",
    "        if i % print_batch_n == 0:\n",
    "            loss = loss.float().item()\n",
    "            print(f\"Step {i}: {loss=}\")\n",
    "            loss_history.append(loss)"
   ]
  },
  {
   "cell_type": "code",
   "execution_count": 40,
   "metadata": {
    "pycharm": {
     "name": "#%%\n"
    }
   },
   "outputs": [
    {
     "data": {
      "text/plain": [
       "[<matplotlib.lines.Line2D at 0x7efba405cb80>]"
      ]
     },
     "execution_count": 40,
     "metadata": {},
     "output_type": "execute_result"
    },
    {
     "data": {
      "image/png": "[encoded data removed]",
      "text/plain": [
       "<Figure size 640x480 with 1 Axes>"
      ]
     },
     "metadata": {},
     "output_type": "display_data"
    }
   ],
   "source": [
    "import matplotlib.pyplot as plt\n",
    "plt.title('Loss history')\n",
    "plt.grid(True)\n",
    "plt.ylabel('Train loss')\n",
    "plt.xlabel('Step')\n",
    "plt.plot(loss_history)"
   ]
  },
  {
   "cell_type": "code",
   "execution_count": 41,
   "metadata": {
    "pycharm": {
     "name": "#%%\n"
    }
   },
   "outputs": [],
   "source": [
    "test_dataset = DataWrapper(x_test)\n",
    "test_loader = DataLoader(test_dataset, batch_size=batch_size, shuffle=True)"
   ]
  },
  {
   "cell_type": "code",
   "execution_count": 42,
   "metadata": {
    "pycharm": {
     "name": "#%%\n"
    }
   },
   "outputs": [],
   "source": [
    "def prepare_pred_gt(model, dataloader):\n",
    "    model.eval()\n",
    "    pred = []\n",
    "    labels = []\n",
    "\n",
    "    for i, (data, target) in enumerate(dataloader):\n",
    "        # compute output\n",
    "        pred.extend(model(data).argmax(-1).tolist())\n",
    "        labels.extend(target.argmax(-1).tolist())\n",
    "    return pred, labels"
   ]
  },
  {
   "cell_type": "code",
   "execution_count": 45,
   "metadata": {},
   "outputs": [],
   "source": [
    "train_pred, train_labels = prepare_pred_gt(model, train_loader)\n",
    "valid_pred, valid_labels = prepare_pred_gt(model, val_loader)\n",
    "# test_pred, test_labels = prepare_pred_gt(model, test_loader)"
   ]
  },
  {
   "cell_type": "code",
   "execution_count": 46,
   "metadata": {
    "pycharm": {
     "name": "#%%\n"
    }
   },
   "outputs": [],
   "source": [
    "def print_metrics(preds, labels):\n",
    "    print(\"Accuracy score:\", accuracy_score(labels, preds))\n",
    "    print(\"Confusion matrix:\")\n",
    "    print(confusion_matrix(labels, preds))"
   ]
  },
  {
   "cell_type": "code",
   "execution_count": 47,
   "metadata": {},
   "outputs": [
    {
     "name": "stdout",
     "output_type": "stream",
     "text": [
      "Accuracy score: 0.8591\n",
      "Confusion matrix:\n",
      "[[4161    0    0    0    0    9]\n",
      " [   3 3749    1    0  162 1142]\n",
      " [   1   10 4050 1151   19   19]\n",
      " [   2    6  855 4234   18   20]\n",
      " [   5   67   13   27 4858  227]\n",
      " [  14  209    7   18  222 4721]]\n"
     ]
    }
   ],
   "source": [
    "print(\"Train report:\")\n",
    "print_metrics(train_pred, train_labels)"
   ]
  },
  {
   "cell_type": "code",
   "execution_count": 48,
   "metadata": {},
   "outputs": [
    {
     "name": "stdout",
     "output_type": "stream",
     "text": [
      "Accuracy score: 0.8011666666666667\n",
      "Confusion matrix:\n",
      "[[ 727    1    0    0    1   10]\n",
      " [   6 2830    5    2  194 1733]\n",
      " [   1    9 2056  633   24    6]\n",
      " [   8    8 1773 7065   24   45]\n",
      " [  39  186   40   56 6923  476]\n",
      " [  33  223   29   79  321 4434]]\n"
     ]
    }
   ],
   "source": [
    "print(\"Validation report:\")\n",
    "print_metrics(valid_pred, valid_labels)"
   ]
  },
  {
   "cell_type": "markdown",
   "metadata": {
    "pycharm": {
     "name": "#%% md\n"
    }
   },
   "source": [
    "### What can be improved?\n",
    "* Based on the previous cell add code to infer your model for a particular input text.\n",
    "* How can we improve quality?"
   ]
  },
  {
   "cell_type": "markdown",
   "metadata": {
    "pycharm": {
     "name": "#%%\n"
    }
   },
   "source": [
    "Ideas:\n",
    "* Increase MAX_WORDS\n",
    "* Increase MAX_LEN\n",
    "* Tokenization - keep all tokens not only alphanumeric\n",
    "* Do not make lower case"
   ]
  },
  {
   "cell_type": "code",
   "execution_count": 52,
   "metadata": {},
   "outputs": [
    {
     "data": {
      "text/plain": [
       "count    30000.000000\n",
       "mean       124.309533\n",
       "std        194.320010\n",
       "min         18.000000\n",
       "25%         45.000000\n",
       "50%         73.000000\n",
       "75%        136.000000\n",
       "max      11907.000000\n",
       "Name: code_tokens, dtype: float64"
      ]
     },
     "execution_count": 52,
     "metadata": {},
     "output_type": "execute_result"
    }
   ],
   "source": [
    "df_train[\"code_tokens\"].apply(lambda p: len(p)).describe()"
   ]
  },
  {
   "cell_type": "code",
   "execution_count": 56,
   "metadata": {},
   "outputs": [],
   "source": [
    "MAX_WORDS = 160\n",
    "MAX_LEN = 160"
   ]
  },
  {
   "cell_type": "code",
   "execution_count": 57,
   "metadata": {
    "scrolled": true
   },
   "outputs": [
    {
     "name": "stdout",
     "output_type": "stream",
     "text": [
      "Number of code tokens 3729286\n",
      "Most common tokens:\n",
      "(\n",
      ")\n",
      ".\n",
      ",\n",
      "=\n",
      ";\n",
      "$\n",
      "}\n",
      "{\n",
      "]\n",
      "[\n",
      ":\n",
      "if\n",
      "return\n",
      "\n",
      "\n",
      "->\n",
      "this\n",
      "\"\n",
      "self\n",
      "0\n",
      "*\n",
      "err\n",
      "function\n",
      "+\n",
      "nil\n",
      "1\n",
      "new\n",
      ":=\n",
      "i\n",
      "var\n",
      "else\n",
      "==\n",
      "end\n",
      "def\n",
      "::\n",
      "!\n",
      "name\n",
      "null\n",
      "!=\n",
      "\n",
      "\n",
      "\n",
      "for\n",
      "<\n",
      "=>\n",
      "in\n",
      "&&\n",
      "public\n",
      ">\n",
      "options\n",
      "-\n",
      "value\n",
      "data\n",
      "func\n",
      "None\n",
      "||\n",
      "case\n",
      "false\n",
      "true\n",
      "key\n",
      "===\n",
      "|\n",
      "String\n",
      "result\n",
      "e\n",
      "error\n",
      "path\n",
      "string\n",
      "s\n",
      "length\n",
      "?\n",
      "int\n",
      "/\n",
      "c\n",
      "&\n",
      "id\n",
      "not\n",
      "get\n",
      "len\n",
      "array\n",
      "ret\n",
      "2\n",
      "config\n",
      "params\n",
      "args\n",
      "throw\n",
      "\\\n",
      "type\n",
      "append\n",
      "x\n",
      "context\n",
      "p\n",
      "format\n",
      "+=\n",
      "''\n",
      "_\n",
      "node\n",
      "try\n",
      "static\n",
      "out\n",
      "raise\n",
      "final\n",
      "r\n",
      "ctx\n",
      "++\n",
      "const\n",
      "v\n",
      "request\n",
      "response\n",
      "!==\n",
      "is\n",
      "b\n",
      "as\n",
      "opts\n",
      "log\n",
      "break\n",
      "index\n",
      "m\n",
      "range\n",
      "t\n",
      "a\n",
      "False\n",
      "k\n",
      "do\n",
      "fmt\n",
      "map\n",
      "url\n",
      "and\n",
      "n\n",
      "d\n",
      "@\n",
      "obj\n",
      "kwargs\n",
      "True\n",
      "void\n",
      "f\n",
      "state\n",
      "os\n",
      "item\n",
      "foreach\n",
      "message\n",
      "j\n",
      "val\n",
      "logger\n",
      "join\n",
      "class\n",
      "str\n",
      "size\n",
      "file\n",
      "catch\n",
      "y\n",
      "time\n",
      "info\n",
      "ok\n",
      "add\n",
      "Errorf\n",
      "list\n",
      "continue\n",
      "query\n",
      "res\n",
      "push\n"
     ]
    }
   ],
   "source": [
    "code_tokens = []\n",
    "for row in df_train[\"code_tokens\"]:\n",
    "    code_tokens.extend(row)\n",
    "print(\"Number of code tokens\", len(code_tokens))\n",
    "dist = FreqDist(code_tokens)\n",
    "tokens_filtered_top = [pair[0] for pair in dist.most_common(MAX_WORDS - 1)]\n",
    "print(\"Most common tokens:\")\n",
    "print(\"\\n\".join(tokens_filtered_top))"
   ]
  },
  {
   "cell_type": "code",
   "execution_count": 72,
   "metadata": {},
   "outputs": [],
   "source": [
    "vocabulary = {v: k for k, v in dict(enumerate(tokens_filtered_top, 1)).items()}\n",
    "\n",
    "def text_to_sequence(text: str, maxlen: int, vocabulary) -> List[int]:\n",
    "    \"\"\"Represent text as list of word indices\"\"\"\n",
    "    result = []\n",
    "    tokens = word_tokenize(text)\n",
    "    for word in tokens:\n",
    "        if word in vocabulary:\n",
    "            result.append(vocabulary[word])\n",
    "    padding = [0] * (maxlen - len(result))\n",
    "    return result[:maxlen] + padding"
   ]
  },
  {
   "cell_type": "code",
   "execution_count": 73,
   "metadata": {},
   "outputs": [
    {
     "data": {
      "application/vnd.jupyter.widget-view+json": {
       "model_id": "261312b850cf415a9e7f1c41db4fe81b",
       "version_major": 2,
       "version_minor": 0
      },
      "text/plain": [
       "Processing train...:   0%|          | 0/30000 [00:00<?, ?it/s]"
      ]
     },
     "metadata": {},
     "output_type": "display_data"
    },
    {
     "data": {
      "application/vnd.jupyter.widget-view+json": {
       "model_id": "2b1567291dd94717bfecd6beb781f21f",
       "version_major": 2,
       "version_minor": 0
      },
      "text/plain": [
       "Processing test...:   0%|          | 0/30000 [00:00<?, ?it/s]"
      ]
     },
     "metadata": {},
     "output_type": "display_data"
    },
    {
     "data": {
      "application/vnd.jupyter.widget-view+json": {
       "model_id": "1e3ea3f69c3a4289b8c06ca3645db6c5",
       "version_major": 2,
       "version_minor": 0
      },
      "text/plain": [
       "Processing validation...:   0%|          | 0/30000 [00:00<?, ?it/s]"
      ]
     },
     "metadata": {},
     "output_type": "display_data"
    }
   ],
   "source": [
    "x_train = np.array([text_to_sequence(text, MAX_LEN, vocabulary) for text in tqdm(df_train[\"original_string\"], \n",
    "                                                                     desc=\"Processing train...\")], \n",
    "                   dtype=np.int32)\n",
    "x_test = np.array([text_to_sequence(text, MAX_LEN, vocabulary) for text in tqdm(df_test[\"original_string\"],\n",
    "                                                                    desc=\"Processing test...\")], \n",
    "                  dtype=np.int32)\n",
    "x_val = np.array([text_to_sequence(text, MAX_LEN, vocabulary) for text in tqdm(df_val[\"original_string\"],\n",
    "                                                                   desc=\"Processing validation...\")], \n",
    "                 dtype=np.int32)"
   ]
  },
  {
   "cell_type": "code",
   "execution_count": 74,
   "metadata": {},
   "outputs": [
    {
     "data": {
      "text/plain": [
       "(30000, 160)"
      ]
     },
     "execution_count": 74,
     "metadata": {},
     "output_type": "execute_result"
    }
   ],
   "source": [
    "x_train.shape"
   ]
  },
  {
   "cell_type": "code",
   "execution_count": 75,
   "metadata": {},
   "outputs": [
    {
     "data": {
      "text/plain": [
       "array([[ 23,   1,   4, ...,   0,   0,   0],\n",
       "       [ 46,  97,   1, ...,   0,   0,   0],\n",
       "       [ 34,  14,  25, ...,   0,   0,   0],\n",
       "       ...,\n",
       "       [ 23,   1,   2, ...,   0,   0,   0],\n",
       "       [ 52,   1,  67, ...,   0,   0,   0],\n",
       "       [129,  46,   1, ...,   0,   0,   0]], dtype=int32)"
      ]
     },
     "execution_count": 75,
     "metadata": {},
     "output_type": "execute_result"
    }
   ],
   "source": [
    "x_train[:10]"
   ]
  },
  {
   "cell_type": "code",
   "execution_count": 76,
   "metadata": {},
   "outputs": [
    {
     "name": "stdout",
     "output_type": "stream",
     "text": [
      "Net(\n",
      "  (embedding): Embedding(160, 128)\n",
      "  (conv): Conv1d(128, 128, kernel_size=(3,), stride=(1,))\n",
      "  (relu): ReLU()\n",
      "  (linear): Linear(in_features=128, out_features=6, bias=True)\n",
      ")\n",
      "Number of parameters: 70534\n",
      "Train epoch 1/10\n",
      "Step 0: loss=2.070568323135376\n",
      "Step 20: loss=0.016902582719922066\n",
      "Step 40: loss=0.01334077212959528\n",
      "Train epoch 2/10\n",
      "Step 0: loss=0.01021402794867754\n",
      "Step 20: loss=0.005280562210828066\n",
      "Step 40: loss=0.0009608141263015568\n",
      "Train epoch 3/10\n",
      "Step 0: loss=0.0009437274420633912\n",
      "Step 20: loss=0.0005775713361799717\n",
      "Step 40: loss=0.0006676899502053857\n",
      "Train epoch 4/10\n",
      "Step 0: loss=0.001070017577148974\n",
      "Step 20: loss=0.000497232424095273\n",
      "Step 40: loss=0.0011325253872200847\n",
      "Train epoch 5/10\n",
      "Step 0: loss=0.00028872204711660743\n",
      "Step 20: loss=0.001020621508359909\n",
      "Step 40: loss=0.0006785382283851504\n",
      "Train epoch 6/10\n",
      "Step 0: loss=0.0007587990839965641\n",
      "Step 20: loss=0.00020382856018841267\n",
      "Step 40: loss=0.0005834524054080248\n",
      "Train epoch 7/10\n",
      "Step 0: loss=6.426809704862535e-05\n",
      "Step 20: loss=0.0003104702045675367\n",
      "Step 40: loss=0.00012149651593063027\n",
      "Train epoch 8/10\n",
      "Step 0: loss=0.0002781192888505757\n",
      "Step 20: loss=0.00022643136617261916\n",
      "Step 40: loss=7.623068813700229e-05\n",
      "Train epoch 9/10\n",
      "Step 0: loss=0.0002399281074758619\n",
      "Step 20: loss=0.00015635132149327546\n",
      "Step 40: loss=0.00019904470536857843\n",
      "Train epoch 10/10\n",
      "Step 0: loss=8.14711456769146e-05\n",
      "Step 20: loss=0.0002067498571705073\n",
      "Step 40: loss=0.00018376889056526124\n"
     ]
    }
   ],
   "source": [
    "model = Net(vocab_size=MAX_WORDS, num_classes=N_CLASSES)\n",
    "\n",
    "print(model)\n",
    "print(\"Number of parameters:\", sum([param.nelement() for param in model.parameters()]))\n",
    "\n",
    "model.train()\n",
    "\n",
    "if torch.cuda.is_available():\n",
    "    model = model.cuda()\n",
    "\n",
    "optimizer = torch.optim.Adam(model.parameters(), lr=10e-3)\n",
    "criterion = nn.CrossEntropyLoss()\n",
    "\n",
    "    \n",
    "train_dataset = DataWrapper(x_train, y_train)\n",
    "train_loader = DataLoader(train_dataset, batch_size=batch_size, shuffle=True)\n",
    "\n",
    "val_dataset = DataWrapper(x_val, y_val)\n",
    "val_loader = DataLoader(val_dataset, batch_size=batch_size, shuffle=True)\n",
    "\n",
    "loss_history = []\n",
    "\n",
    "for epoch in range(1, epochs + 1):\n",
    "    print(f\"Train epoch {epoch}/{epochs}\")\n",
    "    for i, (data, target) in enumerate(train_loader):\n",
    "        optimizer.zero_grad()\n",
    "        if torch.cuda.is_available():\n",
    "            data = data.cuda()\n",
    "            target = target.cuda()\n",
    "        \n",
    "        # compute output\n",
    "        output = model(data)\n",
    "        \n",
    "        # compute gradient and do SGD step\n",
    "        loss = criterion(output, target)\n",
    "        loss.backward()\n",
    "        \n",
    "        optimizer.step()\n",
    "        \n",
    "        if i % print_batch_n == 0:\n",
    "            loss = loss.float().item()\n",
    "            print(f\"Step {i}: {loss=}\")\n",
    "            loss_history.append(loss)"
   ]
  },
  {
   "cell_type": "code",
   "execution_count": 77,
   "metadata": {},
   "outputs": [
    {
     "data": {
      "text/plain": [
       "[<matplotlib.lines.Line2D at 0x7efb97b99bb0>]"
      ]
     },
     "execution_count": 77,
     "metadata": {},
     "output_type": "execute_result"
    },
    {
     "data": {
      "image/png": "[encoded data removed]",
      "text/plain": [
       "<Figure size 640x480 with 1 Axes>"
      ]
     },
     "metadata": {},
     "output_type": "display_data"
    }
   ],
   "source": [
    "import matplotlib.pyplot as plt\n",
    "plt.title('Loss history')\n",
    "plt.grid(True)\n",
    "plt.ylabel('Train loss')\n",
    "plt.xlabel('Step')\n",
    "plt.plot(loss_history)"
   ]
  },
  {
   "cell_type": "code",
   "execution_count": 78,
   "metadata": {},
   "outputs": [
    {
     "name": "stdout",
     "output_type": "stream",
     "text": [
      "Train report:\n",
      "Accuracy score: 1.0\n",
      "Confusion matrix:\n",
      "[[4170    0    0    0    0    0]\n",
      " [   0 5057    0    0    0    0]\n",
      " [   0    0 5250    0    0    0]\n",
      " [   0    0    0 5135    0    0]\n",
      " [   0    0    0    0 5197    0]\n",
      " [   0    0    0    0    0 5191]]\n",
      "Validation report:\n",
      "Accuracy score: 0.9992666666666666\n",
      "Confusion matrix:\n",
      "[[ 739    0    0    0    0    0]\n",
      " [   0 4770    0    0    0    0]\n",
      " [   0    0 2727    2    0    0]\n",
      " [   0    0   10 8913    0    0]\n",
      " [   4    0    1    0 7715    0]\n",
      " [   0    0    4    1    0 5114]]\n"
     ]
    }
   ],
   "source": [
    "train_pred, train_labels = prepare_pred_gt(model, train_loader)\n",
    "valid_pred, valid_labels = prepare_pred_gt(model, val_loader)\n",
    "\n",
    "print(\"Train report:\")\n",
    "print_metrics(train_pred, train_labels)\n",
    "\n",
    "print(\"Validation report:\")\n",
    "print_metrics(valid_pred, valid_labels)"
   ]
  },
  {
   "cell_type": "code",
   "execution_count": 70,
   "metadata": {},
   "outputs": [
    {
     "data": {
      "text/plain": [
       "['javascript', 'php']"
      ]
     },
     "execution_count": 70,
     "metadata": {},
     "output_type": "execute_result"
    }
   ],
   "source": [
    "LANGUAGES[2:4]"
   ]
  },
  {
   "cell_type": "code",
   "execution_count": 71,
   "metadata": {},
   "outputs": [
    {
     "data": {
      "text/plain": [
       "('ruby', 'python')"
      ]
     },
     "execution_count": 71,
     "metadata": {},
     "output_type": "execute_result"
    }
   ],
   "source": [
    "LANGUAGES[0], LANGUAGES[4]"
   ]
  }
 ],
 "metadata": {
  "kernelspec": {
   "display_name": "Python 3 (ipykernel)",
   "language": "python",
   "name": "python3"
  },
  "language_info": {
   "codemirror_mode": {
    "name": "ipython",
    "version": 3
   },
   "file_extension": ".py",
   "mimetype": "text/x-python",
   "name": "python",
   "nbconvert_exporter": "python",
   "pygments_lexer": "ipython3",
   "version": "3.8.10"
  }
 },
 "nbformat": 4,
 "nbformat_minor": 4
}
