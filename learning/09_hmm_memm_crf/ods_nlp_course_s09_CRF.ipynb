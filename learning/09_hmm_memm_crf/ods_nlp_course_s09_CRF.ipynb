{
  "nbformat": 4,
  "nbformat_minor": 0,
  "metadata": {
    "colab": {
      "provenance": []
    },
    "kernelspec": {
      "name": "python3",
      "display_name": "Python 3"
    },
    "language_info": {
      "name": "python"
    }
  },
  "cells": [
    {
      "cell_type": "markdown",
      "metadata": {
        "id": "lRC5Mk7DS7il"
      },
      "source": [
        "# BiLSTM et CRF [(взято отсюда)](https://github.com/aminaghoul/NER-PyTorch?tab=readme-ov-file)\n",
        "\n",
        "Dans ce notebook nous nous utilisons les champs aléatoires conditionnels (conditional random fields ou CRFs) qui sont généralement utilisés pour le named entityy recognition dans le but de prédire des séquences valides.\n",
        "Par exemple, on ne devrait pas avoir de `B-PER` suivi directement par un autre `B-PER`.\n",
        "Pour l'implémentation CRF, on utilisera le package [pytorch-crf](https://github.com/kmkurn/pytorch-crf)."
      ]
    },
    {
      "cell_type": "code",
      "source": [
        "%pip install -q torchtext==0.6.0\n",
        "%pip install -q pytorch-crf"
      ],
      "metadata": {
        "id": "FZ7KdEYMXqTP"
      },
      "execution_count": null,
      "outputs": []
    },
    {
      "cell_type": "code",
      "source": [
        "!git clone https://github.com/aminaghoul/NER-PyTorch.git"
      ],
      "metadata": {
        "colab": {
          "base_uri": "https://localhost:8080/"
        },
        "id": "HDTnd9P1YKi6",
        "outputId": "0c3684d6-b79c-4640-c705-b632f1861730"
      },
      "execution_count": null,
      "outputs": [
        {
          "output_type": "stream",
          "name": "stdout",
          "text": [
            "fatal: destination path 'NER-PyTorch' already exists and is not an empty directory.\n"
          ]
        }
      ]
    },
    {
      "cell_type": "code",
      "execution_count": null,
      "metadata": {
        "id": "s7pqLoSXKbh6"
      },
      "outputs": [],
      "source": [
        "#!pip install torchtext==0.6.0\n",
        "#!pip install pytorch-crf\n",
        "\n",
        "import time\n",
        "import torch\n",
        "from torch import nn\n",
        "from torch.optim import Adam\n",
        "# from torchtext.data import Field, NestedField, BucketIterator\n",
        "# from torchtext.datasets import SequenceTaggingDataset\n",
        "# from torchtext.vocab import Vocab\n",
        "from collections import Counter\n",
        "\n",
        "import torch\n",
        "import torch.nn as nn\n",
        "import torch.optim as optim\n",
        "\n",
        "from torchtext import data\n",
        "# from torchtext import datasets\n",
        "\n",
        "import spacy\n",
        "from torchcrf import CRF\n",
        "import numpy as np\n",
        "import pandas as pd\n",
        "\n",
        "import time\n",
        "import random\n",
        "import string\n",
        "from itertools import chain"
      ]
    },
    {
      "cell_type": "markdown",
      "metadata": {
        "id": "k4LF_qyLKvfK"
      },
      "source": [
        "# Préparation des données"
      ]
    },
    {
      "cell_type": "code",
      "execution_count": null,
      "metadata": {
        "id": "JAamZSXiKnJl"
      },
      "outputs": [],
      "source": [
        "# pour la reproductibilité\n",
        "SEED = 1234\n",
        "\n",
        "random.seed(SEED)\n",
        "np.random.seed(SEED)\n",
        "torch.manual_seed(SEED)\n",
        "torch.backends.cudnn.deterministic = True\n",
        "\n",
        "TEXT = data.Field(lower = False)\n",
        "TAG = data.Field(unk_token = None) # les tags sont tous connus on a alors unk_token = None\n",
        "\n",
        "my_path = \"NER-PyTorch/data/\"\n",
        "train_data, valid_data, test_data = data.TabularDataset.splits(\n",
        "        path= my_path ,\n",
        "        train=\"train.csv\",\n",
        "        validation=\"valid.csv\",\n",
        "        test=\"test.csv\", format='csv', skip_header=True,\n",
        "        fields=((\"text\", TEXT), (\"tag\", TAG))\n",
        "    )\n",
        "MIN_FREQ = 0\n",
        "\n",
        "TEXT.build_vocab(train_data,\n",
        "                 min_freq = MIN_FREQ, # les mots qui apparaissent moins que MIN_FREQ fois seront ignorés du vocabulaire\n",
        "                 vectors = \"glove.6B.100d\",\n",
        "                 unk_init = torch.Tensor.normal_)\n",
        "\n",
        "\n",
        "TAG.build_vocab(train_data)\n",
        "BATCH_SIZE = 16\n",
        "\n",
        "device = torch.device('cuda' if torch.cuda.is_available() else 'cpu')\n",
        "#device = 'cpu'\n",
        "train_iterator, valid_iterator, test_iterator = data.BucketIterator.splits(\n",
        "    (train_data, valid_data, test_data),\n",
        "    batch_size = BATCH_SIZE,\n",
        "    device = device, sort=False)\n",
        "\n",
        "# padding index\n",
        "TEXT_PAD_IDX = TEXT.vocab.stoi[TEXT.pad_token]\n",
        "TAG_PAD_IDX = TAG.vocab.stoi[TAG.pad_token]"
      ]
    },
    {
      "cell_type": "markdown",
      "metadata": {
        "id": "qXY-SyrWKx4u"
      },
      "source": [
        "# Construire le modèle\n",
        "\n",
        "Pour la classe de modèle, il existe trois mises à jour principales:\n",
        "\n",
        "1. préparez la couche CRF lors de l'initialisation. Nous devons spécifier le nombre de tags possibles dans le text.\n",
        "2. inclure la logique de la couche CRF dans la séquence `forward ()`. Il y a un changement majeur dans le `forward ()` en raison de l'implémentation du package `pytorch-crf`. Jusqu'à présent, nous effectuons séparément la propagation forward et le calcul des pertes. Désormais, le calcul des pertes est intégré à la propagation forward.\n",
        "3. initialisez toutes les transitions impossibles avec un nombre vraiment bas (-100) dans la fonction `init_crf_transitions`. C'est là que nous imposons la logique de séquence BIO au modèle."
      ]
    },
    {
      "cell_type": "code",
      "execution_count": null,
      "metadata": {
        "id": "PW8shLquKyr-"
      },
      "outputs": [],
      "source": [
        "class BiLSTM(nn.Module):\n",
        "\n",
        "    def __init__(self,\n",
        "                 input_dim,\n",
        "                 embedding_dim,\n",
        "                 hidden_dim,\n",
        "                 output_dim,\n",
        "                 lstm_layers,\n",
        "                 emb_dropout,\n",
        "                 lstm_dropout,\n",
        "                 fc_dropout,\n",
        "                 word_pad_idx,\n",
        "                 tag_pad_idx):\n",
        "        super().__init__()\n",
        "\n",
        "        # LAYER 1: Word Embedding\n",
        "        self.embedding_dim = embedding_dim\n",
        "        self.embedding = nn.Embedding(\n",
        "            num_embeddings=input_dim,\n",
        "            embedding_dim=embedding_dim,\n",
        "            padding_idx=word_pad_idx\n",
        "        )\n",
        "        self.emb_dropout = nn.Dropout(emb_dropout)\n",
        "\n",
        "\n",
        "        # LAYER 2: BiLSTM\n",
        "        self.lstm = nn.LSTM(\n",
        "            input_size=embedding_dim,\n",
        "            hidden_size=hidden_dim,\n",
        "            num_layers=lstm_layers,\n",
        "            bidirectional=True,\n",
        "            dropout=lstm_dropout if lstm_layers > 1 else 0\n",
        "        )\n",
        "\n",
        "        # LAYER 3: Fully-connected\n",
        "        self.fc_dropout = nn.Dropout(fc_dropout)\n",
        "        self.fc = nn.Linear(hidden_dim * 2, output_dim)\n",
        "        # LAYER 4: CRF\n",
        "\n",
        "        self.tag_pad_idx = tag_pad_idx\n",
        "        self.crf = CRF(num_tags=output_dim)\n",
        "\n",
        "        # init poids avec distribution normale\n",
        "        for name, param in self.named_parameters():\n",
        "            nn.init.normal_(param.data, mean=0, std=0.1)\n",
        "\n",
        "    def forward(self, words, tags=None):\n",
        "\n",
        "        # words = [sentence length, batch size]\n",
        "        # chars = [batch size, sentence length, word length)\n",
        "        # tags = [sentence length, batch size]\n",
        "\n",
        "        # embedding_out = [sentence length, batch size, embedding dim]\n",
        "        embedding_out = self.emb_dropout(self.embedding(words))\n",
        "\n",
        "        # lstm_out = [sentence length, batch size, hidden dim * 2]\n",
        "        lstm_out, _ = self.lstm(embedding_out)\n",
        "\n",
        "        # fc_out = [sentence length, batch size, output dim]\n",
        "        fc_out = self.fc(self.fc_dropout(lstm_out))\n",
        "\n",
        "        if tags is not None:\n",
        "            mask = tags != self.tag_pad_idx\n",
        "            crf_out = self.crf.decode(fc_out, mask=mask)\n",
        "            crf_loss = -self.crf(fc_out, tags=tags, mask=mask)\n",
        "        else:\n",
        "            crf_out = self.crf.decode(fc_out)\n",
        "            crf_loss = None\n",
        "\n",
        "        return crf_out , crf_loss\n",
        "\n",
        "\n",
        "\n",
        "    def init_crf_transitions(self, tag_names, imp_value=-100):\n",
        "        num_tags = len(tag_names)\n",
        "        for i in range(num_tags):\n",
        "            tag_name = tag_names[i]\n",
        "            # I and <pad> impossible au début\n",
        "            if tag_name[0] == \"I\" or tag_name == \"<pad>\":\n",
        "                torch.nn.init.constant_(self.crf.start_transitions[i], imp_value)\n",
        "        # transition impossible O - I\n",
        "        tag_is = {}\n",
        "        for tag_position in (\"B\", \"I\", \"O\"):\n",
        "            tag_is[tag_position] = [i for i, tag in enumerate(tag_names) if tag[0] == tag_position]\n",
        "        impossible_transitions_position = {\n",
        "            \"O\": \"I\"\n",
        "\n",
        "        }\n",
        "        for from_tag, to_tag_list in impossible_transitions_position.items():\n",
        "            to_tags = list(to_tag_list)\n",
        "\n",
        "            for from_tag_i in tag_is[from_tag]:\n",
        "                for to_tag in to_tags:\n",
        "                    for to_tag_i in tag_is[to_tag]:\n",
        "\n",
        "                        torch.nn.init.constant_(\n",
        "                            self.crf.transitions[from_tag_i, to_tag_i], imp_value\n",
        "                        )\n",
        "        # transitions impossibles entre différents types\n",
        "        impossible_transitions_tags = {\n",
        "            \"B\": \"I\",\n",
        "            \"I\": \"I\"\n",
        "        }\n",
        "        for from_tag, to_tag_list in impossible_transitions_tags.items():\n",
        "            to_tags = list(to_tag_list)\n",
        "            for from_tag_i in tag_is[from_tag]:\n",
        "                for to_tag in to_tags:\n",
        "                    for to_tag_i in tag_is[to_tag]:\n",
        "                        if tag_names[from_tag_i].split(\"-\")[1] != tag_names[to_tag_i].split(\"-\")[1]:\n",
        "                            torch.nn.init.constant_(\n",
        "                                self.crf.transitions[from_tag_i, to_tag_i], imp_value\n",
        "                            )\n",
        "\n",
        "    def count_parameters(self):\n",
        "        return sum(p.numel() for p in self.parameters() if p.requires_grad)"
      ]
    },
    {
      "cell_type": "code",
      "execution_count": null,
      "metadata": {
        "colab": {
          "base_uri": "https://localhost:8080/"
        },
        "id": "Zb03iYctNAUM",
        "outputId": "933b9134-9598-44ca-cafa-73464b7030df"
      },
      "outputs": [
        {
          "output_type": "stream",
          "name": "stdout",
          "text": [
            "Le modèle a 3,101,034 paramètres à entraîner.\n"
          ]
        }
      ],
      "source": [
        "embedding_dim=100\n",
        "tag_pad_idx=TAG_PAD_IDX\n",
        "model = BiLSTM(\n",
        "    input_dim=len(TEXT.vocab),\n",
        "    embedding_dim=100,\n",
        "    hidden_dim=256,\n",
        "    output_dim=len(TAG.vocab),\n",
        "    lstm_layers=1,\n",
        "    emb_dropout=0.1,\n",
        "    lstm_dropout=0.1,\n",
        "    fc_dropout=0.1,\n",
        "    word_pad_idx=TEXT_PAD_IDX,\n",
        "    tag_pad_idx=TAG_PAD_IDX\n",
        ")\n",
        "def init_weights(m):\n",
        "    for name, param in m.named_parameters():\n",
        "        nn.init.normal_(param.data, mean = 0, std = 0.1)\n",
        "\n",
        "model.apply(init_weights)\n",
        "\n",
        "pretrained_embeddings = TEXT.vocab.vectors\n",
        "model.embedding.weight.data.copy_(pretrained_embeddings)\n",
        "model.embedding.weight.data[tag_pad_idx] = torch.zeros(embedding_dim)\n",
        "\n",
        "\n",
        "# CRF transitions initialisation\n",
        "model.init_crf_transitions(\n",
        "    tag_names=TAG.vocab.itos\n",
        ")\n",
        "print(f\"Le modèle a {model.count_parameters():,} paramètres à entraîner.\")"
      ]
    },
    {
      "cell_type": "markdown",
      "metadata": {
        "id": "lGsjeyHlyWhx"
      },
      "source": [
        "Nous pouvons accéder à la matrice de transition et nous assurer que l'initialisation est effectuée comme prévu :"
      ]
    },
    {
      "cell_type": "code",
      "execution_count": null,
      "metadata": {
        "colab": {
          "base_uri": "https://localhost:8080/"
        },
        "id": "Wfe5T7dlrS2j",
        "outputId": "e9afb59c-aa8f-4ee1-9aaa-fb90f2d0673f"
      },
      "outputs": [
        {
          "output_type": "stream",
          "name": "stdout",
          "text": [
            "Start and end tag transitions:\n",
            "TAG   \tSTART\tEND\n",
            "<pad> \t-100.0\t0.02\n",
            "O     \t-0.1\t0.09\n",
            "B-LOC \t-0.05\t-0.05\n",
            "B-PER \t0.22\t-0.16\n",
            "B-ORG \t0.1\t-0.0\n",
            "I-PER \t-100.0\t0.08\n",
            "I-ORG \t-100.0\t-0.11\n",
            "B-MISC\t-0.12\t-0.06\n",
            "I-LOC \t-100.0\t-0.22\n",
            "I-MISC\t-100.0\t-0.14\n",
            "\n",
            "Between tags transitions:\n",
            "   TO\tO    \tB-PER\tI-PER\n",
            "FROM\n",
            "O    \t0.19 \t-0.16\t-100.0\n",
            "B-PER\t-0.07\t0.02 \t-0.1 \n",
            "I-PER\t-0.09\t-0.04\t0.08 \n"
          ]
        }
      ],
      "source": [
        "def print_crf_transitions(c, m):\n",
        "    tags = TAG.vocab.itos\n",
        "    max_len_tag = max([len(tag) for tag in tags])\n",
        "    print(\"Start and end tag transitions:\")\n",
        "    print(f\"{'TAG'.ljust(max_len_tag)}\\tSTART\\tEND\")\n",
        "    for tag, start_prob, end_prob in zip(tags, m.crf.start_transitions.tolist(), m.crf.end_transitions.tolist()):\n",
        "        print(f\"{tag.ljust(max_len_tag)}\\t{round(start_prob, 2)}\\t{round(end_prob, 2)}\")\n",
        "    print()\n",
        "    print(\"Between tags transitions:\")\n",
        "    persons_i = [i for i, tag in enumerate(TAG.vocab.itos) if \"PER\" in tag or tag == \"O\"]\n",
        "    max_len_tag = max([len(tag) for tag in TAG.vocab.itos if \"PER\" in tag ])\n",
        "    transitions = m.crf.transitions\n",
        "    to_tags = \"TO\".rjust(max_len_tag) + \"\\t\" + \"\\t\".join([tag.ljust(max_len_tag) for tag in tags if \"PER\" in tag or tag == \"O\"])\n",
        "    print(to_tags)\n",
        "    print(\"FROM\")\n",
        "    for from_tag_i, from_tag_probs in enumerate(transitions[persons_i]):\n",
        "        to_tag_str = f\"{tags[persons_i[from_tag_i]].ljust(max_len_tag)}\"\n",
        "        for to_tag_prob in from_tag_probs[persons_i]:\n",
        "            to_tag_str += f\"\\t{str(round(to_tag_prob.item(), 2)).ljust(max_len_tag)}\"\n",
        "        print(to_tag_str)\n",
        "\n",
        "print_crf_transitions(TEXT, model)"
      ]
    },
    {
      "cell_type": "markdown",
      "metadata": {
        "id": "5lWbTw3yMiyr"
      },
      "source": [
        "# Entraînement\n",
        "\n",
        "Les sorties du modèle sont deux listes : les prédictions et les pertes.\n",
        "On prend en considération ces changements en modifiant la fonction qui calcule l'accuracy.\n",
        "\n",
        " - Optimiseur"
      ]
    },
    {
      "cell_type": "code",
      "execution_count": null,
      "metadata": {
        "id": "lNju-li7XHHh"
      },
      "outputs": [],
      "source": [
        "def optimiseur(model, lr=1e-5, eps=1e-6, weight_decay_rate=0.001, second_weight_decay_rate=0.0):\n",
        "    param_optimizer = list(model.named_parameters())\n",
        "    no_decay = ['bias', 'gamma', 'beta']\n",
        "    optimizer_grouped_parameters = [\n",
        "        {'params': [p for n, p in param_optimizer if not any(nd in n for nd in no_decay)],\n",
        "            'weight_decay_rate': weight_decay_rate},\n",
        "        {'params': [p for n, p in param_optimizer if any(nd in n for nd in no_decay)],\n",
        "            'weight_decay_rate': second_weight_decay_rate}]\n",
        "    return optim.Adam(\n",
        "        optimizer_grouped_parameters,\n",
        "        lr=lr,\n",
        "        eps=eps\n",
        "    )\n",
        "\n",
        "optimizer = optimiseur(model, lr=1e-5, eps=1e-6, weight_decay_rate=0.001, second_weight_decay_rate=0.0)\n",
        "scheduler = optim.lr_scheduler.StepLR(optimizer, step_size=10, gamma=0.5)\n",
        "criterion = nn.CrossEntropyLoss(ignore_index = TAG_PAD_IDX)\n",
        "model = model.to(device)"
      ]
    },
    {
      "cell_type": "markdown",
      "metadata": {
        "id": "MC39UtslXHHh"
      },
      "source": [
        " - Métriques"
      ]
    },
    {
      "cell_type": "code",
      "execution_count": null,
      "metadata": {
        "id": "vFxG-oKmXHHh"
      },
      "outputs": [],
      "source": [
        "from sklearn.metrics import f1_score, classification_report\n",
        "\n",
        "def f1_loss( preds, y, tag_pad_idx, full_report=False):\n",
        "    index_o = TAG.vocab.stoi[\"O\"]\n",
        "    positive_labels = [i for i in range(len(TAG.vocab.itos))\n",
        "                       if i not in (tag_pad_idx, index_o)]\n",
        "\n",
        "    flatten_preds = [pred for sent_pred in preds for pred in sent_pred]\n",
        "\n",
        "    positive_preds = [pred for pred in flatten_preds\n",
        "                      if pred not in (tag_pad_idx, index_o)]\n",
        "\n",
        "    flatten_y = [tag for sent_tag in y for tag in sent_tag]\n",
        "    if full_report:\n",
        "\n",
        "        positive_names = [TAG.vocab.itos[i]\n",
        "                              for i in range(len(TAG.vocab.itos))\n",
        "                              if i not in (tag_pad_idx, index_o)]\n",
        "        print(classification_report(\n",
        "                y_true=flatten_y,\n",
        "                y_pred=flatten_preds,\n",
        "                labels=positive_labels,\n",
        "                target_names=positive_names\n",
        "            ))\n",
        "\n",
        "    return f1_score(\n",
        "            y_true=flatten_y,\n",
        "            y_pred=flatten_preds,\n",
        "            labels=positive_labels,\n",
        "            average=\"micro\"\n",
        "        ), flatten_preds, flatten_y"
      ]
    },
    {
      "cell_type": "code",
      "execution_count": null,
      "metadata": {
        "id": "m77BrecGXHHh"
      },
      "outputs": [],
      "source": [
        "def train(model, iterator, optimizer, tag_pad_idx):\n",
        "\n",
        "    epoch_loss = 0\n",
        "    epoch_f1 = 0\n",
        "    model.train()\n",
        "\n",
        "    for batch in iterator:\n",
        "\n",
        "        text = batch.text\n",
        "        tags = batch.tag\n",
        "\n",
        "        optimizer.zero_grad()\n",
        "\n",
        "        pred_tags_list, batch_loss = model(text, tags)\n",
        "\n",
        "        # pour calculer la loss et le score f1, on flatten true tags\n",
        "        true_tags_list = [\n",
        "                [tag for tag in sent_tag if tag != TAG_PAD_IDX]\n",
        "                for sent_tag in tags.permute(1, 0).tolist()\n",
        "            ]\n",
        "        f1,_,_ = f1_loss(pred_tags_list, true_tags_list, tag_pad_idx)\n",
        "\n",
        "        batch_loss.backward()\n",
        "\n",
        "        optimizer.step()\n",
        "        epoch_loss += batch_loss.item()\n",
        "        epoch_f1 += f1\n",
        "\n",
        "    return epoch_loss / len(iterator), epoch_f1 / len(iterator)\n",
        "\n",
        "def evaluate(model, iterator, tag_pad_idx,full_report):\n",
        "\n",
        "    epoch_loss = 0\n",
        "    epoch_f1 = 0\n",
        "\n",
        "    model.eval()\n",
        "    preds = []\n",
        "    labels = []\n",
        "    with torch.no_grad():\n",
        "\n",
        "        for batch in iterator:\n",
        "\n",
        "            text = batch.text\n",
        "            tags = batch.tag\n",
        "\n",
        "            pred_tags_list, batch_loss = model(text, tags)\n",
        "            true_tags_list = [\n",
        "                [tag for tag in sent_tag if tag != TAG_PAD_IDX]\n",
        "                for sent_tag in tags.permute(1, 0).tolist()\n",
        "                ]\n",
        "\n",
        "            f1, pred, lab = f1_loss(pred_tags_list, true_tags_list, tag_pad_idx, full_report)\n",
        "            preds.append(pred)\n",
        "            labels.append(lab)\n",
        "            epoch_loss += batch_loss.item()\n",
        "            epoch_f1 += f1\n",
        "\n",
        "    return epoch_loss / len(iterator), epoch_f1 / len(iterator),preds, labels"
      ]
    },
    {
      "cell_type": "markdown",
      "source": [
        "\n",
        "\n",
        "```\n",
        "Epoch: 01 | Epoch Time: 0m 58s\n",
        "\tTrain Loss: 241.116 | Train F1 score: 3.01%\n",
        "\t Val. Loss: 166.222 |  Val. F1 score: 0.00%\n",
        "Epoch: 02 | Epoch Time: 0m 53s\n",
        "\tTrain Loss: 129.382 | Train F1 score: 0.63%\n",
        "\t Val. Loss: 152.273 |  Val. F1 score: 0.02%\n",
        "Epoch: 03 | Epoch Time: 1m 2s\n",
        "\tTrain Loss: 120.049 | Train F1 score: 1.81%\n",
        "\t Val. Loss: 140.780 |  Val. F1 score: 0.06%\n",
        "Epoch: 04 | Epoch Time: 0m 57s\n",
        "\tTrain Loss: 114.141 | Train F1 score: 2.86%\n",
        "\t Val. Loss: 133.491 |  Val. F1 score: 0.19%\n",
        "Epoch: 05 | Epoch Time: 0m 54s\n",
        "\tTrain Loss: 109.274 | Train F1 score: 4.14%\n",
        "\t Val. Loss: 124.549 |  Val. F1 score: 0.60%\n",
        "Epoch: 06 | Epoch Time: 0m 53s\n",
        "\tTrain Loss: 104.033 | Train F1 score: 6.44%\n",
        "\t Val. Loss: 118.140 |  Val. F1 score: 0.93%\n",
        "Epoch: 07 | Epoch Time: 0m 53s\n",
        "\tTrain Loss: 99.721 | Train F1 score: 8.20%\n",
        "\t Val. Loss: 111.239 |  Val. F1 score: 1.79%\n",
        "Epoch: 08 | Epoch Time: 0m 53s\n",
        "\tTrain Loss: 95.569 | Train F1 score: 11.03%\n",
        "\t Val. Loss: 103.776 |  Val. F1 score: 3.39%\n",
        "Epoch: 09 | Epoch Time: 0m 53s\n",
        "\tTrain Loss: 91.957 | Train F1 score: 13.15%\n",
        "\t Val. Loss: 98.588 |  Val. F1 score: 6.02%\n",
        "Epoch: 10 | Epoch Time: 0m 52s\n",
        "\tTrain Loss: 88.829 | Train F1 score: 15.47%\n",
        "\t Val. Loss: 95.323 |  Val. F1 score: 8.55%\n",
        "```\n",
        "\n"
      ],
      "metadata": {
        "id": "XOfrodkZeXpE"
      }
    },
    {
      "cell_type": "code",
      "execution_count": null,
      "metadata": {
        "id": "_fA42zRlXHHi",
        "outputId": "954dc178-504c-4827-ec6f-c95848dc1681",
        "colab": {
          "base_uri": "https://localhost:8080/",
          "height": 957
        }
      },
      "outputs": [
        {
          "output_type": "stream",
          "name": "stdout",
          "text": [
            "Epoch: 01 | Epoch Time: 0m 57s\n",
            "\tTrain Loss: 156.059 | Train F1 score: 3.20%\n",
            "\t Val. Loss: 129.141 |  Val. F1 score: 2.16%\n",
            "Epoch: 02 | Epoch Time: 0m 54s\n",
            "\tTrain Loss: 104.697 | Train F1 score: 5.30%\n",
            "\t Val. Loss: 104.899 |  Val. F1 score: 7.28%\n",
            "Epoch: 03 | Epoch Time: 0m 53s\n",
            "\tTrain Loss: 89.931 | Train F1 score: 13.36%\n",
            "\t Val. Loss: 91.984 |  Val. F1 score: 14.25%\n",
            "Epoch: 04 | Epoch Time: 0m 53s\n",
            "\tTrain Loss: 80.931 | Train F1 score: 20.47%\n",
            "\t Val. Loss: 84.279 |  Val. F1 score: 20.60%\n",
            "Epoch: 05 | Epoch Time: 0m 53s\n",
            "\tTrain Loss: 74.712 | Train F1 score: 27.94%\n",
            "\t Val. Loss: 78.392 |  Val. F1 score: 26.83%\n",
            "Epoch: 06 | Epoch Time: 0m 53s\n",
            "\tTrain Loss: 69.933 | Train F1 score: 33.26%\n",
            "\t Val. Loss: 73.813 |  Val. F1 score: 31.73%\n",
            "Epoch: 07 | Epoch Time: 0m 53s\n",
            "\tTrain Loss: 65.640 | Train F1 score: 37.87%\n",
            "\t Val. Loss: 71.091 |  Val. F1 score: 34.78%\n",
            "Epoch: 08 | Epoch Time: 0m 54s\n",
            "\tTrain Loss: 62.346 | Train F1 score: 41.62%\n",
            "\t Val. Loss: 68.135 |  Val. F1 score: 38.46%\n",
            "Epoch: 09 | Epoch Time: 0m 53s\n",
            "\tTrain Loss: 59.594 | Train F1 score: 44.77%\n",
            "\t Val. Loss: 65.491 |  Val. F1 score: 41.70%\n",
            "Epoch: 10 | Epoch Time: 0m 53s\n",
            "\tTrain Loss: 57.090 | Train F1 score: 47.13%\n",
            "\t Val. Loss: 63.610 |  Val. F1 score: 43.64%\n",
            "Epoch: 11 | Epoch Time: 0m 53s\n",
            "\tTrain Loss: 55.316 | Train F1 score: 49.03%\n",
            "\t Val. Loss: 63.378 |  Val. F1 score: 44.63%\n",
            "Epoch: 12 | Epoch Time: 0m 53s\n",
            "\tTrain Loss: 54.392 | Train F1 score: 50.52%\n",
            "\t Val. Loss: 62.446 |  Val. F1 score: 45.63%\n"
          ]
        },
        {
          "output_type": "error",
          "ename": "KeyboardInterrupt",
          "evalue": "",
          "traceback": [
            "\u001b[0;31m---------------------------------------------------------------------------\u001b[0m",
            "\u001b[0;31mKeyboardInterrupt\u001b[0m                         Traceback (most recent call last)",
            "\u001b[0;32m<ipython-input-29-413785e4d82d>\u001b[0m in \u001b[0;36m<cell line: 16>\u001b[0;34m()\u001b[0m\n\u001b[1;32m     19\u001b[0m \u001b[0;34m\u001b[0m\u001b[0m\n\u001b[1;32m     20\u001b[0m \u001b[0;34m\u001b[0m\u001b[0m\n\u001b[0;32m---> 21\u001b[0;31m     \u001b[0mtrain_loss\u001b[0m\u001b[0;34m,\u001b[0m \u001b[0mtrain_f1\u001b[0m \u001b[0;34m=\u001b[0m \u001b[0mtrain\u001b[0m\u001b[0;34m(\u001b[0m\u001b[0mmodel\u001b[0m\u001b[0;34m,\u001b[0m \u001b[0mtrain_iterator\u001b[0m\u001b[0;34m,\u001b[0m \u001b[0moptimizer\u001b[0m\u001b[0;34m,\u001b[0m \u001b[0mTAG_PAD_IDX\u001b[0m\u001b[0;34m)\u001b[0m\u001b[0;34m\u001b[0m\u001b[0;34m\u001b[0m\u001b[0m\n\u001b[0m\u001b[1;32m     22\u001b[0m     \u001b[0mt_loss\u001b[0m\u001b[0;34m.\u001b[0m\u001b[0mappend\u001b[0m\u001b[0;34m(\u001b[0m\u001b[0mtrain_loss\u001b[0m\u001b[0;34m)\u001b[0m\u001b[0;34m\u001b[0m\u001b[0;34m\u001b[0m\u001b[0m\n\u001b[1;32m     23\u001b[0m     \u001b[0mt_f1\u001b[0m\u001b[0;34m.\u001b[0m\u001b[0mappend\u001b[0m\u001b[0;34m(\u001b[0m\u001b[0mtrain_f1\u001b[0m\u001b[0;34m)\u001b[0m\u001b[0;34m\u001b[0m\u001b[0;34m\u001b[0m\u001b[0m\n",
            "\u001b[0;32m<ipython-input-28-09a6f27ddf57>\u001b[0m in \u001b[0;36mtrain\u001b[0;34m(model, iterator, optimizer, tag_pad_idx)\u001b[0m\n\u001b[1;32m     12\u001b[0m         \u001b[0moptimizer\u001b[0m\u001b[0;34m.\u001b[0m\u001b[0mzero_grad\u001b[0m\u001b[0;34m(\u001b[0m\u001b[0;34m)\u001b[0m\u001b[0;34m\u001b[0m\u001b[0;34m\u001b[0m\u001b[0m\n\u001b[1;32m     13\u001b[0m \u001b[0;34m\u001b[0m\u001b[0m\n\u001b[0;32m---> 14\u001b[0;31m         \u001b[0mpred_tags_list\u001b[0m\u001b[0;34m,\u001b[0m \u001b[0mbatch_loss\u001b[0m \u001b[0;34m=\u001b[0m \u001b[0mmodel\u001b[0m\u001b[0;34m(\u001b[0m\u001b[0mtext\u001b[0m\u001b[0;34m,\u001b[0m \u001b[0mtags\u001b[0m\u001b[0;34m)\u001b[0m\u001b[0;34m\u001b[0m\u001b[0;34m\u001b[0m\u001b[0m\n\u001b[0m\u001b[1;32m     15\u001b[0m \u001b[0;34m\u001b[0m\u001b[0m\n\u001b[1;32m     16\u001b[0m         \u001b[0;31m# pour calculer la loss et le score f1, on flatten true tags\u001b[0m\u001b[0;34m\u001b[0m\u001b[0;34m\u001b[0m\u001b[0m\n",
            "\u001b[0;32m/usr/local/lib/python3.10/dist-packages/torch/nn/modules/module.py\u001b[0m in \u001b[0;36m_wrapped_call_impl\u001b[0;34m(self, *args, **kwargs)\u001b[0m\n\u001b[1;32m   1734\u001b[0m             \u001b[0;32mreturn\u001b[0m \u001b[0mself\u001b[0m\u001b[0;34m.\u001b[0m\u001b[0m_compiled_call_impl\u001b[0m\u001b[0;34m(\u001b[0m\u001b[0;34m*\u001b[0m\u001b[0margs\u001b[0m\u001b[0;34m,\u001b[0m \u001b[0;34m**\u001b[0m\u001b[0mkwargs\u001b[0m\u001b[0;34m)\u001b[0m  \u001b[0;31m# type: ignore[misc]\u001b[0m\u001b[0;34m\u001b[0m\u001b[0;34m\u001b[0m\u001b[0m\n\u001b[1;32m   1735\u001b[0m         \u001b[0;32melse\u001b[0m\u001b[0;34m:\u001b[0m\u001b[0;34m\u001b[0m\u001b[0;34m\u001b[0m\u001b[0m\n\u001b[0;32m-> 1736\u001b[0;31m             \u001b[0;32mreturn\u001b[0m \u001b[0mself\u001b[0m\u001b[0;34m.\u001b[0m\u001b[0m_call_impl\u001b[0m\u001b[0;34m(\u001b[0m\u001b[0;34m*\u001b[0m\u001b[0margs\u001b[0m\u001b[0;34m,\u001b[0m \u001b[0;34m**\u001b[0m\u001b[0mkwargs\u001b[0m\u001b[0;34m)\u001b[0m\u001b[0;34m\u001b[0m\u001b[0;34m\u001b[0m\u001b[0m\n\u001b[0m\u001b[1;32m   1737\u001b[0m \u001b[0;34m\u001b[0m\u001b[0m\n\u001b[1;32m   1738\u001b[0m     \u001b[0;31m# torchrec tests the code consistency with the following code\u001b[0m\u001b[0;34m\u001b[0m\u001b[0;34m\u001b[0m\u001b[0m\n",
            "\u001b[0;32m/usr/local/lib/python3.10/dist-packages/torch/nn/modules/module.py\u001b[0m in \u001b[0;36m_call_impl\u001b[0;34m(self, *args, **kwargs)\u001b[0m\n\u001b[1;32m   1745\u001b[0m                 \u001b[0;32mor\u001b[0m \u001b[0m_global_backward_pre_hooks\u001b[0m \u001b[0;32mor\u001b[0m \u001b[0m_global_backward_hooks\u001b[0m\u001b[0;34m\u001b[0m\u001b[0;34m\u001b[0m\u001b[0m\n\u001b[1;32m   1746\u001b[0m                 or _global_forward_hooks or _global_forward_pre_hooks):\n\u001b[0;32m-> 1747\u001b[0;31m             \u001b[0;32mreturn\u001b[0m \u001b[0mforward_call\u001b[0m\u001b[0;34m(\u001b[0m\u001b[0;34m*\u001b[0m\u001b[0margs\u001b[0m\u001b[0;34m,\u001b[0m \u001b[0;34m**\u001b[0m\u001b[0mkwargs\u001b[0m\u001b[0;34m)\u001b[0m\u001b[0;34m\u001b[0m\u001b[0;34m\u001b[0m\u001b[0m\n\u001b[0m\u001b[1;32m   1748\u001b[0m \u001b[0;34m\u001b[0m\u001b[0m\n\u001b[1;32m   1749\u001b[0m         \u001b[0mresult\u001b[0m \u001b[0;34m=\u001b[0m \u001b[0;32mNone\u001b[0m\u001b[0;34m\u001b[0m\u001b[0;34m\u001b[0m\u001b[0m\n",
            "\u001b[0;32m<ipython-input-23-6a69f5670acf>\u001b[0m in \u001b[0;36mforward\u001b[0;34m(self, words, tags)\u001b[0m\n\u001b[1;32m     63\u001b[0m             \u001b[0mmask\u001b[0m \u001b[0;34m=\u001b[0m \u001b[0mtags\u001b[0m \u001b[0;34m!=\u001b[0m \u001b[0mself\u001b[0m\u001b[0;34m.\u001b[0m\u001b[0mtag_pad_idx\u001b[0m\u001b[0;34m\u001b[0m\u001b[0;34m\u001b[0m\u001b[0m\n\u001b[1;32m     64\u001b[0m             \u001b[0mcrf_out\u001b[0m \u001b[0;34m=\u001b[0m \u001b[0mself\u001b[0m\u001b[0;34m.\u001b[0m\u001b[0mcrf\u001b[0m\u001b[0;34m.\u001b[0m\u001b[0mdecode\u001b[0m\u001b[0;34m(\u001b[0m\u001b[0mfc_out\u001b[0m\u001b[0;34m,\u001b[0m \u001b[0mmask\u001b[0m\u001b[0;34m=\u001b[0m\u001b[0mmask\u001b[0m\u001b[0;34m)\u001b[0m\u001b[0;34m\u001b[0m\u001b[0;34m\u001b[0m\u001b[0m\n\u001b[0;32m---> 65\u001b[0;31m             \u001b[0mcrf_loss\u001b[0m \u001b[0;34m=\u001b[0m \u001b[0;34m-\u001b[0m\u001b[0mself\u001b[0m\u001b[0;34m.\u001b[0m\u001b[0mcrf\u001b[0m\u001b[0;34m(\u001b[0m\u001b[0mfc_out\u001b[0m\u001b[0;34m,\u001b[0m \u001b[0mtags\u001b[0m\u001b[0;34m=\u001b[0m\u001b[0mtags\u001b[0m\u001b[0;34m,\u001b[0m \u001b[0mmask\u001b[0m\u001b[0;34m=\u001b[0m\u001b[0mmask\u001b[0m\u001b[0;34m)\u001b[0m\u001b[0;34m\u001b[0m\u001b[0;34m\u001b[0m\u001b[0m\n\u001b[0m\u001b[1;32m     66\u001b[0m         \u001b[0;32melse\u001b[0m\u001b[0;34m:\u001b[0m\u001b[0;34m\u001b[0m\u001b[0;34m\u001b[0m\u001b[0m\n\u001b[1;32m     67\u001b[0m             \u001b[0mcrf_out\u001b[0m \u001b[0;34m=\u001b[0m \u001b[0mself\u001b[0m\u001b[0;34m.\u001b[0m\u001b[0mcrf\u001b[0m\u001b[0;34m.\u001b[0m\u001b[0mdecode\u001b[0m\u001b[0;34m(\u001b[0m\u001b[0mfc_out\u001b[0m\u001b[0;34m)\u001b[0m\u001b[0;34m\u001b[0m\u001b[0;34m\u001b[0m\u001b[0m\n",
            "\u001b[0;32m/usr/local/lib/python3.10/dist-packages/torch/nn/modules/module.py\u001b[0m in \u001b[0;36m_wrapped_call_impl\u001b[0;34m(self, *args, **kwargs)\u001b[0m\n\u001b[1;32m   1734\u001b[0m             \u001b[0;32mreturn\u001b[0m \u001b[0mself\u001b[0m\u001b[0;34m.\u001b[0m\u001b[0m_compiled_call_impl\u001b[0m\u001b[0;34m(\u001b[0m\u001b[0;34m*\u001b[0m\u001b[0margs\u001b[0m\u001b[0;34m,\u001b[0m \u001b[0;34m**\u001b[0m\u001b[0mkwargs\u001b[0m\u001b[0;34m)\u001b[0m  \u001b[0;31m# type: ignore[misc]\u001b[0m\u001b[0;34m\u001b[0m\u001b[0;34m\u001b[0m\u001b[0m\n\u001b[1;32m   1735\u001b[0m         \u001b[0;32melse\u001b[0m\u001b[0;34m:\u001b[0m\u001b[0;34m\u001b[0m\u001b[0;34m\u001b[0m\u001b[0m\n\u001b[0;32m-> 1736\u001b[0;31m             \u001b[0;32mreturn\u001b[0m \u001b[0mself\u001b[0m\u001b[0;34m.\u001b[0m\u001b[0m_call_impl\u001b[0m\u001b[0;34m(\u001b[0m\u001b[0;34m*\u001b[0m\u001b[0margs\u001b[0m\u001b[0;34m,\u001b[0m \u001b[0;34m**\u001b[0m\u001b[0mkwargs\u001b[0m\u001b[0;34m)\u001b[0m\u001b[0;34m\u001b[0m\u001b[0;34m\u001b[0m\u001b[0m\n\u001b[0m\u001b[1;32m   1737\u001b[0m \u001b[0;34m\u001b[0m\u001b[0m\n\u001b[1;32m   1738\u001b[0m     \u001b[0;31m# torchrec tests the code consistency with the following code\u001b[0m\u001b[0;34m\u001b[0m\u001b[0;34m\u001b[0m\u001b[0m\n",
            "\u001b[0;32m/usr/local/lib/python3.10/dist-packages/torch/nn/modules/module.py\u001b[0m in \u001b[0;36m_call_impl\u001b[0;34m(self, *args, **kwargs)\u001b[0m\n\u001b[1;32m   1745\u001b[0m                 \u001b[0;32mor\u001b[0m \u001b[0m_global_backward_pre_hooks\u001b[0m \u001b[0;32mor\u001b[0m \u001b[0m_global_backward_hooks\u001b[0m\u001b[0;34m\u001b[0m\u001b[0;34m\u001b[0m\u001b[0m\n\u001b[1;32m   1746\u001b[0m                 or _global_forward_hooks or _global_forward_pre_hooks):\n\u001b[0;32m-> 1747\u001b[0;31m             \u001b[0;32mreturn\u001b[0m \u001b[0mforward_call\u001b[0m\u001b[0;34m(\u001b[0m\u001b[0;34m*\u001b[0m\u001b[0margs\u001b[0m\u001b[0;34m,\u001b[0m \u001b[0;34m**\u001b[0m\u001b[0mkwargs\u001b[0m\u001b[0;34m)\u001b[0m\u001b[0;34m\u001b[0m\u001b[0;34m\u001b[0m\u001b[0m\n\u001b[0m\u001b[1;32m   1748\u001b[0m \u001b[0;34m\u001b[0m\u001b[0m\n\u001b[1;32m   1749\u001b[0m         \u001b[0mresult\u001b[0m \u001b[0;34m=\u001b[0m \u001b[0;32mNone\u001b[0m\u001b[0;34m\u001b[0m\u001b[0;34m\u001b[0m\u001b[0m\n",
            "\u001b[0;32m/usr/local/lib/python3.10/dist-packages/torchcrf/__init__.py\u001b[0m in \u001b[0;36mforward\u001b[0;34m(self, emissions, tags, mask, reduction)\u001b[0m\n\u001b[1;32m    100\u001b[0m \u001b[0;34m\u001b[0m\u001b[0m\n\u001b[1;32m    101\u001b[0m         \u001b[0;31m# shape: (batch_size,)\u001b[0m\u001b[0;34m\u001b[0m\u001b[0;34m\u001b[0m\u001b[0m\n\u001b[0;32m--> 102\u001b[0;31m         \u001b[0mnumerator\u001b[0m \u001b[0;34m=\u001b[0m \u001b[0mself\u001b[0m\u001b[0;34m.\u001b[0m\u001b[0m_compute_score\u001b[0m\u001b[0;34m(\u001b[0m\u001b[0memissions\u001b[0m\u001b[0;34m,\u001b[0m \u001b[0mtags\u001b[0m\u001b[0;34m,\u001b[0m \u001b[0mmask\u001b[0m\u001b[0;34m)\u001b[0m\u001b[0;34m\u001b[0m\u001b[0;34m\u001b[0m\u001b[0m\n\u001b[0m\u001b[1;32m    103\u001b[0m         \u001b[0;31m# shape: (batch_size,)\u001b[0m\u001b[0;34m\u001b[0m\u001b[0;34m\u001b[0m\u001b[0m\n\u001b[1;32m    104\u001b[0m         \u001b[0mdenominator\u001b[0m \u001b[0;34m=\u001b[0m \u001b[0mself\u001b[0m\u001b[0;34m.\u001b[0m\u001b[0m_compute_normalizer\u001b[0m\u001b[0;34m(\u001b[0m\u001b[0memissions\u001b[0m\u001b[0;34m,\u001b[0m \u001b[0mmask\u001b[0m\u001b[0;34m)\u001b[0m\u001b[0;34m\u001b[0m\u001b[0;34m\u001b[0m\u001b[0m\n",
            "\u001b[0;32m/usr/local/lib/python3.10/dist-packages/torchcrf/__init__.py\u001b[0m in \u001b[0;36m_compute_score\u001b[0;34m(self, emissions, tags, mask)\u001b[0m\n\u001b[1;32m    194\u001b[0m             \u001b[0;31m# Emission score for next tag, only added if next timestep is valid (mask == 1)\u001b[0m\u001b[0;34m\u001b[0m\u001b[0;34m\u001b[0m\u001b[0m\n\u001b[1;32m    195\u001b[0m             \u001b[0;31m# shape: (batch_size,)\u001b[0m\u001b[0;34m\u001b[0m\u001b[0;34m\u001b[0m\u001b[0m\n\u001b[0;32m--> 196\u001b[0;31m             \u001b[0mscore\u001b[0m \u001b[0;34m+=\u001b[0m \u001b[0memissions\u001b[0m\u001b[0;34m[\u001b[0m\u001b[0mi\u001b[0m\u001b[0;34m,\u001b[0m \u001b[0mtorch\u001b[0m\u001b[0;34m.\u001b[0m\u001b[0marange\u001b[0m\u001b[0;34m(\u001b[0m\u001b[0mbatch_size\u001b[0m\u001b[0;34m)\u001b[0m\u001b[0;34m,\u001b[0m \u001b[0mtags\u001b[0m\u001b[0;34m[\u001b[0m\u001b[0mi\u001b[0m\u001b[0;34m]\u001b[0m\u001b[0;34m]\u001b[0m \u001b[0;34m*\u001b[0m \u001b[0mmask\u001b[0m\u001b[0;34m[\u001b[0m\u001b[0mi\u001b[0m\u001b[0;34m]\u001b[0m\u001b[0;34m\u001b[0m\u001b[0;34m\u001b[0m\u001b[0m\n\u001b[0m\u001b[1;32m    197\u001b[0m \u001b[0;34m\u001b[0m\u001b[0m\n\u001b[1;32m    198\u001b[0m         \u001b[0;31m# End transition score\u001b[0m\u001b[0;34m\u001b[0m\u001b[0;34m\u001b[0m\u001b[0m\n",
            "\u001b[0;31mKeyboardInterrupt\u001b[0m: "
          ]
        }
      ],
      "source": [
        "def epoch_time(start_time, end_time):\n",
        "    elapsed_time = end_time - start_time\n",
        "    elapsed_mins = int(elapsed_time / 60)\n",
        "    elapsed_secs = int(elapsed_time - (elapsed_mins * 60))\n",
        "    return elapsed_mins, elapsed_secs\n",
        "\n",
        "N_EPOCHS = 50\n",
        "\n",
        "t_loss = []\n",
        "t_f1 = []\n",
        "v_loss = []\n",
        "v_f1 = []\n",
        "\n",
        "best_valid_loss = float('inf')\n",
        "\n",
        "for epoch in range(N_EPOCHS):\n",
        "\n",
        "    start_time = time.time()\n",
        "\n",
        "\n",
        "    train_loss, train_f1 = train(model, train_iterator, optimizer, TAG_PAD_IDX)\n",
        "    t_loss.append(train_loss)\n",
        "    t_f1.append(train_f1)\n",
        "\n",
        "    valid_loss, valid_f1,_,_ = evaluate(model, valid_iterator, TAG_PAD_IDX, full_report= False)\n",
        "    v_loss.append(valid_loss)\n",
        "    v_f1.append(valid_f1)\n",
        "\n",
        "    scheduler.step()\n",
        "    end_time = time.time()\n",
        "\n",
        "    epoch_mins, epoch_secs = epoch_time(start_time, end_time)\n",
        "\n",
        "    if valid_loss < best_valid_loss:\n",
        "        best_valid_loss = valid_loss\n",
        "        torch.save(model.state_dict(), 'tut3-model_conll.pt')\n",
        "\n",
        "\n",
        "    if epoch%1 == 0:\n",
        "        print(f'Epoch: {epoch+1:02} | Epoch Time: {epoch_mins}m {epoch_secs}s')\n",
        "        print(f'\\tTrain Loss: {train_loss:.3f} | Train F1 score: {train_f1*100:.2f}%')\n",
        "        print(f'\\t Val. Loss: {valid_loss:.3f} |  Val. F1 score: {valid_f1*100:.2f}%')"
      ]
    },
    {
      "cell_type": "code",
      "execution_count": null,
      "metadata": {
        "id": "StI1POlxXHHi",
        "outputId": "6cab820d-d183-4cf8-8668-5bea370518c8",
        "colab": {
          "base_uri": "https://localhost:8080/",
          "height": 494
        }
      },
      "outputs": [
        {
          "output_type": "execute_result",
          "data": {
            "text/plain": [
              "<matplotlib.legend.Legend at 0x7b9902ca9ed0>"
            ]
          },
          "metadata": {},
          "execution_count": 31
        },
        {
          "output_type": "display_data",
          "data": {
            "text/plain": [
              "<Figure size 640x480 with 1 Axes>"
            ],
            "image/png": "[encoded data removed]"
          },
          "metadata": {}
        }
      ],
      "source": [
        "import seaborn as sns\n",
        "import matplotlib.pyplot as plt\n",
        "import numpy as np\n",
        "sns.set()\n",
        "N_EPOCHS_real = 12\n",
        "x = np.linspace(0, N_EPOCHS_real, N_EPOCHS_real)\n",
        "\n",
        "plt.plot(x,t_loss)\n",
        "plt.plot(x,v_loss)\n",
        "plt.title(\"Loss\")\n",
        "plt.legend([\"Train loss\", \"Valid loss\"])"
      ]
    },
    {
      "cell_type": "code",
      "execution_count": null,
      "metadata": {
        "id": "HJfvVaksXHHj",
        "outputId": "49553159-2e27-4b5e-86c3-3381d93f5beb"
      },
      "outputs": [
        {
          "data": {
            "text/plain": [
              "<matplotlib.legend.Legend at 0x7f703dbe3bd0>"
            ]
          },
          "execution_count": 11,
          "metadata": {},
          "output_type": "execute_result"
        },
        {
          "data": {
            "image/png": "[encoded data removed]",
            "text/plain": [
              "<Figure size 432x288 with 1 Axes>"
            ]
          },
          "metadata": {},
          "output_type": "display_data"
        }
      ],
      "source": [
        "x = np.linspace(0, N_EPOCHS_real,N_EPOCHS_real)\n",
        "\n",
        "plt.plot(x,t_f1)\n",
        "plt.plot(x,v_f1)\n",
        "plt.title(\"F1 score\")\n",
        "plt.legend([\"Train F1\", \"Valid F1\"])"
      ]
    },
    {
      "cell_type": "code",
      "execution_count": null,
      "metadata": {
        "id": "XwJbyZ9HXHHj",
        "outputId": "ad6edd1a-5388-4af1-c440-286727415353"
      },
      "outputs": [
        {
          "name": "stdout",
          "output_type": "stream",
          "text": [
            "Test Loss: 51.947 |  Test F1 score: 52.48%\n"
          ]
        }
      ],
      "source": [
        "from sklearn.metrics import confusion_matrix, precision_recall_fscore_support\n",
        "model.load_state_dict(torch.load('tut3-model_conll.pt'))\n",
        "\n",
        "test_loss, test_f1, preds, labels = evaluate(model, test_iterator, TAG_PAD_IDX, full_report=False)\n",
        "print(f'Test Loss: {test_loss:.3f} |  Test F1 score: {test_f1*100:.2f}%')"
      ]
    },
    {
      "cell_type": "code",
      "execution_count": null,
      "metadata": {
        "id": "cykzd-8IXHHj"
      },
      "outputs": [],
      "source": [
        "predict =  [item for sublist in preds for item in sublist]\n",
        "true =  [item for sublist in labels for item in sublist]\n",
        "confusion = confusion_matrix(true, predict)"
      ]
    },
    {
      "cell_type": "markdown",
      "metadata": {
        "id": "XubyQrpLXHHj"
      },
      "source": [
        "### Matrice de confusion"
      ]
    },
    {
      "cell_type": "code",
      "execution_count": null,
      "metadata": {
        "id": "RWGcLPg0XHHj",
        "outputId": "0aff5217-5376-44fd-d307-cd868f75b352"
      },
      "outputs": [
        {
          "data": {
            "text/html": [
              "<div>\n",
              "<style scoped>\n",
              "    .dataframe tbody tr th:only-of-type {\n",
              "        vertical-align: middle;\n",
              "    }\n",
              "\n",
              "    .dataframe tbody tr th {\n",
              "        vertical-align: top;\n",
              "    }\n",
              "\n",
              "    .dataframe thead th {\n",
              "        text-align: right;\n",
              "    }\n",
              "</style>\n",
              "<table border=\"1\" class=\"dataframe\">\n",
              "  <thead>\n",
              "    <tr style=\"text-align: right;\">\n",
              "      <th></th>\n",
              "      <th>O</th>\n",
              "      <th>LOC</th>\n",
              "      <th>PER</th>\n",
              "      <th>ORG</th>\n",
              "      <th>MISC</th>\n",
              "    </tr>\n",
              "  </thead>\n",
              "  <tbody>\n",
              "    <tr>\n",
              "      <th>O</th>\n",
              "      <td>38178</td>\n",
              "      <td>49</td>\n",
              "      <td>144</td>\n",
              "      <td>101</td>\n",
              "      <td>48</td>\n",
              "    </tr>\n",
              "    <tr>\n",
              "      <th>LOC</th>\n",
              "      <td>794</td>\n",
              "      <td>937</td>\n",
              "      <td>74</td>\n",
              "      <td>99</td>\n",
              "      <td>20</td>\n",
              "    </tr>\n",
              "    <tr>\n",
              "      <th>PER</th>\n",
              "      <td>1282</td>\n",
              "      <td>25</td>\n",
              "      <td>1346</td>\n",
              "      <td>106</td>\n",
              "      <td>12</td>\n",
              "    </tr>\n",
              "    <tr>\n",
              "      <th>ORG</th>\n",
              "      <td>969</td>\n",
              "      <td>149</td>\n",
              "      <td>209</td>\n",
              "      <td>1115</td>\n",
              "      <td>51</td>\n",
              "    </tr>\n",
              "    <tr>\n",
              "      <th>MISC</th>\n",
              "      <td>524</td>\n",
              "      <td>35</td>\n",
              "      <td>28</td>\n",
              "      <td>46</td>\n",
              "      <td>282</td>\n",
              "    </tr>\n",
              "  </tbody>\n",
              "</table>\n",
              "</div>"
            ],
            "text/plain": [
              "          O  LOC   PER   ORG  MISC\n",
              "O     38178   49   144   101    48\n",
              "LOC     794  937    74    99    20\n",
              "PER    1282   25  1346   106    12\n",
              "ORG     969  149   209  1115    51\n",
              "MISC    524   35    28    46   282"
            ]
          },
          "execution_count": 18,
          "metadata": {},
          "output_type": "execute_result"
        }
      ],
      "source": [
        "confusion_df =pd.DataFrame(confusion)\n",
        "\n",
        "confusion_df.columns=[i for i in TAG.vocab.itos]\n",
        "s = pd.Series([i for i in TAG.vocab.itos])\n",
        "confusion_df = confusion_df.set_index([s])\n",
        "\n",
        "confusion_df['LOC'] = confusion_df['B-LOC'] + confusion_df['I-LOC']\n",
        "confusion_df['PER'] = confusion_df['B-PER'] + confusion_df['I-PER']\n",
        "confusion_df['ORG'] = confusion_df['B-ORG'] + confusion_df['I-ORG']\n",
        "confusion_df['MISC'] = confusion_df['B-MISC'] + confusion_df['I-MISC']\n",
        "\n",
        "\n",
        "confusion_df = confusion_df.drop(columns=[ i for i in TAG.vocab.itos if i != 'O'])\n",
        "\n",
        "confusion_df.loc['LOC'] = confusion_df.loc['B-LOC'] + confusion_df.loc['I-LOC']\n",
        "confusion_df.loc['PER'] = confusion_df.loc['B-PER'] + confusion_df.loc['I-PER']\n",
        "confusion_df.loc['ORG'] = confusion_df.loc['B-ORG'] + confusion_df.loc['I-ORG']\n",
        "confusion_df.loc['MISC'] = confusion_df.loc['B-MISC'] + confusion_df.loc['I-MISC']\n",
        "\n",
        "confusion_df = confusion_df.drop([i for i in TAG.vocab.itos if i != 'O'  ])\n",
        "\n",
        "confusion_df"
      ]
    },
    {
      "cell_type": "markdown",
      "metadata": {
        "id": "UgpzcOaVXHHk"
      },
      "source": [
        "### Precision-Recall-F1Score"
      ]
    },
    {
      "cell_type": "code",
      "execution_count": null,
      "metadata": {
        "id": "jXmfXOIsXHHk",
        "outputId": "4e37e59a-b204-4f5f-fad2-cffc85dc1f19"
      },
      "outputs": [
        {
          "data": {
            "text/html": [
              "<div>\n",
              "<style scoped>\n",
              "    .dataframe tbody tr th:only-of-type {\n",
              "        vertical-align: middle;\n",
              "    }\n",
              "\n",
              "    .dataframe tbody tr th {\n",
              "        vertical-align: top;\n",
              "    }\n",
              "\n",
              "    .dataframe thead th {\n",
              "        text-align: right;\n",
              "    }\n",
              "</style>\n",
              "<table border=\"1\" class=\"dataframe\">\n",
              "  <thead>\n",
              "    <tr style=\"text-align: right;\">\n",
              "      <th></th>\n",
              "      <th>Precision</th>\n",
              "      <th>Recall</th>\n",
              "      <th>F1-score</th>\n",
              "    </tr>\n",
              "  </thead>\n",
              "  <tbody>\n",
              "    <tr>\n",
              "      <th>O</th>\n",
              "      <td>0.914509</td>\n",
              "      <td>0.991121</td>\n",
              "      <td>0.951275</td>\n",
              "    </tr>\n",
              "    <tr>\n",
              "      <th>LOC</th>\n",
              "      <td>0.784100</td>\n",
              "      <td>0.487006</td>\n",
              "      <td>0.600834</td>\n",
              "    </tr>\n",
              "    <tr>\n",
              "      <th>PER</th>\n",
              "      <td>0.747363</td>\n",
              "      <td>0.485745</td>\n",
              "      <td>0.588801</td>\n",
              "    </tr>\n",
              "    <tr>\n",
              "      <th>ORG</th>\n",
              "      <td>0.760055</td>\n",
              "      <td>0.447252</td>\n",
              "      <td>0.563131</td>\n",
              "    </tr>\n",
              "    <tr>\n",
              "      <th>MISC</th>\n",
              "      <td>0.682809</td>\n",
              "      <td>0.308197</td>\n",
              "      <td>0.424699</td>\n",
              "    </tr>\n",
              "  </tbody>\n",
              "</table>\n",
              "</div>"
            ],
            "text/plain": [
              "      Precision    Recall  F1-score\n",
              "O      0.914509  0.991121  0.951275\n",
              "LOC    0.784100  0.487006  0.600834\n",
              "PER    0.747363  0.485745  0.588801\n",
              "ORG    0.760055  0.447252  0.563131\n",
              "MISC   0.682809  0.308197  0.424699"
            ]
          },
          "execution_count": 19,
          "metadata": {},
          "output_type": "execute_result"
        }
      ],
      "source": [
        "cm = confusion_df.to_numpy()\n",
        "\n",
        "TP = np.diag(cm)\n",
        "FP = np.sum(cm, axis=0) - TP\n",
        "FN = np.sum(cm, axis=1) - TP\n",
        "\n",
        "num_classes = 4\n",
        "TN = []\n",
        "for i in range(num_classes):\n",
        "    temp = np.delete(cm, i, 0)\n",
        "    temp = np.delete(temp, i, 1)\n",
        "    TN.append(sum(sum(temp)))\n",
        "\n",
        "precision = TP/(TP+FP)\n",
        "recall = TP/(TP+FN)\n",
        "f1 = (2*precision*recall)/(precision+recall)\n",
        "\n",
        "prf_df =pd.DataFrame()\n",
        "prf_df['Precision'] = precision\n",
        "prf_df['Recall'] = recall\n",
        "prf_df['F1-score'] = f1\n",
        "\n",
        "s = pd.Series([i for i in confusion_df.index])\n",
        "prf_df = prf_df.set_index([s])\n",
        "\n",
        "prf_df"
      ]
    },
    {
      "cell_type": "markdown",
      "metadata": {
        "id": "sPbdtiKMXHHk"
      },
      "source": [
        "## Inférence"
      ]
    },
    {
      "cell_type": "code",
      "execution_count": null,
      "metadata": {
        "id": "TjMnCodQXHHk"
      },
      "outputs": [],
      "source": [
        "def tag_sentence(model, device, sentence, text_field, tag_field):\n",
        "\n",
        "    model.eval()\n",
        "\n",
        "    if isinstance(sentence, str):\n",
        "        nlp = spacy.load('en')\n",
        "        tokens = [token.text for token in nlp(sentence)]\n",
        "    else:\n",
        "        tokens = [token for token in sentence]\n",
        "\n",
        "    if text_field.lower:\n",
        "        tokens = [t.lower() for t in tokens]\n",
        "\n",
        "    max_word_len = max([len(token) for token in tokens])\n",
        "\n",
        "    numericalized_tokens = [text_field.vocab.stoi[t] for t in tokens]\n",
        "    unk_idx = text_field.vocab.stoi[text_field.unk_token]\n",
        "    unks = [t for t, n in zip(tokens, numericalized_tokens) if n == unk_idx]\n",
        "\n",
        "    token_tensor = torch.as_tensor(numericalized_tokens)\n",
        "    token_tensor = token_tensor.unsqueeze(-1).to(device)\n",
        "\n",
        "    predictions, _ = model(token_tensor)\n",
        "    predicted_tags = [tag_field.vocab.itos[t] for t in predictions[0]]\n",
        "\n",
        "    return tokens, predicted_tags, unks"
      ]
    },
    {
      "cell_type": "code",
      "execution_count": null,
      "metadata": {
        "id": "KySUObzEXHHl",
        "outputId": "917ef476-2172-4d01-9d47-b6b36f8d4697"
      },
      "outputs": [
        {
          "name": "stdout",
          "output_type": "stream",
          "text": [
            "['Trailing', 'by', '213', ',', 'Somerset', 'got', 'a', 'solid', 'start', 'to', 'their', 'second', 'innings', 'before', 'Simmons', 'stepped', 'in', 'to', 'bundle', 'them', 'out', 'for', '174', '.']\n",
            "['O', 'O', 'O', 'O', 'B-ORG', 'O', 'O', 'O', 'O', 'O', 'O', 'O', 'O', 'O', 'B-PER', 'O', 'O', 'O', 'O', 'O', 'O', 'O', 'O', 'O']\n"
          ]
        }
      ],
      "source": [
        "example_index = 6\n",
        "\n",
        "sentence = vars(valid_data.examples[example_index])['text']\n",
        "actual_tags = vars(valid_data.examples[example_index])['tag']\n",
        "\n",
        "print(sentence)\n",
        "print(actual_tags)"
      ]
    },
    {
      "cell_type": "code",
      "execution_count": null,
      "metadata": {
        "id": "7jSGqRX8XHHl",
        "outputId": "99735be5-c439-45a0-94fc-b3a1016d0a1a"
      },
      "outputs": [
        {
          "name": "stdout",
          "output_type": "stream",
          "text": [
            "['O', 'O', 'O', 'O', 'O', 'O', 'O', 'O', 'O', 'O', 'O', 'O', 'O', 'O', 'B-PER', 'O', 'O', 'O', 'O', 'O', 'O', 'O', 'O', 'O']\n",
            "['O', 'O', 'O', 'O', 'B-ORG', 'O', 'O', 'O', 'O', 'O', 'O', 'O', 'O', 'O', 'B-PER', 'O', 'O', 'O', 'O', 'O', 'O', 'O', 'O', 'O']\n"
          ]
        }
      ],
      "source": [
        "tokens, pred_tags, unks = tag_sentence(model,\n",
        "                                       device,\n",
        "                                       sentence,\n",
        "                                       TEXT,\n",
        "                                       TAG\n",
        "                                      )\n",
        "print(pred_tags)\n",
        "print(actual_tags)"
      ]
    },
    {
      "cell_type": "code",
      "execution_count": null,
      "metadata": {
        "id": "V59bzJjLXHHl",
        "outputId": "6a68a279-6df2-4954-8e7a-3104b519218e"
      },
      "outputs": [
        {
          "name": "stdout",
          "output_type": "stream",
          "text": [
            "Pred. Tag\t\t\t\tActual Tag\t\t\t\tCorrect?\t\t\t\tToken\n",
            "\n",
            "O \t\t\t\t\t O \t\t\t\t\t ✔ \t\t\t\t\t Trailing\n",
            "O \t\t\t\t\t O \t\t\t\t\t ✔ \t\t\t\t\t by\n",
            "O \t\t\t\t\t O \t\t\t\t\t ✔ \t\t\t\t\t 213\n",
            "O \t\t\t\t\t O \t\t\t\t\t ✔ \t\t\t\t\t ,\n",
            "O \t\t\t\t\t B-ORG \t\t\t\t ✘ \t\t\t\t\t Somerset\n",
            "O \t\t\t\t\t O \t\t\t\t\t ✔ \t\t\t\t\t got\n",
            "O \t\t\t\t\t O \t\t\t\t\t ✔ \t\t\t\t\t a\n",
            "O \t\t\t\t\t O \t\t\t\t\t ✔ \t\t\t\t\t solid\n",
            "O \t\t\t\t\t O \t\t\t\t\t ✔ \t\t\t\t\t start\n",
            "O \t\t\t\t\t O \t\t\t\t\t ✔ \t\t\t\t\t to\n",
            "O \t\t\t\t\t O \t\t\t\t\t ✔ \t\t\t\t\t their\n",
            "O \t\t\t\t\t O \t\t\t\t\t ✔ \t\t\t\t\t second\n",
            "O \t\t\t\t\t O \t\t\t\t\t ✔ \t\t\t\t\t innings\n",
            "O \t\t\t\t\t O \t\t\t\t\t ✔ \t\t\t\t\t before\n",
            "B-PER \t\t\t\t B-PER \t\t\t\t ✔ \t\t\t\t\t Simmons\n",
            "O \t\t\t\t\t O \t\t\t\t\t ✔ \t\t\t\t\t stepped\n",
            "O \t\t\t\t\t O \t\t\t\t\t ✔ \t\t\t\t\t in\n",
            "O \t\t\t\t\t O \t\t\t\t\t ✔ \t\t\t\t\t to\n",
            "O \t\t\t\t\t O \t\t\t\t\t ✔ \t\t\t\t\t bundle\n",
            "O \t\t\t\t\t O \t\t\t\t\t ✔ \t\t\t\t\t them\n",
            "O \t\t\t\t\t O \t\t\t\t\t ✔ \t\t\t\t\t out\n",
            "O \t\t\t\t\t O \t\t\t\t\t ✔ \t\t\t\t\t for\n",
            "O \t\t\t\t\t O \t\t\t\t\t ✔ \t\t\t\t\t 174\n",
            "O \t\t\t\t\t O \t\t\t\t\t ✔ \t\t\t\t\t .\n"
          ]
        }
      ],
      "source": [
        "print(\"Pred. Tag\\t\\t\\t\\tActual Tag\\t\\t\\t\\tCorrect?\\t\\t\\t\\tToken\\n\")\n",
        "for token, pred_tag, actual_tag in zip(tokens, pred_tags, actual_tags):\n",
        "    correct = '✔' if pred_tag == actual_tag else '✘'\n",
        "    space = 5 if pred_tag == 'O'else 4\n",
        "    space1 = 5 if actual_tag == 'O'else 4\n",
        "    print(pred_tag,\"\\t\"*space, actual_tag, \"\\t\"*space1, correct,\"\\t\"*5, token)"
      ]
    },
    {
      "cell_type": "code",
      "execution_count": null,
      "metadata": {
        "id": "379kcA5_XHHl",
        "outputId": "d4b122f8-dc62-4daf-f62e-4e90d9123e99"
      },
      "outputs": [
        {
          "name": "stdout",
          "output_type": "stream",
          "text": [
            "[]\n",
            "Pred. Tag\tToken\n",
            "\n",
            "O \t\t The\n",
            "O \t\t will\n",
            "O \t\t deliver\n",
            "O \t\t a\n",
            "O \t\t speech\n",
            "O \t\t about\n",
            "O \t\t the\n",
            "O \t\t conflict\n",
            "O \t\t in\n",
            "B-LOC \t North\n",
            "I-LOC \t Korea\n",
            "O \t\t tomorrow\n",
            "O \t\t in\n",
            "B-LOC \t New\n",
            "I-LOC \t York\n",
            "O \t\t with\n",
            "O \t\t my\n",
            "O \t\t friend\n",
            "B-LOC \t Mary\n",
            "I-LOC \t Kate\n",
            "O \t\t .\n"
          ]
        }
      ],
      "source": [
        "sentence = 'The will deliver a speech about the conflict in North Korea tomorrow in New York with my friend Mary Kate.'\n",
        "tokens, tags, unks = tag_sentence(model,\n",
        "                                  device,\n",
        "                                  sentence,\n",
        "                                  TEXT,\n",
        "                                  TAG\n",
        "                                )\n",
        "\n",
        "print(unks)\n",
        "print(\"Pred. Tag\\tToken\\n\")\n",
        "\n",
        "\n",
        "for token, tag in zip(tokens, tags):\n",
        "    space = 2 if tag == 'O'else 1\n",
        "    print(tag, \"\\t\"*space, token)"
      ]
    },
    {
      "cell_type": "code",
      "execution_count": null,
      "metadata": {
        "id": "Kk2eXJ3nXHHm"
      },
      "outputs": [],
      "source": []
    }
  ]
}